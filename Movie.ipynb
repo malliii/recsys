{
 "cells": [
  {
   "cell_type": "code",
   "execution_count": 1,
   "metadata": {},
   "outputs": [],
   "source": [
    "import pandas as pd\n",
    "import os\n",
    "import random\n",
    "import glob\n",
    "import numpy as np\n",
    "import matplotlib.pyplot as plt\n",
    "import seaborn as sns\n",
    "import sklearn\n",
    "import glob\n",
    "from tqdm import tqdm"
   ]
  },
  {
   "attachments": {},
   "cell_type": "markdown",
   "metadata": {},
   "source": [
    "# 1. Introduction"
   ]
  },
  {
   "attachments": {},
   "cell_type": "markdown",
   "metadata": {},
   "source": [
    "This project is focused on building a movie recommendation system using collaborative filtering techniques. We have created recommender systems using singular value decomposition (SVD) and k-nearest neighbors (KNN).  The main goal is to provide personalized recommendations to users based on their past movie preferences and ratings.\n",
    "\n",
    "The dataset used in this project contains information about customer ratings for a large number of movies. At first data was pre-processed followed by Exploratory Data Analysis (EDA). Then we created a train/test and validation split for each movie in the dataset. \n",
    "\n",
    "For SVD recommender, we used the train set to train a matrix factorization model using singular value decomposition (SVD). We then create a recommender system that is based on movie-similarity to recomended top 5 movies to user based on their most recent and highest rated movie.\n",
    "\n",
    "For the KNN recommender, we reduced the dimensionality of the user-movie matrix using SVD. Using this reduced matrix, we create a recommender system that is based on user-similarity (in contrast to movie-similarity), and recommends movies to users based on the ratings of similar users and their rating history.\n",
    "\n",
    "Finally, we evaluate the performance of the recommendation system using the test data and calculate the root mean square error (RMSE) to measure the performance of each model.\n",
    "\n"
   ]
  },
  {
   "attachments": {},
   "cell_type": "markdown",
   "metadata": {},
   "source": [
    "## 1.1 Business Question: \n",
    "What is the best method to recommend highly relavant movies to users based on their movie ratings history?\n",
    "\n",
    "### 1.1.1 Sub questions:\n",
    "q1. Based on the most recently and highly rated movies by the user, how can we recommend more relevant movies to the user?\n",
    "\n",
    "q2. How can we utilize the preferences and rating history of other users to improve the quality of recommendation to the user?\n",
    "\n",
    "q3. How can we evaluate the effectiveness of different recommendation models for personalized movie recommendations?"
   ]
  },
  {
   "attachments": {},
   "cell_type": "markdown",
   "metadata": {},
   "source": [
    "# 2. Data pre-prosessing"
   ]
  },
  {
   "attachments": {},
   "cell_type": "markdown",
   "metadata": {},
   "source": [
    "In the data, we observed that some movie titles contained commas as separators, which conflicted with the CSV format we were using. Therefore, we made the decision to replace these commas with semicolons to maintain the integrity of the data in our CSV file.\n",
    "\n",
    "We also create a dictionary that contains movie IDs as keys and movie titles, along with their release year as values for use in final CSV creation."
   ]
  },
  {
   "cell_type": "code",
   "execution_count": 2,
   "metadata": {},
   "outputs": [],
   "source": [
    "#Import the movie titles text file and accoutning for the comma's that are present in the movie title column\n",
    "input_file = 'data/movie_titles_copy.txt'\n",
    "\n",
    "# Output_file will have the  modified version of the input file at the end (comma replaced by semicolon for movie title) \n",
    "output_file = 'data/movie_names.txt'\n",
    "\n",
    "# Assigning the new deliminator\n",
    "new_delimiter = ';'\n",
    "\n",
    "# Open two files, one for input and one for output\n",
    "with open(input_file, 'r') as f_in, open(output_file, 'w') as f_out:\n",
    "    \n",
    "    # Read each line of the input file, f_in\n",
    "    for line in f_in:\n",
    "        values = line.strip().split(',') # Split the line into a list of values, using comma as the delimiter\n",
    "        new_line = ','.join(values[:3]) # Join the first three values of the list into a new string separated by comma\n",
    "        \n",
    "        # Iterate over each value in the 'values' list, starting from the fourth value\n",
    "        for value in values[3:]:\n",
    "            new_value = value.replace(',', new_delimiter) # Replace any commas in the value with semicolon\n",
    "            new_line += new_delimiter + new_value # Concatenate semicolon and the modified value to the 'new_line' variable\n",
    "        \n",
    "        # Write the modified line of values to the output file, followed by a newline character\n",
    "        f_out.write(new_line+ '\\n')\n",
    "        \n",
    "#Converting movie_name.txt to a dict\n",
    "movie_title_df = pd.read_csv(output_file, encoding='UTF-8', names=['movie_id', 'year_of_relese', 'movie_name'])\n",
    "movie_dict = movie_title_df.set_index('movie_id').T.to_dict() # Set the 'movie_id' column as the index of the DataFrame and convert it to a dict"
   ]
  },
  {
   "attachments": {},
   "cell_type": "markdown",
   "metadata": {},
   "source": [
    "We extract unique customer IDs from all the text files present in the specified directory and its subdirectories. Glob is used to find all the .txt files in the specified directory so that the code can iterate over each of these files and read in their contents. The tqdm library is used to show the progress bar during the loop iteration."
   ]
  },
  {
   "cell_type": "code",
   "execution_count": 3,
   "metadata": {},
   "outputs": [
    {
     "name": "stderr",
     "output_type": "stream",
     "text": [
      "100%|██████████| 17770/17770 [00:58<00:00, 306.30it/s]\n"
     ]
    }
   ],
   "source": [
    "# Get a list of all .txt files in a directory using the glob function\n",
    "files = glob.glob('data/training_set/' + '*.txt')\n",
    "customers = set() # Create an empty set to store customer IDs\n",
    "for file_name in tqdm(files): # Progress bar\n",
    "    with open(file_name, 'r') as f: # Open the file in read mode\n",
    "        lines = f.readlines() # Read all lines in the file into a list\n",
    "        # Iterate over each line in the list of lines, starting from the second line\n",
    "        for line in lines[1:]:\n",
    "            customer_id, rating, date = line.strip().split(',') # Split the line into three values using comma as the delimiter, and assign them to variables\n",
    "            customers.add(customer_id) # Add the customer ID to the set of customer IDs\n"
   ]
  },
  {
   "attachments": {},
   "cell_type": "markdown",
   "metadata": {},
   "source": [
    "We randomly selected 1000 movies and used them to create a new dataframe that combines various information, including movie ID, title, year of release, customer ID, rating, and rating date."
   ]
  },
  {
   "cell_type": "code",
   "execution_count": 4,
   "metadata": {},
   "outputs": [
    {
     "name": "stdout",
     "output_type": "stream",
     "text": [
      "Total files: 17770\n"
     ]
    },
    {
     "name": "stderr",
     "output_type": "stream",
     "text": [
      "100%|██████████| 1000/1000 [00:12<00:00, 79.91it/s]\n"
     ]
    }
   ],
   "source": [
    "# Find all the files with a \".txt\" extension in the specified directory\n",
    "files = glob.glob('data/training_set/' + '*.txt')\n",
    "print('Total files:', len(files)) # Print the total number of files found\n",
    "\n",
    "# Seed the random number generator and randomly select 1000 files\n",
    "random.seed(45)\n",
    "files = random.sample(files, 1000)\n",
    "\n",
    "# Initialize an empty list to hold the data\n",
    "data = []\n",
    "\n",
    "# Iterate over each file and read its contents\n",
    "for file_name in tqdm(files):\n",
    "    with open(file_name, 'r') as f:\n",
    "        lines = f.readlines()\n",
    "        movie_id = int(lines[0].split(':')[0])\n",
    "        year_of_release = movie_dict[movie_id]['year_of_relese']\n",
    "        movie_name = movie_dict[movie_id]['movie_name']\n",
    "\n",
    "        # For each line in the file, extract the customer ID, rating, and date\n",
    "        for line in lines[1:]:\n",
    "            customer_id, rating, date = line.strip().split(',')\n",
    "           # Append the extracted data to the list\n",
    "            data.append([movie_id, movie_name, year_of_release, customer_id, rating, date])\n",
    "# Convert the list of data into a pandas dataframe\n",
    "df = pd.DataFrame(data, columns=['movie_id', 'movie_name', 'year_of_release', 'customer_id', 'rating', 'rating_date'])\n",
    "# Write the dataframe to a CSV file\n",
    "df.to_csv('final-data.csv', index=False)"
   ]
  },
  {
   "cell_type": "code",
   "execution_count": 76,
   "metadata": {},
   "outputs": [
    {
     "data": {
      "text/html": [
       "<div>\n",
       "<style scoped>\n",
       "    .dataframe tbody tr th:only-of-type {\n",
       "        vertical-align: middle;\n",
       "    }\n",
       "\n",
       "    .dataframe tbody tr th {\n",
       "        vertical-align: top;\n",
       "    }\n",
       "\n",
       "    .dataframe thead th {\n",
       "        text-align: right;\n",
       "    }\n",
       "</style>\n",
       "<table border=\"1\" class=\"dataframe\">\n",
       "  <thead>\n",
       "    <tr style=\"text-align: right;\">\n",
       "      <th></th>\n",
       "      <th>movie_id</th>\n",
       "      <th>movie_name</th>\n",
       "      <th>year_of_release</th>\n",
       "      <th>customer_id</th>\n",
       "      <th>rating</th>\n",
       "      <th>rating_date</th>\n",
       "    </tr>\n",
       "  </thead>\n",
       "  <tbody>\n",
       "    <tr>\n",
       "      <th>0</th>\n",
       "      <td>6740</td>\n",
       "      <td>Cover Story</td>\n",
       "      <td>2002.0</td>\n",
       "      <td>2503129</td>\n",
       "      <td>3</td>\n",
       "      <td>2005-04-18</td>\n",
       "    </tr>\n",
       "    <tr>\n",
       "      <th>1</th>\n",
       "      <td>6740</td>\n",
       "      <td>Cover Story</td>\n",
       "      <td>2002.0</td>\n",
       "      <td>672200</td>\n",
       "      <td>2</td>\n",
       "      <td>2005-05-02</td>\n",
       "    </tr>\n",
       "    <tr>\n",
       "      <th>2</th>\n",
       "      <td>6740</td>\n",
       "      <td>Cover Story</td>\n",
       "      <td>2002.0</td>\n",
       "      <td>1040726</td>\n",
       "      <td>1</td>\n",
       "      <td>2005-07-14</td>\n",
       "    </tr>\n",
       "    <tr>\n",
       "      <th>3</th>\n",
       "      <td>6740</td>\n",
       "      <td>Cover Story</td>\n",
       "      <td>2002.0</td>\n",
       "      <td>1146509</td>\n",
       "      <td>2</td>\n",
       "      <td>2005-08-03</td>\n",
       "    </tr>\n",
       "    <tr>\n",
       "      <th>4</th>\n",
       "      <td>6740</td>\n",
       "      <td>Cover Story</td>\n",
       "      <td>2002.0</td>\n",
       "      <td>429787</td>\n",
       "      <td>2</td>\n",
       "      <td>2005-04-05</td>\n",
       "    </tr>\n",
       "    <tr>\n",
       "      <th>...</th>\n",
       "      <td>...</td>\n",
       "      <td>...</td>\n",
       "      <td>...</td>\n",
       "      <td>...</td>\n",
       "      <td>...</td>\n",
       "      <td>...</td>\n",
       "    </tr>\n",
       "    <tr>\n",
       "      <th>5634637</th>\n",
       "      <td>8585</td>\n",
       "      <td>Mad Max</td>\n",
       "      <td>1979.0</td>\n",
       "      <td>1201780</td>\n",
       "      <td>1</td>\n",
       "      <td>2005-11-16</td>\n",
       "    </tr>\n",
       "    <tr>\n",
       "      <th>5634638</th>\n",
       "      <td>8585</td>\n",
       "      <td>Mad Max</td>\n",
       "      <td>1979.0</td>\n",
       "      <td>676036</td>\n",
       "      <td>4</td>\n",
       "      <td>2005-11-16</td>\n",
       "    </tr>\n",
       "    <tr>\n",
       "      <th>5634639</th>\n",
       "      <td>8585</td>\n",
       "      <td>Mad Max</td>\n",
       "      <td>1979.0</td>\n",
       "      <td>1510468</td>\n",
       "      <td>5</td>\n",
       "      <td>2005-12-17</td>\n",
       "    </tr>\n",
       "    <tr>\n",
       "      <th>5634640</th>\n",
       "      <td>8585</td>\n",
       "      <td>Mad Max</td>\n",
       "      <td>1979.0</td>\n",
       "      <td>1096416</td>\n",
       "      <td>4</td>\n",
       "      <td>2005-12-29</td>\n",
       "    </tr>\n",
       "    <tr>\n",
       "      <th>5634641</th>\n",
       "      <td>8585</td>\n",
       "      <td>Mad Max</td>\n",
       "      <td>1979.0</td>\n",
       "      <td>359157</td>\n",
       "      <td>3</td>\n",
       "      <td>2005-12-30</td>\n",
       "    </tr>\n",
       "  </tbody>\n",
       "</table>\n",
       "<p>5634642 rows × 6 columns</p>\n",
       "</div>"
      ],
      "text/plain": [
       "         movie_id   movie_name  year_of_release customer_id rating rating_date\n",
       "0            6740  Cover Story           2002.0     2503129      3  2005-04-18\n",
       "1            6740  Cover Story           2002.0      672200      2  2005-05-02\n",
       "2            6740  Cover Story           2002.0     1040726      1  2005-07-14\n",
       "3            6740  Cover Story           2002.0     1146509      2  2005-08-03\n",
       "4            6740  Cover Story           2002.0      429787      2  2005-04-05\n",
       "...           ...          ...              ...         ...    ...         ...\n",
       "5634637      8585      Mad Max           1979.0     1201780      1  2005-11-16\n",
       "5634638      8585      Mad Max           1979.0      676036      4  2005-11-16\n",
       "5634639      8585      Mad Max           1979.0     1510468      5  2005-12-17\n",
       "5634640      8585      Mad Max           1979.0     1096416      4  2005-12-29\n",
       "5634641      8585      Mad Max           1979.0      359157      3  2005-12-30\n",
       "\n",
       "[5634642 rows x 6 columns]"
      ]
     },
     "execution_count": 76,
     "metadata": {},
     "output_type": "execute_result"
    }
   ],
   "source": [
    "df"
   ]
  },
  {
   "attachments": {},
   "cell_type": "markdown",
   "metadata": {},
   "source": [
    "# 3. EDA"
   ]
  },
  {
   "attachments": {},
   "cell_type": "markdown",
   "metadata": {},
   "source": [
    "Exploratory Data Analysis (EDA) is done on data to get an understanding of the data and to identify patterns, relationships, and anomalies in the data. In the context of a this project, EDA helps to identify any data quality issues and the suitability of the data for the intended analysis."
   ]
  },
  {
   "cell_type": "code",
   "execution_count": 79,
   "metadata": {},
   "outputs": [],
   "source": [
    "# Read the final-data.csv file and store it in df\n",
    "df = pd.read_csv('final-data.csv')"
   ]
  },
  {
   "cell_type": "code",
   "execution_count": 80,
   "metadata": {},
   "outputs": [
    {
     "data": {
      "text/html": [
       "<div>\n",
       "<style scoped>\n",
       "    .dataframe tbody tr th:only-of-type {\n",
       "        vertical-align: middle;\n",
       "    }\n",
       "\n",
       "    .dataframe tbody tr th {\n",
       "        vertical-align: top;\n",
       "    }\n",
       "\n",
       "    .dataframe thead th {\n",
       "        text-align: right;\n",
       "    }\n",
       "</style>\n",
       "<table border=\"1\" class=\"dataframe\">\n",
       "  <thead>\n",
       "    <tr style=\"text-align: right;\">\n",
       "      <th></th>\n",
       "      <th>movie_id</th>\n",
       "      <th>movie_name</th>\n",
       "      <th>year_of_release</th>\n",
       "      <th>customer_id</th>\n",
       "      <th>rating</th>\n",
       "      <th>rating_date</th>\n",
       "    </tr>\n",
       "  </thead>\n",
       "  <tbody>\n",
       "    <tr>\n",
       "      <th>0</th>\n",
       "      <td>6740</td>\n",
       "      <td>Cover Story</td>\n",
       "      <td>2002.0</td>\n",
       "      <td>2503129</td>\n",
       "      <td>3</td>\n",
       "      <td>2005-04-18</td>\n",
       "    </tr>\n",
       "    <tr>\n",
       "      <th>1</th>\n",
       "      <td>6740</td>\n",
       "      <td>Cover Story</td>\n",
       "      <td>2002.0</td>\n",
       "      <td>672200</td>\n",
       "      <td>2</td>\n",
       "      <td>2005-05-02</td>\n",
       "    </tr>\n",
       "    <tr>\n",
       "      <th>2</th>\n",
       "      <td>6740</td>\n",
       "      <td>Cover Story</td>\n",
       "      <td>2002.0</td>\n",
       "      <td>1040726</td>\n",
       "      <td>1</td>\n",
       "      <td>2005-07-14</td>\n",
       "    </tr>\n",
       "    <tr>\n",
       "      <th>3</th>\n",
       "      <td>6740</td>\n",
       "      <td>Cover Story</td>\n",
       "      <td>2002.0</td>\n",
       "      <td>1146509</td>\n",
       "      <td>2</td>\n",
       "      <td>2005-08-03</td>\n",
       "    </tr>\n",
       "    <tr>\n",
       "      <th>4</th>\n",
       "      <td>6740</td>\n",
       "      <td>Cover Story</td>\n",
       "      <td>2002.0</td>\n",
       "      <td>429787</td>\n",
       "      <td>2</td>\n",
       "      <td>2005-04-05</td>\n",
       "    </tr>\n",
       "  </tbody>\n",
       "</table>\n",
       "</div>"
      ],
      "text/plain": [
       "   movie_id   movie_name  year_of_release  customer_id  rating rating_date\n",
       "0      6740  Cover Story           2002.0      2503129       3  2005-04-18\n",
       "1      6740  Cover Story           2002.0       672200       2  2005-05-02\n",
       "2      6740  Cover Story           2002.0      1040726       1  2005-07-14\n",
       "3      6740  Cover Story           2002.0      1146509       2  2005-08-03\n",
       "4      6740  Cover Story           2002.0       429787       2  2005-04-05"
      ]
     },
     "execution_count": 80,
     "metadata": {},
     "output_type": "execute_result"
    }
   ],
   "source": [
    "# Display the first few rows of the dataframe\n",
    "df.head() "
   ]
  },
  {
   "cell_type": "code",
   "execution_count": 81,
   "metadata": {},
   "outputs": [
    {
     "data": {
      "text/plain": [
       "(5634642, 6)"
      ]
     },
     "execution_count": 81,
     "metadata": {},
     "output_type": "execute_result"
    }
   ],
   "source": [
    "# Display the number of rows and columns in the dataframe\n",
    "df.shape"
   ]
  },
  {
   "cell_type": "code",
   "execution_count": 82,
   "metadata": {},
   "outputs": [
    {
     "data": {
      "text/plain": [
       "439698"
      ]
     },
     "execution_count": 82,
     "metadata": {},
     "output_type": "execute_result"
    }
   ],
   "source": [
    "# Checking number of customers \n",
    "len(df['customer_id'].unique())"
   ]
  },
  {
   "cell_type": "code",
   "execution_count": 84,
   "metadata": {},
   "outputs": [
    {
     "name": "stdout",
     "output_type": "stream",
     "text": [
      "<class 'pandas.core.frame.DataFrame'>\n",
      "RangeIndex: 5634642 entries, 0 to 5634641\n",
      "Data columns (total 6 columns):\n",
      " #   Column           Dtype  \n",
      "---  ------           -----  \n",
      " 0   movie_id         int64  \n",
      " 1   movie_name       object \n",
      " 2   year_of_release  float64\n",
      " 3   customer_id      int64  \n",
      " 4   rating           int64  \n",
      " 5   rating_date      object \n",
      "dtypes: float64(1), int64(3), object(2)\n",
      "memory usage: 257.9+ MB\n"
     ]
    }
   ],
   "source": [
    "# Display the information about the dataframe (data types, non-null values, etc.)\n",
    "df.info() \n"
   ]
  },
  {
   "cell_type": "code",
   "execution_count": 11,
   "metadata": {},
   "outputs": [
    {
     "name": "stdout",
     "output_type": "stream",
     "text": [
      "movie_id           0.000000\n",
      "movie_name         0.000000\n",
      "year_of_release    0.003461\n",
      "customer_id        0.000000\n",
      "rating             0.000000\n",
      "rating_date        0.000000\n",
      "dtype: float64\n"
     ]
    }
   ],
   "source": [
    "#checking null value\n",
    "null_percentage = df.isna().mean() * 100 #checking the pergentage of null value\n",
    "print(null_percentage)"
   ]
  },
  {
   "cell_type": "code",
   "execution_count": 85,
   "metadata": {},
   "outputs": [],
   "source": [
    "# Drops all the rows in the 'year_of_release' where the value is Nan\n",
    "df.dropna(subset=['year_of_release'], inplace=True)"
   ]
  },
  {
   "cell_type": "code",
   "execution_count": 13,
   "metadata": {},
   "outputs": [
    {
     "name": "stdout",
     "output_type": "stream",
     "text": [
      "movie_id           0.0\n",
      "movie_name         0.0\n",
      "year_of_release    0.0\n",
      "customer_id        0.0\n",
      "rating             0.0\n",
      "rating_date        0.0\n",
      "dtype: float64\n"
     ]
    }
   ],
   "source": [
    "#checking null value\n",
    "null_percentage = df.isna().mean() * 100 #checking the pergentage of null value\n",
    "print(null_percentage)"
   ]
  },
  {
   "cell_type": "code",
   "execution_count": 86,
   "metadata": {},
   "outputs": [],
   "source": [
    "# Converting customer_id, year_of_release to int\n",
    "df['customer_id'] = df['customer_id'].astype(int)\n",
    "df['year_of_release'] = df['year_of_release'].astype(int)"
   ]
  },
  {
   "cell_type": "code",
   "execution_count": 90,
   "metadata": {},
   "outputs": [
    {
     "name": "stdout",
     "output_type": "stream",
     "text": [
      "<class 'pandas.core.frame.DataFrame'>\n",
      "Int64Index: 5634447 entries, 0 to 5634641\n",
      "Data columns (total 6 columns):\n",
      " #   Column           Dtype \n",
      "---  ------           ----- \n",
      " 0   movie_id         int64 \n",
      " 1   movie_name       object\n",
      " 2   year_of_release  int64 \n",
      " 3   customer_id      int64 \n",
      " 4   rating           int64 \n",
      " 5   rating_date      object\n",
      "dtypes: int64(4), object(2)\n",
      "memory usage: 300.9+ MB\n"
     ]
    }
   ],
   "source": [
    "# Displays data type of the columns\n",
    "df.info()"
   ]
  },
  {
   "cell_type": "code",
   "execution_count": 91,
   "metadata": {},
   "outputs": [
    {
     "data": {
      "text/html": [
       "<div>\n",
       "<style scoped>\n",
       "    .dataframe tbody tr th:only-of-type {\n",
       "        vertical-align: middle;\n",
       "    }\n",
       "\n",
       "    .dataframe tbody tr th {\n",
       "        vertical-align: top;\n",
       "    }\n",
       "\n",
       "    .dataframe thead th {\n",
       "        text-align: right;\n",
       "    }\n",
       "</style>\n",
       "<table border=\"1\" class=\"dataframe\">\n",
       "  <thead>\n",
       "    <tr style=\"text-align: right;\">\n",
       "      <th></th>\n",
       "      <th>movie_id</th>\n",
       "      <th>year_of_release</th>\n",
       "      <th>customer_id</th>\n",
       "      <th>rating</th>\n",
       "    </tr>\n",
       "  </thead>\n",
       "  <tbody>\n",
       "    <tr>\n",
       "      <th>count</th>\n",
       "      <td>5.634447e+06</td>\n",
       "      <td>5.634447e+06</td>\n",
       "      <td>5.634447e+06</td>\n",
       "      <td>5.634447e+06</td>\n",
       "    </tr>\n",
       "    <tr>\n",
       "      <th>mean</th>\n",
       "      <td>1.012785e+04</td>\n",
       "      <td>1.995257e+03</td>\n",
       "      <td>1.322103e+06</td>\n",
       "      <td>3.593272e+00</td>\n",
       "    </tr>\n",
       "    <tr>\n",
       "      <th>std</th>\n",
       "      <td>5.205068e+03</td>\n",
       "      <td>1.102320e+01</td>\n",
       "      <td>7.644214e+05</td>\n",
       "      <td>1.089394e+00</td>\n",
       "    </tr>\n",
       "    <tr>\n",
       "      <th>min</th>\n",
       "      <td>5.600000e+01</td>\n",
       "      <td>1.919000e+03</td>\n",
       "      <td>6.000000e+00</td>\n",
       "      <td>1.000000e+00</td>\n",
       "    </tr>\n",
       "    <tr>\n",
       "      <th>25%</th>\n",
       "      <td>5.104000e+03</td>\n",
       "      <td>1.993000e+03</td>\n",
       "      <td>6.611490e+05</td>\n",
       "      <td>3.000000e+00</td>\n",
       "    </tr>\n",
       "    <tr>\n",
       "      <th>50%</th>\n",
       "      <td>1.126500e+04</td>\n",
       "      <td>1.999000e+03</td>\n",
       "      <td>1.318378e+06</td>\n",
       "      <td>4.000000e+00</td>\n",
       "    </tr>\n",
       "    <tr>\n",
       "      <th>75%</th>\n",
       "      <td>1.436900e+04</td>\n",
       "      <td>2.002000e+03</td>\n",
       "      <td>1.983668e+06</td>\n",
       "      <td>4.000000e+00</td>\n",
       "    </tr>\n",
       "    <tr>\n",
       "      <th>max</th>\n",
       "      <td>1.775200e+04</td>\n",
       "      <td>2.005000e+03</td>\n",
       "      <td>2.649429e+06</td>\n",
       "      <td>5.000000e+00</td>\n",
       "    </tr>\n",
       "  </tbody>\n",
       "</table>\n",
       "</div>"
      ],
      "text/plain": [
       "           movie_id  year_of_release   customer_id        rating\n",
       "count  5.634447e+06     5.634447e+06  5.634447e+06  5.634447e+06\n",
       "mean   1.012785e+04     1.995257e+03  1.322103e+06  3.593272e+00\n",
       "std    5.205068e+03     1.102320e+01  7.644214e+05  1.089394e+00\n",
       "min    5.600000e+01     1.919000e+03  6.000000e+00  1.000000e+00\n",
       "25%    5.104000e+03     1.993000e+03  6.611490e+05  3.000000e+00\n",
       "50%    1.126500e+04     1.999000e+03  1.318378e+06  4.000000e+00\n",
       "75%    1.436900e+04     2.002000e+03  1.983668e+06  4.000000e+00\n",
       "max    1.775200e+04     2.005000e+03  2.649429e+06  5.000000e+00"
      ]
     },
     "execution_count": 91,
     "metadata": {},
     "output_type": "execute_result"
    }
   ],
   "source": [
    "# Display the summary statistics of the numerical columns\n",
    "df.describe()  "
   ]
  },
  {
   "cell_type": "code",
   "execution_count": 93,
   "metadata": {},
   "outputs": [
    {
     "data": {
      "image/png": "[encoded data removed]",
      "text/plain": [
       "<Figure size 2400x800 with 1 Axes>"
      ]
     },
     "metadata": {},
     "output_type": "display_data"
    }
   ],
   "source": [
    "# Count plot of the movies per year release (only the ones that are rated atleast 1000)\n",
    "filtered = df.groupby('year_of_release').filter(lambda x: x['year_of_release'].count() > 1000)\n",
    "\n",
    "# Plot\n",
    "plt.figure(figsize=(24,8))\n",
    "sns.countplot(x='year_of_release', data=filtered)\n",
    "plt.show()"
   ]
  },
  {
   "attachments": {},
   "cell_type": "markdown",
   "metadata": {},
   "source": [
    "Highest numbers of movies were relesed on 2003"
   ]
  },
  {
   "cell_type": "code",
   "execution_count": 94,
   "metadata": {},
   "outputs": [
    {
     "data": {
      "image/png": "[encoded data removed]",
      "text/plain": [
       "<Figure size 640x480 with 1 Axes>"
      ]
     },
     "metadata": {},
     "output_type": "display_data"
    }
   ],
   "source": [
    "# group the ratings by year and take the mean\n",
    "ratings_per_year = df.groupby('year_of_release')['rating'].mean()\n",
    "\n",
    "# plot the average/mean ratings per year\n",
    "plt.plot(ratings_per_year.index, ratings_per_year.values)\n",
    "plt.xlabel('Year')\n",
    "plt.ylabel('Average rating')\n",
    "plt.title('Average rating per year')\n",
    "plt.show()"
   ]
  },
  {
   "attachments": {},
   "cell_type": "markdown",
   "metadata": {},
   "source": [
    "Here we can see that movies from 1970's have higest average ratings."
   ]
  },
  {
   "cell_type": "code",
   "execution_count": 95,
   "metadata": {},
   "outputs": [
    {
     "data": {
      "image/png": "[encoded data removed]",
      "text/plain": [
       "<Figure size 640x480 with 1 Axes>"
      ]
     },
     "metadata": {},
     "output_type": "display_data"
    }
   ],
   "source": [
    "# plotting highly rated top 10 movies among the users based on their mean rating\n",
    "top_movies = df.groupby('movie_id')['rating'].mean().sort_values(ascending=False)[:10]\n",
    "top_movies = df.loc[df['movie_id'].isin(top_movies.index)]\n",
    "\n",
    "sns.barplot(x='movie_name', y='rating', data=top_movies, errorbar=None)\n",
    "plt.xticks(rotation=90)\n",
    "plt.show()"
   ]
  },
  {
   "attachments": {},
   "cell_type": "markdown",
   "metadata": {},
   "source": [
    "Checking the distribution of movies and users in the dataset."
   ]
  },
  {
   "cell_type": "code",
   "execution_count": 98,
   "metadata": {},
   "outputs": [
    {
     "data": {
      "text/plain": [
       "16377    181426\n",
       "9340     173596\n",
       "11521    151245\n",
       "12911    147661\n",
       "12582    143682\n",
       "          ...  \n",
       "7842         56\n",
       "1858         54\n",
       "3656         42\n",
       "15587        37\n",
       "8858         36\n",
       "Name: movie_id, Length: 999, dtype: int64"
      ]
     },
     "execution_count": 98,
     "metadata": {},
     "output_type": "execute_result"
    }
   ],
   "source": [
    " df['movie_id'].value_counts()"
   ]
  },
  {
   "cell_type": "code",
   "execution_count": 20,
   "metadata": {},
   "outputs": [
    {
     "data": {
      "image/png": "[encoded data removed]",
      "text/plain": [
       "<Figure size 1000x500 with 2 Axes>"
      ]
     },
     "metadata": {},
     "output_type": "display_data"
    }
   ],
   "source": [
    "# Count the occurrences of each movie ID and user ID\n",
    "movie_counts = df['movie_id'].value_counts()\n",
    "user_counts = df['customer_id'].value_counts()\n",
    "\n",
    "# Create a figure with two subplots\n",
    "fig, axs = plt.subplots(1, 2, figsize=(10, 5))\n",
    "\n",
    "# Plot the movie distribution on the first subplot\n",
    "axs[0].hist(movie_counts, bins=50)\n",
    "axs[0].set_title('Movie Distribution')\n",
    "axs[0].set_xlabel('Number of ratings')\n",
    "axs[0].set_ylabel('Number of movies')\n",
    "\n",
    "# Plot the user distribution on the second subplot\n",
    "axs[1].hist(user_counts, bins=50)\n",
    "axs[1].set_title('User Distribution')\n",
    "axs[1].set_xlabel('Number of ratings')\n",
    "axs[1].set_ylabel('Number of users')\n",
    "\n",
    "# Show the plot\n",
    "plt.show()\n",
    "\n"
   ]
  },
  {
   "attachments": {},
   "cell_type": "markdown",
   "metadata": {},
   "source": [
    "Here we can see majority of movies are rated once. Also, majority of users rate only one movie."
   ]
  },
  {
   "cell_type": "code",
   "execution_count": 99,
   "metadata": {},
   "outputs": [
    {
     "data": {
      "image/png": "[encoded data removed]",
      "text/plain": [
       "<Figure size 640x480 with 1 Axes>"
      ]
     },
     "metadata": {},
     "output_type": "display_data"
    }
   ],
   "source": [
    "# Checking the distribution of ratings in the dataset.\n",
    "rating_counts = df['rating'].value_counts()\n",
    "\n",
    "# Sort the counts by rating value\n",
    "rating_counts = rating_counts.sort_index()\n",
    "\n",
    "# Plot the frequency of each rating\n",
    "plt.bar(rating_counts.index, rating_counts.values)\n",
    "plt.title('Rating Frequency')\n",
    "plt.xlabel('Rating')\n",
    "plt.ylabel('Frequency')\n",
    "plt.show()"
   ]
  },
  {
   "attachments": {},
   "cell_type": "markdown",
   "metadata": {},
   "source": [
    "Here we can see the most popular rating is 4"
   ]
  },
  {
   "attachments": {},
   "cell_type": "markdown",
   "metadata": {},
   "source": [
    "# 4. Test/Train/Validation split"
   ]
  },
  {
   "attachments": {},
   "cell_type": "markdown",
   "metadata": {},
   "source": [
    "We sample the top 10% of users who have given the most ratings to reduce the data size. We then group the data by movie id, and for each movie id we sample data to create train, test and validation set so that all the movies are included in all three splits."
   ]
  },
  {
   "cell_type": "code",
   "execution_count": 103,
   "metadata": {},
   "outputs": [],
   "source": [
    "# Calculate the count of ratings for each user\n",
    "uer_count_ratings = df.groupby('customer_id')['rating'].count().reset_index()\n",
    "\n",
    "# Sort the users by their count of rating in descending order\n",
    "uer_count_ratings = uer_count_ratings.sort_values(by='rating', ascending=False)\n",
    "\n",
    "# Select the top 10% of users based on their number of rating\n",
    "n_top_users = int(len(uer_count_ratings) * 0.10)\n",
    "top_users = uer_count_ratings.head(n_top_users)['customer_id'].values\n"
   ]
  },
  {
   "cell_type": "code",
   "execution_count": 107,
   "metadata": {},
   "outputs": [
    {
     "data": {
      "text/plain": [
       "43969"
      ]
     },
     "execution_count": 107,
     "metadata": {},
     "output_type": "execute_result"
    }
   ],
   "source": [
    "# checking the length of top users.\n",
    "len(top_users)"
   ]
  },
  {
   "cell_type": "code",
   "execution_count": 108,
   "metadata": {},
   "outputs": [],
   "source": [
    "# Create empty lists to hold train, test, and validation data\n",
    "train_data, test_data, val_data = [], [], []\n",
    "\n",
    "# Group the dataframe by movie ID and iterate over each group\n",
    "for movie_id, movie_df in df.groupby('movie_id'):\n",
    "    movie_df = movie_df[movie_df['customer_id'].isin(top_users)]\n",
    "\n",
    "    # Split the filtered dataframe into train, test, and validation sets\n",
    "    train = movie_df.sample(frac=0.8, random_state=200)\n",
    "    temp = movie_df.drop(train. index)\n",
    "    test = temp.sample(frac=0.5, random_state=200)\n",
    "    val = temp.drop(test.index)\n",
    "\n",
    "    # Check that each set has at least one entry and append them to their respective lists\n",
    "    if len(train) < 1 or len(test) < 1 or len(val) < 1:\n",
    "        continue\n",
    "    train_data.append(train[:100])\n",
    "    test_data.append(test)\n",
    "    val_data.append(val)"
   ]
  },
  {
   "cell_type": "code",
   "execution_count": 109,
   "metadata": {},
   "outputs": [
    {
     "data": {
      "text/plain": [
       "((86119, 6), (230304, 6), (230281, 6))"
      ]
     },
     "execution_count": 109,
     "metadata": {},
     "output_type": "execute_result"
    }
   ],
   "source": [
    "# combining these smaller DataFrames into larger ones that contain all the training, testing and validation data, respectively\n",
    "train_df = pd.concat (train_data)\n",
    "test_df = pd. concat (test_data)\n",
    "val_df = pd.concat(val_data)\n",
    "\n",
    "train_df.shape, test_df.shape, val_df.shape"
   ]
  },
  {
   "cell_type": "code",
   "execution_count": 110,
   "metadata": {},
   "outputs": [
    {
     "data": {
      "text/plain": [
       "(999, 999, 999)"
      ]
     },
     "execution_count": 110,
     "metadata": {},
     "output_type": "execute_result"
    }
   ],
   "source": [
    "# checking the length of column in test and train dataframe\n",
    "len(train_df['movie_id'].unique()), len(test_df['movie_id'].unique()), len(val_df['movie_id'].unique())"
   ]
  },
  {
   "attachments": {},
   "cell_type": "markdown",
   "metadata": {},
   "source": [
    "Here we can see that train_df, test_df and val_df has equal number of movies i.e. 999 movies."
   ]
  },
  {
   "attachments": {},
   "cell_type": "markdown",
   "metadata": {},
   "source": [
    "# 5. Recommender system using SVD"
   ]
  },
  {
   "attachments": {},
   "cell_type": "markdown",
   "metadata": {},
   "source": [
    "We have created a movie based SVD Reccomender system. We choose the customer's most recent highest rated movie and recommend top 5 movies based on that to that customer.\n",
    "\n",
    "To build a recommendation system, we need to transform this tabular data into a matrix where each row represents a user, each column represents a movie, and each entry in the matrix represents the rating given by the user to the movie. This matrix is called a user-item-rating matrix for 'train_df'.All users will not have rated every movie in the dataset, so there will be missing values in the matrix which is replaced by 0.\n"
   ]
  },
  {
   "attachments": {},
   "cell_type": "markdown",
   "metadata": {},
   "source": [
    "we can make use of “pivot table” function in pandas to convert df into a required matrixes.\n",
    "\n",
    "https://machinelearningmastery.com/using-singular-value-decomposition-to-build-a-recommender-system/"
   ]
  },
  {
   "cell_type": "code",
   "execution_count": 16,
   "metadata": {},
   "outputs": [],
   "source": [
    "# transforming 'train_df' into a user-movie matrix\n",
    "train_matrix = train_df.pivot(index=\"customer_id\", columns=\"movie_id\", values=\"rating\").fillna(0)"
   ]
  },
  {
   "cell_type": "code",
   "execution_count": 17,
   "metadata": {},
   "outputs": [
    {
     "data": {
      "text/html": [
       "<div>\n",
       "<style scoped>\n",
       "    .dataframe tbody tr th:only-of-type {\n",
       "        vertical-align: middle;\n",
       "    }\n",
       "\n",
       "    .dataframe tbody tr th {\n",
       "        vertical-align: top;\n",
       "    }\n",
       "\n",
       "    .dataframe thead th {\n",
       "        text-align: right;\n",
       "    }\n",
       "</style>\n",
       "<table border=\"1\" class=\"dataframe\">\n",
       "  <thead>\n",
       "    <tr style=\"text-align: right;\">\n",
       "      <th>movie_id</th>\n",
       "      <th>56</th>\n",
       "      <th>104</th>\n",
       "      <th>106</th>\n",
       "      <th>156</th>\n",
       "      <th>170</th>\n",
       "      <th>199</th>\n",
       "      <th>215</th>\n",
       "      <th>297</th>\n",
       "      <th>311</th>\n",
       "      <th>323</th>\n",
       "      <th>...</th>\n",
       "      <th>17562</th>\n",
       "      <th>17589</th>\n",
       "      <th>17599</th>\n",
       "      <th>17622</th>\n",
       "      <th>17646</th>\n",
       "      <th>17661</th>\n",
       "      <th>17678</th>\n",
       "      <th>17713</th>\n",
       "      <th>17741</th>\n",
       "      <th>17752</th>\n",
       "    </tr>\n",
       "    <tr>\n",
       "      <th>customer_id</th>\n",
       "      <th></th>\n",
       "      <th></th>\n",
       "      <th></th>\n",
       "      <th></th>\n",
       "      <th></th>\n",
       "      <th></th>\n",
       "      <th></th>\n",
       "      <th></th>\n",
       "      <th></th>\n",
       "      <th></th>\n",
       "      <th></th>\n",
       "      <th></th>\n",
       "      <th></th>\n",
       "      <th></th>\n",
       "      <th></th>\n",
       "      <th></th>\n",
       "      <th></th>\n",
       "      <th></th>\n",
       "      <th></th>\n",
       "      <th></th>\n",
       "      <th></th>\n",
       "    </tr>\n",
       "  </thead>\n",
       "  <tbody>\n",
       "    <tr>\n",
       "      <th>134</th>\n",
       "      <td>0.0</td>\n",
       "      <td>0.0</td>\n",
       "      <td>0.0</td>\n",
       "      <td>0.0</td>\n",
       "      <td>0.0</td>\n",
       "      <td>0.0</td>\n",
       "      <td>0.0</td>\n",
       "      <td>0.0</td>\n",
       "      <td>0.0</td>\n",
       "      <td>0.0</td>\n",
       "      <td>...</td>\n",
       "      <td>0.0</td>\n",
       "      <td>0.0</td>\n",
       "      <td>0.0</td>\n",
       "      <td>0.0</td>\n",
       "      <td>0.0</td>\n",
       "      <td>0.0</td>\n",
       "      <td>0.0</td>\n",
       "      <td>0.0</td>\n",
       "      <td>0.0</td>\n",
       "      <td>0.0</td>\n",
       "    </tr>\n",
       "    <tr>\n",
       "      <th>479</th>\n",
       "      <td>0.0</td>\n",
       "      <td>0.0</td>\n",
       "      <td>0.0</td>\n",
       "      <td>0.0</td>\n",
       "      <td>0.0</td>\n",
       "      <td>0.0</td>\n",
       "      <td>0.0</td>\n",
       "      <td>0.0</td>\n",
       "      <td>0.0</td>\n",
       "      <td>0.0</td>\n",
       "      <td>...</td>\n",
       "      <td>0.0</td>\n",
       "      <td>0.0</td>\n",
       "      <td>0.0</td>\n",
       "      <td>0.0</td>\n",
       "      <td>0.0</td>\n",
       "      <td>0.0</td>\n",
       "      <td>0.0</td>\n",
       "      <td>0.0</td>\n",
       "      <td>0.0</td>\n",
       "      <td>0.0</td>\n",
       "    </tr>\n",
       "    <tr>\n",
       "      <th>495</th>\n",
       "      <td>0.0</td>\n",
       "      <td>0.0</td>\n",
       "      <td>0.0</td>\n",
       "      <td>0.0</td>\n",
       "      <td>0.0</td>\n",
       "      <td>0.0</td>\n",
       "      <td>0.0</td>\n",
       "      <td>0.0</td>\n",
       "      <td>0.0</td>\n",
       "      <td>0.0</td>\n",
       "      <td>...</td>\n",
       "      <td>0.0</td>\n",
       "      <td>0.0</td>\n",
       "      <td>0.0</td>\n",
       "      <td>0.0</td>\n",
       "      <td>0.0</td>\n",
       "      <td>0.0</td>\n",
       "      <td>0.0</td>\n",
       "      <td>0.0</td>\n",
       "      <td>0.0</td>\n",
       "      <td>0.0</td>\n",
       "    </tr>\n",
       "    <tr>\n",
       "      <th>547</th>\n",
       "      <td>0.0</td>\n",
       "      <td>0.0</td>\n",
       "      <td>0.0</td>\n",
       "      <td>0.0</td>\n",
       "      <td>0.0</td>\n",
       "      <td>0.0</td>\n",
       "      <td>0.0</td>\n",
       "      <td>0.0</td>\n",
       "      <td>0.0</td>\n",
       "      <td>0.0</td>\n",
       "      <td>...</td>\n",
       "      <td>0.0</td>\n",
       "      <td>0.0</td>\n",
       "      <td>0.0</td>\n",
       "      <td>0.0</td>\n",
       "      <td>0.0</td>\n",
       "      <td>0.0</td>\n",
       "      <td>0.0</td>\n",
       "      <td>0.0</td>\n",
       "      <td>0.0</td>\n",
       "      <td>0.0</td>\n",
       "    </tr>\n",
       "    <tr>\n",
       "      <th>939</th>\n",
       "      <td>0.0</td>\n",
       "      <td>0.0</td>\n",
       "      <td>0.0</td>\n",
       "      <td>0.0</td>\n",
       "      <td>0.0</td>\n",
       "      <td>0.0</td>\n",
       "      <td>0.0</td>\n",
       "      <td>0.0</td>\n",
       "      <td>0.0</td>\n",
       "      <td>0.0</td>\n",
       "      <td>...</td>\n",
       "      <td>0.0</td>\n",
       "      <td>0.0</td>\n",
       "      <td>0.0</td>\n",
       "      <td>0.0</td>\n",
       "      <td>0.0</td>\n",
       "      <td>0.0</td>\n",
       "      <td>0.0</td>\n",
       "      <td>0.0</td>\n",
       "      <td>0.0</td>\n",
       "      <td>0.0</td>\n",
       "    </tr>\n",
       "    <tr>\n",
       "      <th>...</th>\n",
       "      <td>...</td>\n",
       "      <td>...</td>\n",
       "      <td>...</td>\n",
       "      <td>...</td>\n",
       "      <td>...</td>\n",
       "      <td>...</td>\n",
       "      <td>...</td>\n",
       "      <td>...</td>\n",
       "      <td>...</td>\n",
       "      <td>...</td>\n",
       "      <td>...</td>\n",
       "      <td>...</td>\n",
       "      <td>...</td>\n",
       "      <td>...</td>\n",
       "      <td>...</td>\n",
       "      <td>...</td>\n",
       "      <td>...</td>\n",
       "      <td>...</td>\n",
       "      <td>...</td>\n",
       "      <td>...</td>\n",
       "      <td>...</td>\n",
       "    </tr>\n",
       "    <tr>\n",
       "      <th>2647783</th>\n",
       "      <td>0.0</td>\n",
       "      <td>0.0</td>\n",
       "      <td>0.0</td>\n",
       "      <td>0.0</td>\n",
       "      <td>0.0</td>\n",
       "      <td>0.0</td>\n",
       "      <td>0.0</td>\n",
       "      <td>0.0</td>\n",
       "      <td>0.0</td>\n",
       "      <td>0.0</td>\n",
       "      <td>...</td>\n",
       "      <td>0.0</td>\n",
       "      <td>0.0</td>\n",
       "      <td>0.0</td>\n",
       "      <td>0.0</td>\n",
       "      <td>0.0</td>\n",
       "      <td>0.0</td>\n",
       "      <td>0.0</td>\n",
       "      <td>0.0</td>\n",
       "      <td>0.0</td>\n",
       "      <td>0.0</td>\n",
       "    </tr>\n",
       "    <tr>\n",
       "      <th>2647840</th>\n",
       "      <td>0.0</td>\n",
       "      <td>0.0</td>\n",
       "      <td>0.0</td>\n",
       "      <td>0.0</td>\n",
       "      <td>0.0</td>\n",
       "      <td>0.0</td>\n",
       "      <td>0.0</td>\n",
       "      <td>0.0</td>\n",
       "      <td>0.0</td>\n",
       "      <td>0.0</td>\n",
       "      <td>...</td>\n",
       "      <td>0.0</td>\n",
       "      <td>0.0</td>\n",
       "      <td>0.0</td>\n",
       "      <td>0.0</td>\n",
       "      <td>0.0</td>\n",
       "      <td>0.0</td>\n",
       "      <td>0.0</td>\n",
       "      <td>0.0</td>\n",
       "      <td>0.0</td>\n",
       "      <td>0.0</td>\n",
       "    </tr>\n",
       "    <tr>\n",
       "      <th>2647908</th>\n",
       "      <td>0.0</td>\n",
       "      <td>0.0</td>\n",
       "      <td>0.0</td>\n",
       "      <td>0.0</td>\n",
       "      <td>0.0</td>\n",
       "      <td>0.0</td>\n",
       "      <td>0.0</td>\n",
       "      <td>0.0</td>\n",
       "      <td>0.0</td>\n",
       "      <td>0.0</td>\n",
       "      <td>...</td>\n",
       "      <td>0.0</td>\n",
       "      <td>0.0</td>\n",
       "      <td>0.0</td>\n",
       "      <td>0.0</td>\n",
       "      <td>0.0</td>\n",
       "      <td>0.0</td>\n",
       "      <td>0.0</td>\n",
       "      <td>0.0</td>\n",
       "      <td>0.0</td>\n",
       "      <td>0.0</td>\n",
       "    </tr>\n",
       "    <tr>\n",
       "      <th>2649337</th>\n",
       "      <td>0.0</td>\n",
       "      <td>0.0</td>\n",
       "      <td>0.0</td>\n",
       "      <td>0.0</td>\n",
       "      <td>0.0</td>\n",
       "      <td>0.0</td>\n",
       "      <td>0.0</td>\n",
       "      <td>0.0</td>\n",
       "      <td>0.0</td>\n",
       "      <td>0.0</td>\n",
       "      <td>...</td>\n",
       "      <td>0.0</td>\n",
       "      <td>0.0</td>\n",
       "      <td>0.0</td>\n",
       "      <td>0.0</td>\n",
       "      <td>0.0</td>\n",
       "      <td>0.0</td>\n",
       "      <td>0.0</td>\n",
       "      <td>0.0</td>\n",
       "      <td>0.0</td>\n",
       "      <td>0.0</td>\n",
       "    </tr>\n",
       "    <tr>\n",
       "      <th>2649351</th>\n",
       "      <td>0.0</td>\n",
       "      <td>0.0</td>\n",
       "      <td>0.0</td>\n",
       "      <td>0.0</td>\n",
       "      <td>0.0</td>\n",
       "      <td>0.0</td>\n",
       "      <td>0.0</td>\n",
       "      <td>0.0</td>\n",
       "      <td>0.0</td>\n",
       "      <td>0.0</td>\n",
       "      <td>...</td>\n",
       "      <td>0.0</td>\n",
       "      <td>0.0</td>\n",
       "      <td>0.0</td>\n",
       "      <td>0.0</td>\n",
       "      <td>0.0</td>\n",
       "      <td>0.0</td>\n",
       "      <td>0.0</td>\n",
       "      <td>0.0</td>\n",
       "      <td>0.0</td>\n",
       "      <td>0.0</td>\n",
       "    </tr>\n",
       "  </tbody>\n",
       "</table>\n",
       "<p>13894 rows × 721 columns</p>\n",
       "</div>"
      ],
      "text/plain": [
       "movie_id     56     104    106    156    170    199    215    297    311    \\\n",
       "customer_id                                                                  \n",
       "134            0.0    0.0    0.0    0.0    0.0    0.0    0.0    0.0    0.0   \n",
       "479            0.0    0.0    0.0    0.0    0.0    0.0    0.0    0.0    0.0   \n",
       "495            0.0    0.0    0.0    0.0    0.0    0.0    0.0    0.0    0.0   \n",
       "547            0.0    0.0    0.0    0.0    0.0    0.0    0.0    0.0    0.0   \n",
       "939            0.0    0.0    0.0    0.0    0.0    0.0    0.0    0.0    0.0   \n",
       "...            ...    ...    ...    ...    ...    ...    ...    ...    ...   \n",
       "2647783        0.0    0.0    0.0    0.0    0.0    0.0    0.0    0.0    0.0   \n",
       "2647840        0.0    0.0    0.0    0.0    0.0    0.0    0.0    0.0    0.0   \n",
       "2647908        0.0    0.0    0.0    0.0    0.0    0.0    0.0    0.0    0.0   \n",
       "2649337        0.0    0.0    0.0    0.0    0.0    0.0    0.0    0.0    0.0   \n",
       "2649351        0.0    0.0    0.0    0.0    0.0    0.0    0.0    0.0    0.0   \n",
       "\n",
       "movie_id     323    ...  17562  17589  17599  17622  17646  17661  17678  \\\n",
       "customer_id         ...                                                    \n",
       "134            0.0  ...    0.0    0.0    0.0    0.0    0.0    0.0    0.0   \n",
       "479            0.0  ...    0.0    0.0    0.0    0.0    0.0    0.0    0.0   \n",
       "495            0.0  ...    0.0    0.0    0.0    0.0    0.0    0.0    0.0   \n",
       "547            0.0  ...    0.0    0.0    0.0    0.0    0.0    0.0    0.0   \n",
       "939            0.0  ...    0.0    0.0    0.0    0.0    0.0    0.0    0.0   \n",
       "...            ...  ...    ...    ...    ...    ...    ...    ...    ...   \n",
       "2647783        0.0  ...    0.0    0.0    0.0    0.0    0.0    0.0    0.0   \n",
       "2647840        0.0  ...    0.0    0.0    0.0    0.0    0.0    0.0    0.0   \n",
       "2647908        0.0  ...    0.0    0.0    0.0    0.0    0.0    0.0    0.0   \n",
       "2649337        0.0  ...    0.0    0.0    0.0    0.0    0.0    0.0    0.0   \n",
       "2649351        0.0  ...    0.0    0.0    0.0    0.0    0.0    0.0    0.0   \n",
       "\n",
       "movie_id     17713  17741  17752  \n",
       "customer_id                       \n",
       "134            0.0    0.0    0.0  \n",
       "479            0.0    0.0    0.0  \n",
       "495            0.0    0.0    0.0  \n",
       "547            0.0    0.0    0.0  \n",
       "939            0.0    0.0    0.0  \n",
       "...            ...    ...    ...  \n",
       "2647783        0.0    0.0    0.0  \n",
       "2647840        0.0    0.0    0.0  \n",
       "2647908        0.0    0.0    0.0  \n",
       "2649337        0.0    0.0    0.0  \n",
       "2649351        0.0    0.0    0.0  \n",
       "\n",
       "[13894 rows x 721 columns]"
      ]
     },
     "execution_count": 17,
     "metadata": {},
     "output_type": "execute_result"
    }
   ],
   "source": [
    "train_matrix"
   ]
  },
  {
   "attachments": {},
   "cell_type": "markdown",
   "metadata": {},
   "source": [
    "We also convert test_df and val_df into user-movie matrixes."
   ]
  },
  {
   "cell_type": "code",
   "execution_count": 18,
   "metadata": {},
   "outputs": [],
   "source": [
    "# transforming 'test_df' into a user-movie matrix\n",
    "test_matrix = test_df.pivot(index=\"customer_id\", columns=\"movie_id\", values=\"rating\").fillna(0)"
   ]
  },
  {
   "cell_type": "code",
   "execution_count": 19,
   "metadata": {},
   "outputs": [],
   "source": [
    "# transforming 'val_df' into a user-movie matrix\n",
    "val_matrix = val_df.pivot(index=\"customer_id\", columns=\"movie_id\", values=\"rating\").fillna(0)"
   ]
  },
  {
   "attachments": {},
   "cell_type": "markdown",
   "metadata": {},
   "source": [
    "We create two dictionaries so that it will be easier to map the movie_id from the indexes and indexes from the movie_id."
   ]
  },
  {
   "attachments": {},
   "cell_type": "markdown",
   "metadata": {},
   "source": [
    "https://stackoverflow.com/questions/36244380/enumerate-for-dictionary-in-python"
   ]
  },
  {
   "cell_type": "code",
   "execution_count": 20,
   "metadata": {},
   "outputs": [],
   "source": [
    "# creating two dictionaries 'movie_id2idx' and 'idx2movie_id' which are used to map movie IDs to and from their corresponding indices in the 'train_matrix'\n",
    "movie_id2idx = {k: v for v, k in enumerate(train_matrix.columns)}\n",
    "idx2movie_id = {v: k for v, k in enumerate(train_matrix.columns)}"
   ]
  },
  {
   "attachments": {},
   "cell_type": "markdown",
   "metadata": {},
   "source": [
    "## 5.1 SVD "
   ]
  },
  {
   "attachments": {},
   "cell_type": "markdown",
   "metadata": {},
   "source": [
    "Here we define the functions to perform SVD decomposition of data, transform the data with SVD and reconstruct transformed data for evaluation. We also define a function to get the explained variance ratio of the SVD decomposition to pick the correct hyperparameters."
   ]
  },
  {
   "attachments": {},
   "cell_type": "markdown",
   "metadata": {},
   "source": [
    "https://machinelearningmastery.com/singular-value-decomposition-for-machine-learning/\n",
    "\n",
    "https://github.com/scikit-learn/scikit-learn/blob/9aaed4987/sklearn/decomposition/_truncated_svd.py#L25"
   ]
  },
  {
   "cell_type": "code",
   "execution_count": 119,
   "metadata": {},
   "outputs": [],
   "source": [
    "from scipy.linalg import svd\n",
    "\n",
    "# Define a function to perform SVD decomposition on a given matrix X\n",
    "def svd_decomposition(X, n_elements):\n",
    "    # Perform SVD decomposition on matrix X\n",
    "    U, s, VT = svd(X, full_matrices=False) \n",
    "    # Select only the first n_elements singular values and their corresponding rows in VT\n",
    "    s = s[:n_elements]  \n",
    "    VT = VT[:n_elements, :]\n",
    "    # Return the left singular vectors (U), singular values (s), and right singular vectors (VT) for the given X matrix\n",
    "    return U, s, VT \n",
    "\n",
    "# Define a function to reconstruct a matrix X given its right singular vectors VT\n",
    "def svd_reconstruct(X, VT):\n",
    "    return np.dot(X, VT) # Compute the dot product of X and VT to obtain the reconstructed matrix\n",
    "\n",
    "# Define a function to transform a matrix X using its right singular vectors VT\n",
    "def svd_transform(X, VT):\n",
    "    return np.dot(X, VT.T) # Compute the dot product of X and the transpose of VT to obtain the transformed matrix\n",
    "\n",
    "# Define a function to compute the explained variance ratio for a  matrix X given the right singular vectors VT\n",
    "def svd_explained_var_ratio(X, VT):  \n",
    "    X_transformed = np.dot(X, VT.T) # Transform X using VT to obtain the transformed matrix X_transformed\n",
    "    exp_var = np.var(X_transformed, axis=0)  # Compute the variance of each column in X_transformed\n",
    "    full_var = np.var(X, axis=0).sum() # Compute the total variance of X by summing the variances of each column\n",
    "    return (exp_var / full_var).sum() # Compute the ratio of explained variance to total variance and return the sum of these ratios across all columns in X_transformed"
   ]
  },
  {
   "attachments": {},
   "cell_type": "markdown",
   "metadata": {},
   "source": [
    "Then we choose the number of components that explains 90% of variance in the data. We use val_df for choosing the number of components. "
   ]
  },
  {
   "cell_type": "code",
   "execution_count": 120,
   "metadata": {},
   "outputs": [
    {
     "data": {
      "image/png": "[encoded data removed]",
      "text/plain": [
       "<Figure size 640x480 with 1 Axes>"
      ]
     },
     "metadata": {},
     "output_type": "display_data"
    }
   ],
   "source": [
    "import matplotlib.pylab as plt\n",
    "\n",
    "# Create empty lists to hold x and y values\n",
    "x, y = [], []\n",
    "\n",
    "# calculate the explained variance ratio\n",
    "for i in range(130, 175, 5):\n",
    "    U, Sigma, VT = svd_decomposition(val_matrix.values.T, n_elements=i)\n",
    "    var_explained = svd_explained_var_ratio(val_matrix.values.T, VT)\n",
    "    y.append(var_explained)\n",
    "    x.append(i)\n",
    "\n",
    "#plot\n",
    "plt.plot(x, y)\n",
    "plt.axvline(x=147, color='r')\n",
    "plt.title('Optimal number of components for SVD')\n",
    "plt.xlabel('Number of components')\n",
    "plt.ylabel(\"% of explained variance\")\n",
    "plt.show()"
   ]
  },
  {
   "attachments": {},
   "cell_type": "markdown",
   "metadata": {},
   "source": [
    "After analyzing the plot of the percentage of explained variance against the number of components, we can say that selecting 147 components can provide an explanation for 90% of the variance in the data. Hence, we select 147 as the optimal number of components."
   ]
  },
  {
   "attachments": {},
   "cell_type": "markdown",
   "metadata": {},
   "source": [
    "We then performed SVD decomposition on the train_matrix using the svd_decomposition function we defined earlier then, transform the train matrix using the VT matrix obtained from SVD decomposition to obtain the reduced SVD matrix."
   ]
  },
  {
   "cell_type": "code",
   "execution_count": 113,
   "metadata": {},
   "outputs": [
    {
     "data": {
      "text/plain": [
       "(721, 147)"
      ]
     },
     "execution_count": 113,
     "metadata": {},
     "output_type": "execute_result"
    }
   ],
   "source": [
    "# Perform SVD decomposition on the transpose of the train matrix using 147 components\n",
    "U, Sigma, VT = svd_decomposition(train_matrix.values.T, n_elements=147)\n",
    "\n",
    "# Transform the train matrix using the VT matrix obtained from SVD decomposition to obtain the reduced SVD matrix\n",
    "train_svd_matrix = svd_transform(train_matrix.values.T, VT)\n",
    "train_svd_matrix.shape"
   ]
  },
  {
   "attachments": {},
   "cell_type": "markdown",
   "metadata": {},
   "source": [
    "## 5.2 SVD Recommender system"
   ]
  },
  {
   "attachments": {},
   "cell_type": "markdown",
   "metadata": {},
   "source": [
    "A function svd_recommend is defined that takes in a customer ID and recommends n(5) movies to that customer based on the similarity of the movies to the ones the customer has already watched, using the cosine similarity measure.\n",
    "\n",
    "The function first retrieves the customer's viewing history sorted by rating date in descending order. It then selects the movie with the highest rating. Next cosine similarity between the selected movie and all other movies is calulated followed by identification of top 5 movies."
   ]
  },
  {
   "attachments": {},
   "cell_type": "markdown",
   "metadata": {},
   "source": [
    "https://stackoverflow.com/questions/6910641/how-do-i-get-indices-of-n-maximum-values-in-a-numpy-array\n",
    "\n",
    "https://machinelearningmastery.com/using-singular-value-decomposition-to-build-a-recommender-system/"
   ]
  },
  {
   "cell_type": "code",
   "execution_count": 121,
   "metadata": {},
   "outputs": [],
   "source": [
    "def svd_recommend(customer_id, train_svd, n=5):\n",
    "\n",
    "    # defining a function to check similarity between two movie vectors\n",
    "    def cosine_similarity(v,u):\n",
    "        return (v @ u)/ (np.linalg.norm(v) * np.linalg.norm(u))\n",
    "\n",
    "    # retrive the customer viewing history by rating date and higest rating \n",
    "    history = df.query(f\"customer_id == {customer_id}\").sort_values('rating_date', ascending=False)\n",
    "    \n",
    "    # Check if user history exists\n",
    "    if(len(history) == 0):\n",
    "        print('User history not found')\n",
    "    else:\n",
    "        print(history[['movie_name', 'rating', 'rating_date']])\n",
    "    \n",
    "    max_rating = history['rating'].max() # Find the maximum rating given by the user in their history\n",
    "    latest = history[history['rating'] == max_rating].iloc[0] #Retrieve the latest movie that received the maximum rating\n",
    "    idx = movie_id2idx[latest['movie_id']] # Map the movie id to its index and store the result in 'idx' variable\n",
    "    \n",
    "    # Create a list to store similarity scores between the searched movie and all other movies in the train set\n",
    "    scores = []\n",
    "    for i in range(train_svd.shape[0]):\n",
    "        # get similarity score between searched movie and movie i\n",
    "        score = cosine_similarity(train_svd[idx], train_svd[i])\n",
    "        scores.append(score)\n",
    "    \n",
    "    # Convert scores to a numpy array\n",
    "    scores = np.array(scores)\n",
    "\n",
    "    # Sort the scores in descending order and get the indices of the top n movies\n",
    "    topn = (-scores).argsort()[1:n+1]\n",
    "\n",
    "    # Print the movie name of the recommended movies\n",
    "    print('-----------------------------------------------------------------------')\n",
    "    print('Recommended Movies based on the customers latest and highest ratings:')\n",
    "    print('-----------------------------------------------------------------------')\n",
    "    for i in topn:\n",
    "        a = idx2movie_id[i]\n",
    "        print(a, df[df['movie_id']==a].iloc[0]['movie_name'])\n",
    "\n"
   ]
  },
  {
   "cell_type": "code",
   "execution_count": 122,
   "metadata": {},
   "outputs": [
    {
     "name": "stdout",
     "output_type": "stream",
     "text": [
      "                                    movie_name  rating rating_date\n",
      "5085924  Austin Powers: The Spy Who Shagged Me       5  2005-08-08\n",
      "620847                                 Gothika       2  2005-05-16\n",
      "1130005                            Vanilla Sky       2  2004-06-13\n",
      "1507130                       2 Fast 2 Furious       2  2003-12-30\n",
      "5195512                       Anger Management       4  2003-12-30\n",
      "4722267           The Kid Stays in the Picture       3  2003-12-13\n",
      "4850254                               Hoosiers       3  2003-10-01\n",
      "3221210                    Along Came a Spider       4  2003-01-03\n",
      "3701130                        Double Jeopardy       4  2002-12-31\n",
      "3095700                         The Green Mile       4  2002-12-27\n",
      "2539559                           Pearl Harbor       5  2002-12-20\n",
      "-----------------------------------------------------------------------\n",
      "Recommended Movies based on the customers latest and highest ratings:\n",
      "-----------------------------------------------------------------------\n",
      "5353 Zatoichi Meets Yojimbo\n",
      "17274 Stroker Ace\n",
      "2737 Saturday the 14th\n",
      "2480 The Lower Depths (Donzoko)\n",
      "6427 Spiritual Kung Fu\n"
     ]
    }
   ],
   "source": [
    "# Checking the recommendation for customer_id 10 based on the movies he/ she rated\n",
    "svd_recommend(10, train_svd_matrix)"
   ]
  },
  {
   "attachments": {},
   "cell_type": "markdown",
   "metadata": {},
   "source": [
    "## 5.3 Performance evaluation of SVD Recommender system"
   ]
  },
  {
   "attachments": {},
   "cell_type": "markdown",
   "metadata": {},
   "source": [
    "To evaluate the performance of the SVD based recommener, we transform the test dataset to dimensionality reduced SVD matrix. Then, we transform the SVD matrix back to original form which represents our predictions. To compute evaluation metric, we use RMSE between original matrix and prediction matrix."
   ]
  },
  {
   "cell_type": "code",
   "execution_count": 167,
   "metadata": {},
   "outputs": [
    {
     "data": {
      "text/plain": [
       "0.005228500976751439"
      ]
     },
     "execution_count": 167,
     "metadata": {},
     "output_type": "execute_result"
    }
   ],
   "source": [
    "# Perform SVD decomposition on the test matrix and transform it\n",
    "U, Sigma, VT_test = svd_decomposition(test_matrix.values.T, n_elements=147)\n",
    "test_svd_matrix = svd_transform(test_matrix.values.T, VT_test)\n",
    "\n",
    "# Calculate mean squared error between the original test matrix and the reconstructed matrix using the SVD\n",
    "mse = np.mean((test_matrix.T.values - svd_reconstruct(test_svd_matrix, VT_test))**2)\n",
    "mse"
   ]
  },
  {
   "attachments": {},
   "cell_type": "markdown",
   "metadata": {},
   "source": [
    "# 6. Recommender system using KNN "
   ]
  },
  {
   "attachments": {},
   "cell_type": "markdown",
   "metadata": {},
   "source": [
    "We now create a user-similarity based KNN Reccomender system. Initially, we do dimentinality reduction of user_movie_matrix using SVD. Then we create a cosine similarity matrix between all users represented in the SVD martix. Then to get the nearest neighbors for a particular user, we compute the similarity score between the user and all the other users in the SVD matrix. Then to recommend movies to the user, we select movies that were rated highly (>3) by the neighbors."
   ]
  },
  {
   "cell_type": "code",
   "execution_count": 123,
   "metadata": {},
   "outputs": [
    {
     "data": {
      "text/html": [
       "<div>\n",
       "<style scoped>\n",
       "    .dataframe tbody tr th:only-of-type {\n",
       "        vertical-align: middle;\n",
       "    }\n",
       "\n",
       "    .dataframe tbody tr th {\n",
       "        vertical-align: top;\n",
       "    }\n",
       "\n",
       "    .dataframe thead th {\n",
       "        text-align: right;\n",
       "    }\n",
       "</style>\n",
       "<table border=\"1\" class=\"dataframe\">\n",
       "  <thead>\n",
       "    <tr style=\"text-align: right;\">\n",
       "      <th>movie_id</th>\n",
       "      <th>56</th>\n",
       "      <th>67</th>\n",
       "      <th>104</th>\n",
       "      <th>106</th>\n",
       "      <th>156</th>\n",
       "      <th>170</th>\n",
       "      <th>199</th>\n",
       "      <th>215</th>\n",
       "      <th>286</th>\n",
       "      <th>297</th>\n",
       "      <th>...</th>\n",
       "      <th>17609</th>\n",
       "      <th>17622</th>\n",
       "      <th>17646</th>\n",
       "      <th>17660</th>\n",
       "      <th>17661</th>\n",
       "      <th>17678</th>\n",
       "      <th>17713</th>\n",
       "      <th>17741</th>\n",
       "      <th>17750</th>\n",
       "      <th>17752</th>\n",
       "    </tr>\n",
       "    <tr>\n",
       "      <th>customer_id</th>\n",
       "      <th></th>\n",
       "      <th></th>\n",
       "      <th></th>\n",
       "      <th></th>\n",
       "      <th></th>\n",
       "      <th></th>\n",
       "      <th></th>\n",
       "      <th></th>\n",
       "      <th></th>\n",
       "      <th></th>\n",
       "      <th></th>\n",
       "      <th></th>\n",
       "      <th></th>\n",
       "      <th></th>\n",
       "      <th></th>\n",
       "      <th></th>\n",
       "      <th></th>\n",
       "      <th></th>\n",
       "      <th></th>\n",
       "      <th></th>\n",
       "      <th></th>\n",
       "    </tr>\n",
       "  </thead>\n",
       "  <tbody>\n",
       "    <tr>\n",
       "      <th>79</th>\n",
       "      <td>0.0</td>\n",
       "      <td>0.0</td>\n",
       "      <td>0.0</td>\n",
       "      <td>0.0</td>\n",
       "      <td>0.0</td>\n",
       "      <td>0.0</td>\n",
       "      <td>0.0</td>\n",
       "      <td>0.0</td>\n",
       "      <td>0.0</td>\n",
       "      <td>0.0</td>\n",
       "      <td>...</td>\n",
       "      <td>0.0</td>\n",
       "      <td>0.0</td>\n",
       "      <td>0.0</td>\n",
       "      <td>0.0</td>\n",
       "      <td>0.0</td>\n",
       "      <td>0.0</td>\n",
       "      <td>0.0</td>\n",
       "      <td>0.0</td>\n",
       "      <td>0.0</td>\n",
       "      <td>0.0</td>\n",
       "    </tr>\n",
       "    <tr>\n",
       "      <th>1276</th>\n",
       "      <td>0.0</td>\n",
       "      <td>0.0</td>\n",
       "      <td>0.0</td>\n",
       "      <td>0.0</td>\n",
       "      <td>0.0</td>\n",
       "      <td>0.0</td>\n",
       "      <td>0.0</td>\n",
       "      <td>0.0</td>\n",
       "      <td>0.0</td>\n",
       "      <td>0.0</td>\n",
       "      <td>...</td>\n",
       "      <td>0.0</td>\n",
       "      <td>0.0</td>\n",
       "      <td>0.0</td>\n",
       "      <td>0.0</td>\n",
       "      <td>0.0</td>\n",
       "      <td>0.0</td>\n",
       "      <td>0.0</td>\n",
       "      <td>0.0</td>\n",
       "      <td>0.0</td>\n",
       "      <td>0.0</td>\n",
       "    </tr>\n",
       "    <tr>\n",
       "      <th>1310</th>\n",
       "      <td>0.0</td>\n",
       "      <td>0.0</td>\n",
       "      <td>0.0</td>\n",
       "      <td>0.0</td>\n",
       "      <td>0.0</td>\n",
       "      <td>0.0</td>\n",
       "      <td>0.0</td>\n",
       "      <td>0.0</td>\n",
       "      <td>0.0</td>\n",
       "      <td>0.0</td>\n",
       "      <td>...</td>\n",
       "      <td>0.0</td>\n",
       "      <td>0.0</td>\n",
       "      <td>0.0</td>\n",
       "      <td>0.0</td>\n",
       "      <td>0.0</td>\n",
       "      <td>0.0</td>\n",
       "      <td>0.0</td>\n",
       "      <td>0.0</td>\n",
       "      <td>0.0</td>\n",
       "      <td>0.0</td>\n",
       "    </tr>\n",
       "    <tr>\n",
       "      <th>1333</th>\n",
       "      <td>0.0</td>\n",
       "      <td>0.0</td>\n",
       "      <td>0.0</td>\n",
       "      <td>0.0</td>\n",
       "      <td>0.0</td>\n",
       "      <td>0.0</td>\n",
       "      <td>0.0</td>\n",
       "      <td>0.0</td>\n",
       "      <td>0.0</td>\n",
       "      <td>0.0</td>\n",
       "      <td>...</td>\n",
       "      <td>0.0</td>\n",
       "      <td>0.0</td>\n",
       "      <td>0.0</td>\n",
       "      <td>0.0</td>\n",
       "      <td>0.0</td>\n",
       "      <td>0.0</td>\n",
       "      <td>0.0</td>\n",
       "      <td>0.0</td>\n",
       "      <td>0.0</td>\n",
       "      <td>0.0</td>\n",
       "    </tr>\n",
       "    <tr>\n",
       "      <th>1427</th>\n",
       "      <td>0.0</td>\n",
       "      <td>0.0</td>\n",
       "      <td>0.0</td>\n",
       "      <td>0.0</td>\n",
       "      <td>0.0</td>\n",
       "      <td>0.0</td>\n",
       "      <td>0.0</td>\n",
       "      <td>0.0</td>\n",
       "      <td>0.0</td>\n",
       "      <td>0.0</td>\n",
       "      <td>...</td>\n",
       "      <td>0.0</td>\n",
       "      <td>0.0</td>\n",
       "      <td>0.0</td>\n",
       "      <td>0.0</td>\n",
       "      <td>0.0</td>\n",
       "      <td>0.0</td>\n",
       "      <td>0.0</td>\n",
       "      <td>0.0</td>\n",
       "      <td>0.0</td>\n",
       "      <td>0.0</td>\n",
       "    </tr>\n",
       "    <tr>\n",
       "      <th>...</th>\n",
       "      <td>...</td>\n",
       "      <td>...</td>\n",
       "      <td>...</td>\n",
       "      <td>...</td>\n",
       "      <td>...</td>\n",
       "      <td>...</td>\n",
       "      <td>...</td>\n",
       "      <td>...</td>\n",
       "      <td>...</td>\n",
       "      <td>...</td>\n",
       "      <td>...</td>\n",
       "      <td>...</td>\n",
       "      <td>...</td>\n",
       "      <td>...</td>\n",
       "      <td>...</td>\n",
       "      <td>...</td>\n",
       "      <td>...</td>\n",
       "      <td>...</td>\n",
       "      <td>...</td>\n",
       "      <td>...</td>\n",
       "      <td>...</td>\n",
       "    </tr>\n",
       "    <tr>\n",
       "      <th>2649120</th>\n",
       "      <td>0.0</td>\n",
       "      <td>0.0</td>\n",
       "      <td>0.0</td>\n",
       "      <td>0.0</td>\n",
       "      <td>0.0</td>\n",
       "      <td>0.0</td>\n",
       "      <td>0.0</td>\n",
       "      <td>0.0</td>\n",
       "      <td>0.0</td>\n",
       "      <td>0.0</td>\n",
       "      <td>...</td>\n",
       "      <td>0.0</td>\n",
       "      <td>0.0</td>\n",
       "      <td>0.0</td>\n",
       "      <td>0.0</td>\n",
       "      <td>0.0</td>\n",
       "      <td>0.0</td>\n",
       "      <td>0.0</td>\n",
       "      <td>0.0</td>\n",
       "      <td>0.0</td>\n",
       "      <td>0.0</td>\n",
       "    </tr>\n",
       "    <tr>\n",
       "      <th>2649257</th>\n",
       "      <td>0.0</td>\n",
       "      <td>0.0</td>\n",
       "      <td>0.0</td>\n",
       "      <td>0.0</td>\n",
       "      <td>0.0</td>\n",
       "      <td>0.0</td>\n",
       "      <td>0.0</td>\n",
       "      <td>0.0</td>\n",
       "      <td>0.0</td>\n",
       "      <td>0.0</td>\n",
       "      <td>...</td>\n",
       "      <td>0.0</td>\n",
       "      <td>0.0</td>\n",
       "      <td>0.0</td>\n",
       "      <td>0.0</td>\n",
       "      <td>0.0</td>\n",
       "      <td>0.0</td>\n",
       "      <td>0.0</td>\n",
       "      <td>0.0</td>\n",
       "      <td>0.0</td>\n",
       "      <td>0.0</td>\n",
       "    </tr>\n",
       "    <tr>\n",
       "      <th>2649267</th>\n",
       "      <td>0.0</td>\n",
       "      <td>0.0</td>\n",
       "      <td>0.0</td>\n",
       "      <td>0.0</td>\n",
       "      <td>0.0</td>\n",
       "      <td>0.0</td>\n",
       "      <td>0.0</td>\n",
       "      <td>0.0</td>\n",
       "      <td>0.0</td>\n",
       "      <td>0.0</td>\n",
       "      <td>...</td>\n",
       "      <td>0.0</td>\n",
       "      <td>0.0</td>\n",
       "      <td>0.0</td>\n",
       "      <td>0.0</td>\n",
       "      <td>0.0</td>\n",
       "      <td>0.0</td>\n",
       "      <td>0.0</td>\n",
       "      <td>0.0</td>\n",
       "      <td>0.0</td>\n",
       "      <td>0.0</td>\n",
       "    </tr>\n",
       "    <tr>\n",
       "      <th>2649285</th>\n",
       "      <td>0.0</td>\n",
       "      <td>0.0</td>\n",
       "      <td>0.0</td>\n",
       "      <td>0.0</td>\n",
       "      <td>0.0</td>\n",
       "      <td>0.0</td>\n",
       "      <td>0.0</td>\n",
       "      <td>0.0</td>\n",
       "      <td>0.0</td>\n",
       "      <td>0.0</td>\n",
       "      <td>...</td>\n",
       "      <td>0.0</td>\n",
       "      <td>0.0</td>\n",
       "      <td>0.0</td>\n",
       "      <td>0.0</td>\n",
       "      <td>0.0</td>\n",
       "      <td>0.0</td>\n",
       "      <td>0.0</td>\n",
       "      <td>0.0</td>\n",
       "      <td>0.0</td>\n",
       "      <td>0.0</td>\n",
       "    </tr>\n",
       "    <tr>\n",
       "      <th>2649296</th>\n",
       "      <td>0.0</td>\n",
       "      <td>0.0</td>\n",
       "      <td>0.0</td>\n",
       "      <td>0.0</td>\n",
       "      <td>0.0</td>\n",
       "      <td>0.0</td>\n",
       "      <td>0.0</td>\n",
       "      <td>0.0</td>\n",
       "      <td>0.0</td>\n",
       "      <td>0.0</td>\n",
       "      <td>...</td>\n",
       "      <td>0.0</td>\n",
       "      <td>0.0</td>\n",
       "      <td>0.0</td>\n",
       "      <td>0.0</td>\n",
       "      <td>0.0</td>\n",
       "      <td>0.0</td>\n",
       "      <td>0.0</td>\n",
       "      <td>0.0</td>\n",
       "      <td>0.0</td>\n",
       "      <td>0.0</td>\n",
       "    </tr>\n",
       "  </tbody>\n",
       "</table>\n",
       "<p>29163 rows × 999 columns</p>\n",
       "</div>"
      ],
      "text/plain": [
       "movie_id     56     67     104    106    156    170    199    215    286    \\\n",
       "customer_id                                                                  \n",
       "79             0.0    0.0    0.0    0.0    0.0    0.0    0.0    0.0    0.0   \n",
       "1276           0.0    0.0    0.0    0.0    0.0    0.0    0.0    0.0    0.0   \n",
       "1310           0.0    0.0    0.0    0.0    0.0    0.0    0.0    0.0    0.0   \n",
       "1333           0.0    0.0    0.0    0.0    0.0    0.0    0.0    0.0    0.0   \n",
       "1427           0.0    0.0    0.0    0.0    0.0    0.0    0.0    0.0    0.0   \n",
       "...            ...    ...    ...    ...    ...    ...    ...    ...    ...   \n",
       "2649120        0.0    0.0    0.0    0.0    0.0    0.0    0.0    0.0    0.0   \n",
       "2649257        0.0    0.0    0.0    0.0    0.0    0.0    0.0    0.0    0.0   \n",
       "2649267        0.0    0.0    0.0    0.0    0.0    0.0    0.0    0.0    0.0   \n",
       "2649285        0.0    0.0    0.0    0.0    0.0    0.0    0.0    0.0    0.0   \n",
       "2649296        0.0    0.0    0.0    0.0    0.0    0.0    0.0    0.0    0.0   \n",
       "\n",
       "movie_id     297    ...  17609  17622  17646  17660  17661  17678  17713  \\\n",
       "customer_id         ...                                                    \n",
       "79             0.0  ...    0.0    0.0    0.0    0.0    0.0    0.0    0.0   \n",
       "1276           0.0  ...    0.0    0.0    0.0    0.0    0.0    0.0    0.0   \n",
       "1310           0.0  ...    0.0    0.0    0.0    0.0    0.0    0.0    0.0   \n",
       "1333           0.0  ...    0.0    0.0    0.0    0.0    0.0    0.0    0.0   \n",
       "1427           0.0  ...    0.0    0.0    0.0    0.0    0.0    0.0    0.0   \n",
       "...            ...  ...    ...    ...    ...    ...    ...    ...    ...   \n",
       "2649120        0.0  ...    0.0    0.0    0.0    0.0    0.0    0.0    0.0   \n",
       "2649257        0.0  ...    0.0    0.0    0.0    0.0    0.0    0.0    0.0   \n",
       "2649267        0.0  ...    0.0    0.0    0.0    0.0    0.0    0.0    0.0   \n",
       "2649285        0.0  ...    0.0    0.0    0.0    0.0    0.0    0.0    0.0   \n",
       "2649296        0.0  ...    0.0    0.0    0.0    0.0    0.0    0.0    0.0   \n",
       "\n",
       "movie_id     17741  17750  17752  \n",
       "customer_id                       \n",
       "79             0.0    0.0    0.0  \n",
       "1276           0.0    0.0    0.0  \n",
       "1310           0.0    0.0    0.0  \n",
       "1333           0.0    0.0    0.0  \n",
       "1427           0.0    0.0    0.0  \n",
       "...            ...    ...    ...  \n",
       "2649120        0.0    0.0    0.0  \n",
       "2649257        0.0    0.0    0.0  \n",
       "2649267        0.0    0.0    0.0  \n",
       "2649285        0.0    0.0    0.0  \n",
       "2649296        0.0    0.0    0.0  \n",
       "\n",
       "[29163 rows x 999 columns]"
      ]
     },
     "execution_count": 123,
     "metadata": {},
     "output_type": "execute_result"
    }
   ],
   "source": [
    "# Creating a sparse matrix\n",
    "user_movie_matrix = train_df.pivot(index=\"customer_id\", columns=\"movie_id\", values=\"rating\").fillna(0)\n",
    "user_movie_matrix"
   ]
  },
  {
   "cell_type": "code",
   "execution_count": 124,
   "metadata": {},
   "outputs": [
    {
     "data": {
      "text/plain": [
       "(29163, 999)"
      ]
     },
     "execution_count": 124,
     "metadata": {},
     "output_type": "execute_result"
    }
   ],
   "source": [
    "user_movie_matrix.shape"
   ]
  },
  {
   "attachments": {},
   "cell_type": "markdown",
   "metadata": {},
   "source": [
    "## 6.1 SVD"
   ]
  },
  {
   "cell_type": "code",
   "execution_count": 125,
   "metadata": {},
   "outputs": [
    {
     "data": {
      "text/plain": [
       "(29163, 147)"
      ]
     },
     "execution_count": 125,
     "metadata": {},
     "output_type": "execute_result"
    }
   ],
   "source": [
    "# Performing SVD on the user-joke matrix\n",
    "U, s, VT = svd_decomposition(user_movie_matrix.values, n_elements=147)\n",
    "user_movie_matrix_svd = svd_transform(user_movie_matrix.values, VT)\n",
    "user_movie_matrix_svd.shape\n"
   ]
  },
  {
   "attachments": {},
   "cell_type": "markdown",
   "metadata": {},
   "source": [
    "## 6.2 KNN"
   ]
  },
  {
   "attachments": {},
   "cell_type": "markdown",
   "metadata": {},
   "source": [
    "https://campus.datacamp.com/courses/building-recommendation-engines-in-python/collaborative-filtering?ex=10"
   ]
  },
  {
   "cell_type": "code",
   "execution_count": 133,
   "metadata": {},
   "outputs": [
    {
     "data": {
      "text/html": [
       "<div>\n",
       "<style scoped>\n",
       "    .dataframe tbody tr th:only-of-type {\n",
       "        vertical-align: middle;\n",
       "    }\n",
       "\n",
       "    .dataframe tbody tr th {\n",
       "        vertical-align: top;\n",
       "    }\n",
       "\n",
       "    .dataframe thead th {\n",
       "        text-align: right;\n",
       "    }\n",
       "</style>\n",
       "<table border=\"1\" class=\"dataframe\">\n",
       "  <thead>\n",
       "    <tr style=\"text-align: right;\">\n",
       "      <th>customer_id</th>\n",
       "      <th>79</th>\n",
       "      <th>1276</th>\n",
       "      <th>1310</th>\n",
       "      <th>1333</th>\n",
       "      <th>1427</th>\n",
       "      <th>1442</th>\n",
       "      <th>1457</th>\n",
       "      <th>1527</th>\n",
       "      <th>1611</th>\n",
       "      <th>1626</th>\n",
       "      <th>...</th>\n",
       "      <th>2648853</th>\n",
       "      <th>2648869</th>\n",
       "      <th>2648885</th>\n",
       "      <th>2649027</th>\n",
       "      <th>2649093</th>\n",
       "      <th>2649120</th>\n",
       "      <th>2649257</th>\n",
       "      <th>2649267</th>\n",
       "      <th>2649285</th>\n",
       "      <th>2649296</th>\n",
       "    </tr>\n",
       "    <tr>\n",
       "      <th>customer_id</th>\n",
       "      <th></th>\n",
       "      <th></th>\n",
       "      <th></th>\n",
       "      <th></th>\n",
       "      <th></th>\n",
       "      <th></th>\n",
       "      <th></th>\n",
       "      <th></th>\n",
       "      <th></th>\n",
       "      <th></th>\n",
       "      <th></th>\n",
       "      <th></th>\n",
       "      <th></th>\n",
       "      <th></th>\n",
       "      <th></th>\n",
       "      <th></th>\n",
       "      <th></th>\n",
       "      <th></th>\n",
       "      <th></th>\n",
       "      <th></th>\n",
       "      <th></th>\n",
       "    </tr>\n",
       "  </thead>\n",
       "  <tbody>\n",
       "    <tr>\n",
       "      <th>79</th>\n",
       "      <td>1.000000</td>\n",
       "      <td>0.009729</td>\n",
       "      <td>-0.039889</td>\n",
       "      <td>-0.004312</td>\n",
       "      <td>-0.016905</td>\n",
       "      <td>0.259369</td>\n",
       "      <td>-0.016556</td>\n",
       "      <td>-0.041879</td>\n",
       "      <td>-0.025036</td>\n",
       "      <td>-0.062922</td>\n",
       "      <td>...</td>\n",
       "      <td>-0.088139</td>\n",
       "      <td>0.114429</td>\n",
       "      <td>0.056533</td>\n",
       "      <td>-0.027571</td>\n",
       "      <td>0.040045</td>\n",
       "      <td>-0.002987</td>\n",
       "      <td>-0.056678</td>\n",
       "      <td>0.012334</td>\n",
       "      <td>0.072714</td>\n",
       "      <td>-0.012892</td>\n",
       "    </tr>\n",
       "    <tr>\n",
       "      <th>1276</th>\n",
       "      <td>0.009729</td>\n",
       "      <td>1.000000</td>\n",
       "      <td>0.046195</td>\n",
       "      <td>-0.133384</td>\n",
       "      <td>-0.030356</td>\n",
       "      <td>-0.165355</td>\n",
       "      <td>-0.030064</td>\n",
       "      <td>-0.032960</td>\n",
       "      <td>-0.028118</td>\n",
       "      <td>0.100042</td>\n",
       "      <td>...</td>\n",
       "      <td>0.107692</td>\n",
       "      <td>0.009548</td>\n",
       "      <td>-0.038326</td>\n",
       "      <td>0.086550</td>\n",
       "      <td>0.019229</td>\n",
       "      <td>-0.068176</td>\n",
       "      <td>0.037501</td>\n",
       "      <td>0.029191</td>\n",
       "      <td>0.136394</td>\n",
       "      <td>0.038849</td>\n",
       "    </tr>\n",
       "    <tr>\n",
       "      <th>1310</th>\n",
       "      <td>-0.039889</td>\n",
       "      <td>0.046195</td>\n",
       "      <td>1.000000</td>\n",
       "      <td>0.047025</td>\n",
       "      <td>-0.016567</td>\n",
       "      <td>-0.046444</td>\n",
       "      <td>0.066930</td>\n",
       "      <td>0.159181</td>\n",
       "      <td>-0.013810</td>\n",
       "      <td>0.019258</td>\n",
       "      <td>...</td>\n",
       "      <td>0.033282</td>\n",
       "      <td>-0.073268</td>\n",
       "      <td>-0.065547</td>\n",
       "      <td>0.018702</td>\n",
       "      <td>-0.031903</td>\n",
       "      <td>-0.030219</td>\n",
       "      <td>0.040504</td>\n",
       "      <td>-0.033614</td>\n",
       "      <td>-0.029016</td>\n",
       "      <td>0.133438</td>\n",
       "    </tr>\n",
       "    <tr>\n",
       "      <th>1333</th>\n",
       "      <td>-0.004312</td>\n",
       "      <td>-0.133384</td>\n",
       "      <td>0.047025</td>\n",
       "      <td>1.000000</td>\n",
       "      <td>-0.003867</td>\n",
       "      <td>-0.070258</td>\n",
       "      <td>0.018205</td>\n",
       "      <td>0.105999</td>\n",
       "      <td>0.056477</td>\n",
       "      <td>0.014297</td>\n",
       "      <td>...</td>\n",
       "      <td>0.017082</td>\n",
       "      <td>0.090332</td>\n",
       "      <td>-0.036119</td>\n",
       "      <td>0.035229</td>\n",
       "      <td>0.028061</td>\n",
       "      <td>0.059193</td>\n",
       "      <td>0.009959</td>\n",
       "      <td>-0.028212</td>\n",
       "      <td>0.040918</td>\n",
       "      <td>-0.040843</td>\n",
       "    </tr>\n",
       "    <tr>\n",
       "      <th>1427</th>\n",
       "      <td>-0.016905</td>\n",
       "      <td>-0.030356</td>\n",
       "      <td>-0.016567</td>\n",
       "      <td>-0.003867</td>\n",
       "      <td>1.000000</td>\n",
       "      <td>-0.022794</td>\n",
       "      <td>-0.043346</td>\n",
       "      <td>0.009470</td>\n",
       "      <td>0.131448</td>\n",
       "      <td>-0.009858</td>\n",
       "      <td>...</td>\n",
       "      <td>0.078513</td>\n",
       "      <td>-0.027272</td>\n",
       "      <td>0.044054</td>\n",
       "      <td>0.000878</td>\n",
       "      <td>-0.039908</td>\n",
       "      <td>-0.017070</td>\n",
       "      <td>0.054881</td>\n",
       "      <td>-0.002627</td>\n",
       "      <td>-0.041256</td>\n",
       "      <td>-0.042094</td>\n",
       "    </tr>\n",
       "    <tr>\n",
       "      <th>...</th>\n",
       "      <td>...</td>\n",
       "      <td>...</td>\n",
       "      <td>...</td>\n",
       "      <td>...</td>\n",
       "      <td>...</td>\n",
       "      <td>...</td>\n",
       "      <td>...</td>\n",
       "      <td>...</td>\n",
       "      <td>...</td>\n",
       "      <td>...</td>\n",
       "      <td>...</td>\n",
       "      <td>...</td>\n",
       "      <td>...</td>\n",
       "      <td>...</td>\n",
       "      <td>...</td>\n",
       "      <td>...</td>\n",
       "      <td>...</td>\n",
       "      <td>...</td>\n",
       "      <td>...</td>\n",
       "      <td>...</td>\n",
       "      <td>...</td>\n",
       "    </tr>\n",
       "    <tr>\n",
       "      <th>2649120</th>\n",
       "      <td>-0.002987</td>\n",
       "      <td>-0.068176</td>\n",
       "      <td>-0.030219</td>\n",
       "      <td>0.059193</td>\n",
       "      <td>-0.017070</td>\n",
       "      <td>0.062825</td>\n",
       "      <td>-0.032596</td>\n",
       "      <td>0.057430</td>\n",
       "      <td>-0.038546</td>\n",
       "      <td>-0.034906</td>\n",
       "      <td>...</td>\n",
       "      <td>0.016540</td>\n",
       "      <td>-0.030326</td>\n",
       "      <td>-0.048894</td>\n",
       "      <td>0.085909</td>\n",
       "      <td>0.091478</td>\n",
       "      <td>1.000000</td>\n",
       "      <td>-0.091800</td>\n",
       "      <td>-0.055084</td>\n",
       "      <td>0.290339</td>\n",
       "      <td>-0.055175</td>\n",
       "    </tr>\n",
       "    <tr>\n",
       "      <th>2649257</th>\n",
       "      <td>-0.056678</td>\n",
       "      <td>0.037501</td>\n",
       "      <td>0.040504</td>\n",
       "      <td>0.009959</td>\n",
       "      <td>0.054881</td>\n",
       "      <td>0.103132</td>\n",
       "      <td>-0.030393</td>\n",
       "      <td>0.107279</td>\n",
       "      <td>0.389718</td>\n",
       "      <td>0.101607</td>\n",
       "      <td>...</td>\n",
       "      <td>0.060489</td>\n",
       "      <td>0.282559</td>\n",
       "      <td>0.024633</td>\n",
       "      <td>0.051124</td>\n",
       "      <td>0.166602</td>\n",
       "      <td>-0.091800</td>\n",
       "      <td>1.000000</td>\n",
       "      <td>0.024267</td>\n",
       "      <td>-0.061876</td>\n",
       "      <td>0.005694</td>\n",
       "    </tr>\n",
       "    <tr>\n",
       "      <th>2649267</th>\n",
       "      <td>0.012334</td>\n",
       "      <td>0.029191</td>\n",
       "      <td>-0.033614</td>\n",
       "      <td>-0.028212</td>\n",
       "      <td>-0.002627</td>\n",
       "      <td>0.085366</td>\n",
       "      <td>0.006647</td>\n",
       "      <td>-0.060249</td>\n",
       "      <td>0.015781</td>\n",
       "      <td>-0.035901</td>\n",
       "      <td>...</td>\n",
       "      <td>-0.100307</td>\n",
       "      <td>-0.085374</td>\n",
       "      <td>0.269422</td>\n",
       "      <td>0.015581</td>\n",
       "      <td>-0.031757</td>\n",
       "      <td>-0.055084</td>\n",
       "      <td>0.024267</td>\n",
       "      <td>1.000000</td>\n",
       "      <td>0.160388</td>\n",
       "      <td>0.023388</td>\n",
       "    </tr>\n",
       "    <tr>\n",
       "      <th>2649285</th>\n",
       "      <td>0.072714</td>\n",
       "      <td>0.136394</td>\n",
       "      <td>-0.029016</td>\n",
       "      <td>0.040918</td>\n",
       "      <td>-0.041256</td>\n",
       "      <td>0.022158</td>\n",
       "      <td>-0.011187</td>\n",
       "      <td>0.008583</td>\n",
       "      <td>-0.026069</td>\n",
       "      <td>0.027141</td>\n",
       "      <td>...</td>\n",
       "      <td>0.110327</td>\n",
       "      <td>-0.084927</td>\n",
       "      <td>-0.034621</td>\n",
       "      <td>-0.051162</td>\n",
       "      <td>0.018637</td>\n",
       "      <td>0.290339</td>\n",
       "      <td>-0.061876</td>\n",
       "      <td>0.160388</td>\n",
       "      <td>1.000000</td>\n",
       "      <td>0.104199</td>\n",
       "    </tr>\n",
       "    <tr>\n",
       "      <th>2649296</th>\n",
       "      <td>-0.012892</td>\n",
       "      <td>0.038849</td>\n",
       "      <td>0.133438</td>\n",
       "      <td>-0.040843</td>\n",
       "      <td>-0.042094</td>\n",
       "      <td>0.132231</td>\n",
       "      <td>0.191145</td>\n",
       "      <td>0.003738</td>\n",
       "      <td>-0.018967</td>\n",
       "      <td>-0.026942</td>\n",
       "      <td>...</td>\n",
       "      <td>0.180927</td>\n",
       "      <td>0.046839</td>\n",
       "      <td>-0.069199</td>\n",
       "      <td>0.057466</td>\n",
       "      <td>-0.101604</td>\n",
       "      <td>-0.055175</td>\n",
       "      <td>0.005694</td>\n",
       "      <td>0.023388</td>\n",
       "      <td>0.104199</td>\n",
       "      <td>1.000000</td>\n",
       "    </tr>\n",
       "  </tbody>\n",
       "</table>\n",
       "<p>29163 rows × 29163 columns</p>\n",
       "</div>"
      ],
      "text/plain": [
       "customer_id   79        1276      1310      1333      1427      1442     \\\n",
       "customer_id                                                               \n",
       "79           1.000000  0.009729 -0.039889 -0.004312 -0.016905  0.259369   \n",
       "1276         0.009729  1.000000  0.046195 -0.133384 -0.030356 -0.165355   \n",
       "1310        -0.039889  0.046195  1.000000  0.047025 -0.016567 -0.046444   \n",
       "1333        -0.004312 -0.133384  0.047025  1.000000 -0.003867 -0.070258   \n",
       "1427        -0.016905 -0.030356 -0.016567 -0.003867  1.000000 -0.022794   \n",
       "...               ...       ...       ...       ...       ...       ...   \n",
       "2649120     -0.002987 -0.068176 -0.030219  0.059193 -0.017070  0.062825   \n",
       "2649257     -0.056678  0.037501  0.040504  0.009959  0.054881  0.103132   \n",
       "2649267      0.012334  0.029191 -0.033614 -0.028212 -0.002627  0.085366   \n",
       "2649285      0.072714  0.136394 -0.029016  0.040918 -0.041256  0.022158   \n",
       "2649296     -0.012892  0.038849  0.133438 -0.040843 -0.042094  0.132231   \n",
       "\n",
       "customer_id   1457      1527      1611      1626     ...   2648853   2648869  \\\n",
       "customer_id                                          ...                       \n",
       "79          -0.016556 -0.041879 -0.025036 -0.062922  ... -0.088139  0.114429   \n",
       "1276        -0.030064 -0.032960 -0.028118  0.100042  ...  0.107692  0.009548   \n",
       "1310         0.066930  0.159181 -0.013810  0.019258  ...  0.033282 -0.073268   \n",
       "1333         0.018205  0.105999  0.056477  0.014297  ...  0.017082  0.090332   \n",
       "1427        -0.043346  0.009470  0.131448 -0.009858  ...  0.078513 -0.027272   \n",
       "...               ...       ...       ...       ...  ...       ...       ...   \n",
       "2649120     -0.032596  0.057430 -0.038546 -0.034906  ...  0.016540 -0.030326   \n",
       "2649257     -0.030393  0.107279  0.389718  0.101607  ...  0.060489  0.282559   \n",
       "2649267      0.006647 -0.060249  0.015781 -0.035901  ... -0.100307 -0.085374   \n",
       "2649285     -0.011187  0.008583 -0.026069  0.027141  ...  0.110327 -0.084927   \n",
       "2649296      0.191145  0.003738 -0.018967 -0.026942  ...  0.180927  0.046839   \n",
       "\n",
       "customer_id   2648885   2649027   2649093   2649120   2649257   2649267  \\\n",
       "customer_id                                                               \n",
       "79           0.056533 -0.027571  0.040045 -0.002987 -0.056678  0.012334   \n",
       "1276        -0.038326  0.086550  0.019229 -0.068176  0.037501  0.029191   \n",
       "1310        -0.065547  0.018702 -0.031903 -0.030219  0.040504 -0.033614   \n",
       "1333        -0.036119  0.035229  0.028061  0.059193  0.009959 -0.028212   \n",
       "1427         0.044054  0.000878 -0.039908 -0.017070  0.054881 -0.002627   \n",
       "...               ...       ...       ...       ...       ...       ...   \n",
       "2649120     -0.048894  0.085909  0.091478  1.000000 -0.091800 -0.055084   \n",
       "2649257      0.024633  0.051124  0.166602 -0.091800  1.000000  0.024267   \n",
       "2649267      0.269422  0.015581 -0.031757 -0.055084  0.024267  1.000000   \n",
       "2649285     -0.034621 -0.051162  0.018637  0.290339 -0.061876  0.160388   \n",
       "2649296     -0.069199  0.057466 -0.101604 -0.055175  0.005694  0.023388   \n",
       "\n",
       "customer_id   2649285   2649296  \n",
       "customer_id                      \n",
       "79           0.072714 -0.012892  \n",
       "1276         0.136394  0.038849  \n",
       "1310        -0.029016  0.133438  \n",
       "1333         0.040918 -0.040843  \n",
       "1427        -0.041256 -0.042094  \n",
       "...               ...       ...  \n",
       "2649120      0.290339 -0.055175  \n",
       "2649257     -0.061876  0.005694  \n",
       "2649267      0.160388  0.023388  \n",
       "2649285      1.000000  0.104199  \n",
       "2649296      0.104199  1.000000  \n",
       "\n",
       "[29163 rows x 29163 columns]"
      ]
     },
     "execution_count": 133,
     "metadata": {},
     "output_type": "execute_result"
    }
   ],
   "source": [
    "from sklearn.metrics.pairwise import cosine_similarity\n",
    "# compute pairwise similarity matrix of all the users in the user_movie_matrix_svd.\n",
    "similarities = cosine_similarity(user_movie_matrix_svd)\n",
    "\n",
    "# put the similarity scores in a dataframe.\n",
    "cosine_similarity_df = pd.DataFrame(similarities, index = user_movie_matrix.index, columns = user_movie_matrix.index)\n",
    "cosine_similarity_df"
   ]
  },
  {
   "attachments": {},
   "cell_type": "markdown",
   "metadata": {},
   "source": [
    "To evaluate the performance of this model we generate prediction ratings for each users based on their nearest neighbours. Then we compute MSE score to get evaluation metrix."
   ]
  },
  {
   "cell_type": "code",
   "execution_count": 150,
   "metadata": {},
   "outputs": [],
   "source": [
    "def knn_evaluate(df, n):\n",
    "    # create user_movie matrix from the dataframe.\n",
    "    user_movie_matrix = df.pivot(index=\"customer_id\", columns=\"movie_id\", values=\"rating\").fillna(0)\n",
    "    # keep track of index in the matrix to cusotmer id using a dict.\n",
    "    idx2user_id = {v: k for v, k in enumerate(user_movie_matrix.index)}\n",
    "    # do SVD decomposition on user_movie matrix.\n",
    "    U, Sigma, VT_test = svd_decomposition(user_movie_matrix.values, n_elements=147)\n",
    "    # get transformed matrix from the SVD.\n",
    "    user_movie_matrix_svd = svd_transform(user_movie_matrix.values, VT_test)\n",
    "\n",
    "    pred_matrix = []\n",
    "    # now iterate over all the users in the user_movie_matrix to create predictions.\n",
    "    for i, r in user_movie_matrix.iterrows():\n",
    "        ratings = r.values\n",
    "        # indexes of movies rated by this user.\n",
    "        rated_idxs = np.where(ratings != 0)[0]\n",
    "\n",
    "        # get vector of this using SVD.\n",
    "        ratings_svd = svd_transform(ratings.reshape((1, -1)), VT_test)\n",
    "        \n",
    "        # compute similarity score of this user against all the users.\n",
    "        user_similarity = np.dot(ratings_svd, user_movie_matrix_svd.T).flatten()\n",
    "\n",
    "        # get the n users with largest similarity.\n",
    "        neighbors = (-user_similarity).argsort()[:n]\n",
    "        # get customer ids from the indices of the neighbor.\n",
    "\n",
    "        user_idxs = [idx2user_id[n] for n in neighbors]\n",
    "        # get all the ratings for each neighbors.\n",
    "        neighbor_ratings = user_movie_matrix.loc[user_idxs].values[:,rated_idxs]\n",
    "        predicted_ratings = []\n",
    "        # iterate over each movie (columns)\n",
    "        for col_idx in range(neighbor_ratings.shape[1]):\n",
    "            # get indices of the rated movies i.e. ignore 0s\n",
    "            non_zero_indices = np.nonzero(neighbor_ratings[:, col_idx])[0]\n",
    "            if len(non_zero_indices) == 0:\n",
    "                predicted_ratings.append(0)\n",
    "            else:\n",
    "                # predicted rating is the mean of rating for this movie by all the neighbors.\n",
    "                pred = np.mean(neighbor_ratings[:, col_idx][non_zero_indices])\n",
    "                predicted_ratings.append(pred)\n",
    "        pred_ratings = np.zeros(VT_test.shape[1])\n",
    "        # put the predicted ratings in appropriates indices.\n",
    "        np.put(pred_ratings, rated_idxs, predicted_ratings)\n",
    "        pred_matrix.append(pred_ratings)\n",
    "\n",
    "    # finally compute RMSE between original ratings vs. predicted ratings based on neighbors.\n",
    "    mse = np.mean((user_movie_matrix.values - np.array(pred_matrix))**2)\n",
    "    return mse"
   ]
  },
  {
   "attachments": {},
   "cell_type": "markdown",
   "metadata": {},
   "source": [
    "To pick the optimal number of nearest neighbour for our model we plot the MSE with different values of nearest neighbours. We observe that MSE decreses sharply till 200 nearest neighnbours and then platues. Therefoure, we chose 200 as the optimal nearest neighbours using validation dataset."
   ]
  },
  {
   "cell_type": "code",
   "execution_count": 161,
   "metadata": {},
   "outputs": [
    {
     "name": "stderr",
     "output_type": "stream",
     "text": [
      "100%|██████████| 7/7 [33:57<00:00, 291.10s/it]\n"
     ]
    },
    {
     "data": {
      "image/png": "[encoded data removed]",
      "text/plain": [
       "<Figure size 640x480 with 1 Axes>"
      ]
     },
     "metadata": {},
     "output_type": "display_data"
    }
   ],
   "source": [
    "# Get the best value for hyperparameter \"n neighbors\" by computing MSE for a range of values using validation set.\n",
    "x, y = [], []\n",
    "for n in tqdm([10, 80, 100, 120, 140, 200, 250]):\n",
    "    mse = knn_evaluate(val_df, n=n)\n",
    "    y.append(mse)\n",
    "    x.append(n)\n",
    "\n",
    "plt.plot(x, y)\n",
    "plt.axvline(x=200, color='r')\n",
    "plt.title('Optimal number of neighbors for KNN')\n",
    "plt.xlabel('Number of neighbors')\n",
    "plt.ylabel(\"MSE on validation set\")\n",
    "plt.show()"
   ]
  },
  {
   "attachments": {},
   "cell_type": "markdown",
   "metadata": {},
   "source": [
    "We define a function to recommend movies using our KNN user similarity model."
   ]
  },
  {
   "cell_type": "code",
   "execution_count": 162,
   "metadata": {},
   "outputs": [],
   "source": [
    "# Recommender system using KNN\n",
    "def knn_recommend(customer_id, n):\n",
    "    user_rated_m = user_movie_matrix.loc[customer_id]\n",
    "    rated_joke_ids = user_rated_m[user_rated_m > 0].index.tolist()\n",
    "    # using similarity df to find the nearest neighbour\n",
    "    user_similarity_series = cosine_similarity_df.loc[customer_id].sort_values(ascending=False)\n",
    "    user_idxs = user_similarity_series[1:n+1].index.tolist()\n",
    "    # creating a set to store the indexes of movies that have been rated highly by the customer's nearest neighbors\n",
    "    movie_ids = set()\n",
    "    # select the highest ratings made by nearest neighbor and adding it to movie_ids.\n",
    "    for userId in user_idxs:\n",
    "        ratings = user_movie_matrix.loc[userId]\n",
    "        ratings = ratings[ratings > 3].index.values\n",
    "        for id in ratings:\n",
    "            movie_ids.add(id)\n",
    "    print('------------------------------------------')\n",
    "    print('Recommended jokes based on similar users:')\n",
    "    print('------------------------------------------')\n",
    "    for movieid in list(movie_ids)[:5]:\n",
    "        if movieid not in rated_joke_ids:\n",
    "            print(movieid, df[df['movie_id']==movieid].iloc[0]['movie_name'])"
   ]
  },
  {
   "cell_type": "code",
   "execution_count": 163,
   "metadata": {},
   "outputs": [
    {
     "name": "stdout",
     "output_type": "stream",
     "text": [
      "------------------------------------------\n",
      "Recommended jokes based on similar users:\n",
      "------------------------------------------\n",
      "10240 Summer Catch\n",
      "7171 Milo\n",
      "13836 Mulan 2\n",
      "5645 Repossessed\n",
      "7694 Witchboard\n"
     ]
    }
   ],
   "source": [
    "# Checking recommendations for user based on the similar users ratings\n",
    "knn_recommend(1276, n=200)"
   ]
  },
  {
   "attachments": {},
   "cell_type": "markdown",
   "metadata": {},
   "source": [
    "## 6.3 Performance evaluation of KNN Recommender system"
   ]
  },
  {
   "cell_type": "code",
   "execution_count": 164,
   "metadata": {},
   "outputs": [
    {
     "data": {
      "text/plain": [
       "0.005753628647341499"
      ]
     },
     "execution_count": 164,
     "metadata": {},
     "output_type": "execute_result"
    }
   ],
   "source": [
    "# Finally compute the MSE score using the test set using the same evaluation function as above.\n",
    "knn_evaluate(test_df, n=200)"
   ]
  },
  {
   "attachments": {},
   "cell_type": "markdown",
   "metadata": {},
   "source": [
    "# 7. Conclusion"
   ]
  },
  {
   "attachments": {},
   "cell_type": "markdown",
   "metadata": {},
   "source": [
    "In this notebook we developed two different models for movie recommendations. The first model used SVD to perform dimentionality reduction on user movie ratings data and recommended new movies to the user based on higest similarity of the users highest and latest rated movie.\n",
    "\n",
    "Similarly, In the second model we performed SVD on the dataset and recommended new movies to the user based on user similarity using KNN method. We got n closet neighnour of the user based on their ratings history and provided recommendation based on the negibours heigest rated movies.\n",
    "\n",
    "We used MSE to evaluate both of these models. While the MSE scores are very close the SVD movie similarity model slightly out performend the knn similarity model.\n",
    "\n",
    "In conclusion, We recommend using both movie similarity and user similarity methods to provide a diverse set of recommendation to the users."
   ]
  }
 ],
 "metadata": {
  "kernelspec": {
   "display_name": "py39",
   "language": "python",
   "name": "python3"
  },
  "language_info": {
   "codemirror_mode": {
    "name": "ipython",
    "version": 3
   },
   "file_extension": ".py",
   "mimetype": "text/x-python",
   "name": "python",
   "nbconvert_exporter": "python",
   "pygments_lexer": "ipython3",
   "version": "3.9.16"
  },
  "orig_nbformat": 4
 },
 "nbformat": 4,
 "nbformat_minor": 2
}
