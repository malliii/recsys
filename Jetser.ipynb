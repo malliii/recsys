{
 "cells": [
  {
   "cell_type": "code",
   "execution_count": 1,
   "metadata": {},
   "outputs": [],
   "source": [
    "import numpy as np\n",
    "import pandas as pd\n",
    "import seaborn as sns\n",
    "import matplotlib.pyplot as plt"
   ]
  },
  {
   "attachments": {},
   "cell_type": "markdown",
   "metadata": {},
   "source": [
    "# 1. Introduction"
   ]
  },
  {
   "attachments": {},
   "cell_type": "markdown",
   "metadata": {},
   "source": [
    "This project is focused on building a joke recommendation system using collaborative filtering techniques. We have created recommender systems using singular value decomposition (SVD) and k-nearest neighbors (KNN).  The main goal is to provide personalized recommendations to users based on their past joke preferences and ratings.\n",
    "\n",
    "The dataset used in this project contains information about customer ratings for a 170 jokes. At first data was pre-processed followed by Exploratory Data Analysis (EDA). Then we created a train/test and validation split for each jokes in the dataset. \n",
    "\n",
    "For SVD recommender, we used the train set to train a matrix factorization model using singular value decomposition (SVD). We then create a recommender system that is based on joke-similarity to recomended top jokes to user based on their highest rated jokes.\n",
    "\n",
    "For the KNN recommender, we reduced the dimensionality of the user-joke matrix using SVD. Using this reduced matrix, we create a recommender system that is based on user-similarity (in contrast to joke-similarity), and recommends jokes to users based on the ratings of similar users and their rating history.\n",
    "\n",
    "Finally, we evaluate the performance of the recommendation system using the test data and calculate the mean square error (MSE) to measure the performance of each model.\n",
    "\n"
   ]
  },
  {
   "attachments": {},
   "cell_type": "markdown",
   "metadata": {},
   "source": [
    "## 1.1 Business Question: \n",
    "How can we recommend highly relavant jokes to users based on their jokes ratings history?\n",
    "\n",
    "### 1.1.1 Sub questions:\n",
    "q1. Based on the highly rated jokes by the user, how can we recommend more relevant jokes to the user?\n",
    "\n",
    "q2. How can we utilize the preferences and rating history of other users to improve the quality of recommendation to the user?\n",
    "\n",
    "q3. How can we evaluate the effectiveness of different recommendation models for personalized joke recommendations?"
   ]
  },
  {
   "attachments": {},
   "cell_type": "markdown",
   "metadata": {},
   "source": [
    "# 2. Data Pre-processing"
   ]
  },
  {
   "cell_type": "code",
   "execution_count": 2,
   "metadata": {},
   "outputs": [],
   "source": [
    "# Load the CSV files\n",
    "jester_items = pd.read_csv('data/jester_items.csv')\n",
    "jester_ratings = pd.read_csv('data/jester_ratings.csv')\n"
   ]
  },
  {
   "attachments": {},
   "cell_type": "markdown",
   "metadata": {},
   "source": [
    "We create a new csv which has combined information about all of the users"
   ]
  },
  {
   "cell_type": "code",
   "execution_count": 3,
   "metadata": {},
   "outputs": [],
   "source": [
    "# Merge the two CSV files based on the common column 'jokeId'\n",
    "merged_df = pd.merge(jester_items, jester_ratings, on='jokeId')\n",
    "\n",
    "# Select the desired columns and rename them\n",
    "merged_df = merged_df[['userId', 'jokeId', 'jokeText', 'rating']]\n",
    "\n",
    "# Save the merged dataframe to a new CSV file\n",
    "merged_df.to_csv('merged_jester.csv', index=False)\n",
    "\n"
   ]
  },
  {
   "cell_type": "code",
   "execution_count": 4,
   "metadata": {},
   "outputs": [],
   "source": [
    "# Load the merged_jester.csv file into a pandas dataframe\n",
    "df = pd.read_csv('merged_jester.csv')"
   ]
  },
  {
   "cell_type": "code",
   "execution_count": 467,
   "metadata": {},
   "outputs": [
    {
     "data": {
      "text/html": [
       "<div>\n",
       "<style scoped>\n",
       "    .dataframe tbody tr th:only-of-type {\n",
       "        vertical-align: middle;\n",
       "    }\n",
       "\n",
       "    .dataframe tbody tr th {\n",
       "        vertical-align: top;\n",
       "    }\n",
       "\n",
       "    .dataframe thead th {\n",
       "        text-align: right;\n",
       "    }\n",
       "</style>\n",
       "<table border=\"1\" class=\"dataframe\">\n",
       "  <thead>\n",
       "    <tr style=\"text-align: right;\">\n",
       "      <th></th>\n",
       "      <th>userId</th>\n",
       "      <th>jokeId</th>\n",
       "      <th>jokeText</th>\n",
       "      <th>rating</th>\n",
       "    </tr>\n",
       "  </thead>\n",
       "  <tbody>\n",
       "    <tr>\n",
       "      <th>0</th>\n",
       "      <td>1</td>\n",
       "      <td>5</td>\n",
       "      <td>Q.\\tWhat's O. J. Simpson's Internet address? \\...</td>\n",
       "      <td>0.219</td>\n",
       "    </tr>\n",
       "    <tr>\n",
       "      <th>1</th>\n",
       "      <td>2</td>\n",
       "      <td>5</td>\n",
       "      <td>Q.\\tWhat's O. J. Simpson's Internet address? \\...</td>\n",
       "      <td>-9.688</td>\n",
       "    </tr>\n",
       "    <tr>\n",
       "      <th>2</th>\n",
       "      <td>3</td>\n",
       "      <td>5</td>\n",
       "      <td>Q.\\tWhat's O. J. Simpson's Internet address? \\...</td>\n",
       "      <td>-9.844</td>\n",
       "    </tr>\n",
       "    <tr>\n",
       "      <th>3</th>\n",
       "      <td>4</td>\n",
       "      <td>5</td>\n",
       "      <td>Q.\\tWhat's O. J. Simpson's Internet address? \\...</td>\n",
       "      <td>-5.812</td>\n",
       "    </tr>\n",
       "    <tr>\n",
       "      <th>4</th>\n",
       "      <td>5</td>\n",
       "      <td>5</td>\n",
       "      <td>Q.\\tWhat's O. J. Simpson's Internet address? \\...</td>\n",
       "      <td>6.906</td>\n",
       "    </tr>\n",
       "  </tbody>\n",
       "</table>\n",
       "</div>"
      ],
      "text/plain": [
       "   userId  jokeId                                           jokeText  rating\n",
       "0       1       5  Q.\\tWhat's O. J. Simpson's Internet address? \\...   0.219\n",
       "1       2       5  Q.\\tWhat's O. J. Simpson's Internet address? \\...  -9.688\n",
       "2       3       5  Q.\\tWhat's O. J. Simpson's Internet address? \\...  -9.844\n",
       "3       4       5  Q.\\tWhat's O. J. Simpson's Internet address? \\...  -5.812\n",
       "4       5       5  Q.\\tWhat's O. J. Simpson's Internet address? \\...   6.906"
      ]
     },
     "execution_count": 467,
     "metadata": {},
     "output_type": "execute_result"
    }
   ],
   "source": [
    "# checking the first 5 rows of df\n",
    "df.head()"
   ]
  },
  {
   "cell_type": "code",
   "execution_count": 468,
   "metadata": {},
   "outputs": [
    {
     "data": {
      "text/plain": [
       "(1761439, 4)"
      ]
     },
     "execution_count": 468,
     "metadata": {},
     "output_type": "execute_result"
    }
   ],
   "source": [
    "# checking the number of rows and column of df\n",
    "df.shape"
   ]
  },
  {
   "cell_type": "code",
   "execution_count": 471,
   "metadata": {},
   "outputs": [
    {
     "name": "stdout",
     "output_type": "stream",
     "text": [
      "Total number of users: 59132\n",
      "Total number of jokes: 140\n"
     ]
    },
    {
     "data": {
      "text/plain": [
       "(-10.0, 10.0)"
      ]
     },
     "execution_count": 471,
     "metadata": {},
     "output_type": "execute_result"
    }
   ],
   "source": [
    "# checking the total number of users and jokes and the rating range.\n",
    "num_users = df['userId'].nunique()\n",
    "print(\"Total number of users:\", num_users)\n",
    "num_jokes = df['jokeId'].nunique()\n",
    "print(\"Total number of jokes:\", num_jokes)\n",
    "df['rating'].min(), df['rating'].max()"
   ]
  },
  {
   "attachments": {},
   "cell_type": "markdown",
   "metadata": {},
   "source": [
    "Since there are 59132 numbers of users. To minimize the size of the dataset we sample 15% of the users with highest count of ratings."
   ]
  },
  {
   "cell_type": "code",
   "execution_count": 33,
   "metadata": {},
   "outputs": [],
   "source": [
    "# Calculate the mean rating for each user\n",
    "user_count_ratings = df.groupby('userId')['rating'].count().reset_index()\n",
    "\n",
    "# Sort the users by their mean rating in descending order\n",
    "user_count_ratings = user_count_ratings.sort_values(by='rating', ascending=False)\n",
    "\n",
    "# Select the top 15% of users based on their mean rating\n",
    "n_top_users = int(len(user_count_ratings) * 0.15)\n",
    "top_users = user_count_ratings.head(n_top_users)['userId'].values\n",
    "\n",
    "# Sample a fixed percentage of ratings for each selected user\n",
    "sampled_df = pd.DataFrame()\n",
    "for user in top_users:\n",
    "    user_ratings = df[df['userId'] == user]\n",
    "    sampled_ratings = user_ratings.sample(frac=0.1, random_state=42)\n",
    "    sampled_df = pd.concat([sampled_df, sampled_ratings])\n",
    "\n",
    "# Save the sampled DataFrame to a new CSV file\n",
    "sampled_df.to_csv('sampled_jester.csv', index=False)\n"
   ]
  },
  {
   "cell_type": "code",
   "execution_count": 9,
   "metadata": {},
   "outputs": [],
   "source": [
    "sample_df  = pd.read_csv('sampled_jester.csv')"
   ]
  },
  {
   "cell_type": "code",
   "execution_count": 10,
   "metadata": {},
   "outputs": [
    {
     "data": {
      "text/plain": [
       "(33020, 4)"
      ]
     },
     "execution_count": 10,
     "metadata": {},
     "output_type": "execute_result"
    }
   ],
   "source": [
    "sample_df.shape"
   ]
  },
  {
   "cell_type": "code",
   "execution_count": 472,
   "metadata": {},
   "outputs": [
    {
     "name": "stdout",
     "output_type": "stream",
     "text": [
      "Total number of users: 7527\n"
     ]
    }
   ],
   "source": [
    "# checking the total number of users\n",
    "num_users = sample_df['userId'].nunique()\n",
    "print(\"Total number of users:\", num_users)"
   ]
  },
  {
   "attachments": {},
   "cell_type": "markdown",
   "metadata": {},
   "source": [
    "Here we have reduced the total number of users to 7527 in the sample_df dataset."
   ]
  },
  {
   "attachments": {},
   "cell_type": "markdown",
   "metadata": {},
   "source": [
    "# 3. EDA"
   ]
  },
  {
   "attachments": {},
   "cell_type": "markdown",
   "metadata": {},
   "source": [
    "Exploratory Data Analysis (EDA) is done on data to get an understanding of the data and to identify patterns, relationships, and anomalies in the data. In the context of a this project, EDA helps to identify any data quality issues and the suitability of the data for the intended analysis."
   ]
  },
  {
   "cell_type": "code",
   "execution_count": 473,
   "metadata": {},
   "outputs": [
    {
     "data": {
      "text/html": [
       "<div>\n",
       "<style scoped>\n",
       "    .dataframe tbody tr th:only-of-type {\n",
       "        vertical-align: middle;\n",
       "    }\n",
       "\n",
       "    .dataframe tbody tr th {\n",
       "        vertical-align: top;\n",
       "    }\n",
       "\n",
       "    .dataframe thead th {\n",
       "        text-align: right;\n",
       "    }\n",
       "</style>\n",
       "<table border=\"1\" class=\"dataframe\">\n",
       "  <thead>\n",
       "    <tr style=\"text-align: right;\">\n",
       "      <th></th>\n",
       "      <th>userId</th>\n",
       "      <th>jokeId</th>\n",
       "      <th>jokeText</th>\n",
       "      <th>rating</th>\n",
       "      <th>joke_length</th>\n",
       "      <th>average_rating</th>\n",
       "    </tr>\n",
       "  </thead>\n",
       "  <tbody>\n",
       "    <tr>\n",
       "      <th>0</th>\n",
       "      <td>11433</td>\n",
       "      <td>8</td>\n",
       "      <td>Q. Did you hear about the dyslexic devil worsh...</td>\n",
       "      <td>10.0</td>\n",
       "      <td>84</td>\n",
       "      <td>5.069075</td>\n",
       "    </tr>\n",
       "    <tr>\n",
       "      <th>1</th>\n",
       "      <td>51145</td>\n",
       "      <td>87</td>\n",
       "      <td>A man, recently completing a routine physical ...</td>\n",
       "      <td>10.0</td>\n",
       "      <td>418</td>\n",
       "      <td>6.807288</td>\n",
       "    </tr>\n",
       "    <tr>\n",
       "      <th>2</th>\n",
       "      <td>51145</td>\n",
       "      <td>53</td>\n",
       "      <td>One Sunday morning William burst into the livi...</td>\n",
       "      <td>10.0</td>\n",
       "      <td>1217</td>\n",
       "      <td>7.095451</td>\n",
       "    </tr>\n",
       "    <tr>\n",
       "      <th>3</th>\n",
       "      <td>51145</td>\n",
       "      <td>29</td>\n",
       "      <td>An old Scotsmen is sitting with a younger Scot...</td>\n",
       "      <td>10.0</td>\n",
       "      <td>741</td>\n",
       "      <td>7.015639</td>\n",
       "    </tr>\n",
       "    <tr>\n",
       "      <th>4</th>\n",
       "      <td>51145</td>\n",
       "      <td>89</td>\n",
       "      <td>A radio conversation of a US naval \\nship with...</td>\n",
       "      <td>10.0</td>\n",
       "      <td>795</td>\n",
       "      <td>7.347781</td>\n",
       "    </tr>\n",
       "  </tbody>\n",
       "</table>\n",
       "</div>"
      ],
      "text/plain": [
       "   userId  jokeId                                           jokeText  rating  \\\n",
       "0   11433       8  Q. Did you hear about the dyslexic devil worsh...    10.0   \n",
       "1   51145      87  A man, recently completing a routine physical ...    10.0   \n",
       "2   51145      53  One Sunday morning William burst into the livi...    10.0   \n",
       "3   51145      29  An old Scotsmen is sitting with a younger Scot...    10.0   \n",
       "4   51145      89  A radio conversation of a US naval \\nship with...    10.0   \n",
       "\n",
       "   joke_length  average_rating  \n",
       "0           84        5.069075  \n",
       "1          418        6.807288  \n",
       "2         1217        7.095451  \n",
       "3          741        7.015639  \n",
       "4          795        7.347781  "
      ]
     },
     "execution_count": 473,
     "metadata": {},
     "output_type": "execute_result"
    }
   ],
   "source": [
    "sample_df.head()"
   ]
  },
  {
   "cell_type": "code",
   "execution_count": 474,
   "metadata": {},
   "outputs": [
    {
     "name": "stdout",
     "output_type": "stream",
     "text": [
      "userId            0.0\n",
      "jokeId            0.0\n",
      "jokeText          0.0\n",
      "rating            0.0\n",
      "joke_length       0.0\n",
      "average_rating    0.0\n",
      "dtype: float64\n"
     ]
    }
   ],
   "source": [
    "#checking null value\n",
    "null_percentage = sample_df.isna().mean() * 100 #checking the pergentage of null value\n",
    "print(null_percentage)"
   ]
  },
  {
   "cell_type": "code",
   "execution_count": 475,
   "metadata": {},
   "outputs": [
    {
     "data": {
      "text/html": [
       "<div>\n",
       "<style scoped>\n",
       "    .dataframe tbody tr th:only-of-type {\n",
       "        vertical-align: middle;\n",
       "    }\n",
       "\n",
       "    .dataframe tbody tr th {\n",
       "        vertical-align: top;\n",
       "    }\n",
       "\n",
       "    .dataframe thead th {\n",
       "        text-align: right;\n",
       "    }\n",
       "</style>\n",
       "<table border=\"1\" class=\"dataframe\">\n",
       "  <thead>\n",
       "    <tr style=\"text-align: right;\">\n",
       "      <th></th>\n",
       "      <th>userId</th>\n",
       "      <th>jokeId</th>\n",
       "      <th>rating</th>\n",
       "      <th>joke_length</th>\n",
       "      <th>average_rating</th>\n",
       "    </tr>\n",
       "  </thead>\n",
       "  <tbody>\n",
       "    <tr>\n",
       "      <th>count</th>\n",
       "      <td>33020.000000</td>\n",
       "      <td>33020.000000</td>\n",
       "      <td>33020.000000</td>\n",
       "      <td>33020.00000</td>\n",
       "      <td>33020.000000</td>\n",
       "    </tr>\n",
       "    <tr>\n",
       "      <th>mean</th>\n",
       "      <td>33725.484161</td>\n",
       "      <td>73.401211</td>\n",
       "      <td>5.686971</td>\n",
       "      <td>419.46805</td>\n",
       "      <td>5.686971</td>\n",
       "    </tr>\n",
       "    <tr>\n",
       "      <th>std</th>\n",
       "      <td>18975.264288</td>\n",
       "      <td>43.764937</td>\n",
       "      <td>4.580714</td>\n",
       "      <td>343.09749</td>\n",
       "      <td>2.011767</td>\n",
       "    </tr>\n",
       "    <tr>\n",
       "      <th>min</th>\n",
       "      <td>9.000000</td>\n",
       "      <td>5.000000</td>\n",
       "      <td>-10.000000</td>\n",
       "      <td>52.00000</td>\n",
       "      <td>-9.906000</td>\n",
       "    </tr>\n",
       "    <tr>\n",
       "      <th>25%</th>\n",
       "      <td>16150.250000</td>\n",
       "      <td>35.000000</td>\n",
       "      <td>4.219000</td>\n",
       "      <td>124.00000</td>\n",
       "      <td>5.346871</td>\n",
       "    </tr>\n",
       "    <tr>\n",
       "      <th>50%</th>\n",
       "      <td>36368.000000</td>\n",
       "      <td>75.000000</td>\n",
       "      <td>7.219000</td>\n",
       "      <td>328.00000</td>\n",
       "      <td>6.485364</td>\n",
       "    </tr>\n",
       "    <tr>\n",
       "      <th>75%</th>\n",
       "      <td>50080.750000</td>\n",
       "      <td>114.000000</td>\n",
       "      <td>8.969000</td>\n",
       "      <td>592.00000</td>\n",
       "      <td>7.015639</td>\n",
       "    </tr>\n",
       "    <tr>\n",
       "      <th>max</th>\n",
       "      <td>63978.000000</td>\n",
       "      <td>150.000000</td>\n",
       "      <td>10.000000</td>\n",
       "      <td>1326.00000</td>\n",
       "      <td>8.718500</td>\n",
       "    </tr>\n",
       "  </tbody>\n",
       "</table>\n",
       "</div>"
      ],
      "text/plain": [
       "             userId        jokeId        rating  joke_length  average_rating\n",
       "count  33020.000000  33020.000000  33020.000000  33020.00000    33020.000000\n",
       "mean   33725.484161     73.401211      5.686971    419.46805        5.686971\n",
       "std    18975.264288     43.764937      4.580714    343.09749        2.011767\n",
       "min        9.000000      5.000000    -10.000000     52.00000       -9.906000\n",
       "25%    16150.250000     35.000000      4.219000    124.00000        5.346871\n",
       "50%    36368.000000     75.000000      7.219000    328.00000        6.485364\n",
       "75%    50080.750000    114.000000      8.969000    592.00000        7.015639\n",
       "max    63978.000000    150.000000     10.000000   1326.00000        8.718500"
      ]
     },
     "execution_count": 475,
     "metadata": {},
     "output_type": "execute_result"
    }
   ],
   "source": [
    "sample_df.describe()"
   ]
  },
  {
   "cell_type": "code",
   "execution_count": 476,
   "metadata": {},
   "outputs": [
    {
     "data": {
      "image/png": "[encoded data removed]",
      "text/plain": [
       "<Figure size 640x480 with 1 Axes>"
      ]
     },
     "metadata": {},
     "output_type": "display_data"
    }
   ],
   "source": [
    "#plotting highly rated top 10 Jokes among the users based on their mean rating\n",
    "top_jokes = sample_df.groupby('jokeId')['rating'].mean().sort_values(ascending=False)[:10]\n",
    "top_jokes = sample_df.loc[sample_df['jokeId'].isin(top_jokes.index)]\n",
    "\n",
    "sns.barplot(x='jokeId', y='rating', data=top_jokes, errorbar=None)\n",
    "plt.xticks(rotation=90)\n",
    "plt.show()"
   ]
  },
  {
   "cell_type": "code",
   "execution_count": 477,
   "metadata": {},
   "outputs": [
    {
     "data": {
      "image/png": "[encoded data removed]",
      "text/plain": [
       "<Figure size 1000x500 with 2 Axes>"
      ]
     },
     "metadata": {},
     "output_type": "display_data"
    }
   ],
   "source": [
    "# Count the occurrences of each joke ID and user ID\n",
    "joke_counts = sample_df['jokeId'].value_counts()\n",
    "user_counts = sample_df['userId'].value_counts()\n",
    "\n",
    "# Create a figure with two subplots\n",
    "fig, axs = plt.subplots(1, 2, figsize=(10, 5))\n",
    "\n",
    "# Plot the joke distribution on the first subplot\n",
    "axs[0].hist(joke_counts, bins=50)\n",
    "axs[0].set_title('Joke Distribution')\n",
    "axs[0].set_xlabel('Number of ratings')\n",
    "axs[0].set_ylabel('Number of Jokes')\n",
    "\n",
    "# Plot the user distribution on the second subplot\n",
    "axs[1].hist(user_counts, bins=50)\n",
    "axs[1].set_title('User Distribution')\n",
    "axs[1].set_xlabel('Number of ratings')\n",
    "axs[1].set_ylabel('Number of users')\n",
    "\n",
    "# Show the plot\n",
    "plt.show()"
   ]
  },
  {
   "attachments": {},
   "cell_type": "markdown",
   "metadata": {},
   "source": [
    "Here we can see majority of jokes are rated less then 100 times. Similarly, users tend to rate only a few jokes."
   ]
  },
  {
   "cell_type": "code",
   "execution_count": 17,
   "metadata": {},
   "outputs": [
    {
     "data": {
      "image/png": "[encoded data removed]",
      "text/plain": [
       "<Figure size 640x480 with 1 Axes>"
      ]
     },
     "metadata": {},
     "output_type": "display_data"
    }
   ],
   "source": [
    "# Checking the distribution of ratings in the dataset.\n",
    "\n",
    "rating_counts = sample_df['rating'].value_counts()\n",
    "\n",
    "# Sort the counts by rating value\n",
    "rating_counts = rating_counts.sort_index()\n",
    "\n",
    "# Plot the frequency of each rating\n",
    "plt.bar(rating_counts.index, rating_counts.values)\n",
    "plt.title('Rating Frequency')\n",
    "plt.xlabel('Rating')\n",
    "plt.ylabel('Frequency')\n",
    "plt.show()"
   ]
  },
  {
   "attachments": {},
   "cell_type": "markdown",
   "metadata": {},
   "source": [
    "Here we can see the rating frequency increases towards the highest rating."
   ]
  },
  {
   "attachments": {},
   "cell_type": "markdown",
   "metadata": {},
   "source": [
    "Now we check the length of each joke and add joke_length to the df."
   ]
  },
  {
   "cell_type": "code",
   "execution_count": 18,
   "metadata": {},
   "outputs": [
    {
     "name": "stdout",
     "output_type": "stream",
     "text": [
      "   userId  jokeId                                           jokeText  rating  \\\n",
      "0   11433       8  Q. Did you hear about the dyslexic devil worsh...    10.0   \n",
      "1   51145      87  A man, recently completing a routine physical ...    10.0   \n",
      "2   51145      53  One Sunday morning William burst into the livi...    10.0   \n",
      "3   51145      29  An old Scotsmen is sitting with a younger Scot...    10.0   \n",
      "4   51145      89  A radio conversation of a US naval \\nship with...    10.0   \n",
      "\n",
      "   joke_length  \n",
      "0           84  \n",
      "1          418  \n",
      "2         1217  \n",
      "3          741  \n",
      "4          795  \n"
     ]
    }
   ],
   "source": [
    "# Add a new column to the DataFrame that contains the length of the joke text\n",
    "sample_df['joke_length'] = sample_df['jokeText'].apply(len)\n",
    "\n",
    "# Now the \"jokes\" DataFrame will have a new column called \"joke_length\" that contains the length of each joke text\n",
    "print(sample_df.head())"
   ]
  },
  {
   "attachments": {},
   "cell_type": "markdown",
   "metadata": {},
   "source": [
    "We also check the average ratings for each joke."
   ]
  },
  {
   "cell_type": "code",
   "execution_count": 19,
   "metadata": {},
   "outputs": [
    {
     "name": "stdout",
     "output_type": "stream",
     "text": [
      "jokeId\n",
      "5     0.142000\n",
      "7     0.738944\n",
      "8     5.069075\n",
      "15    1.627100\n",
      "16    0.143194\n",
      "Name: rating, dtype: float64\n",
      "   userId  jokeId                                           jokeText  rating  \\\n",
      "0   11433       8  Q. Did you hear about the dyslexic devil worsh...    10.0   \n",
      "1   51145      87  A man, recently completing a routine physical ...    10.0   \n",
      "2   51145      53  One Sunday morning William burst into the livi...    10.0   \n",
      "3   51145      29  An old Scotsmen is sitting with a younger Scot...    10.0   \n",
      "4   51145      89  A radio conversation of a US naval \\nship with...    10.0   \n",
      "\n",
      "   joke_length  average_rating  \n",
      "0           84        5.069075  \n",
      "1          418        6.807288  \n",
      "2         1217        7.095451  \n",
      "3          741        7.015639  \n",
      "4          795        7.347781  \n"
     ]
    }
   ],
   "source": [
    "# Group the DataFrame by \"jokeId\" and compute the mean of the \"rating\" column for each group\n",
    "average_ratings = sample_df.groupby('jokeId')['rating'].mean()\n",
    "\n",
    "# Now you have a Series called \"average_ratings\" that contains the average rating for each joke ID\n",
    "print(average_ratings.head())\n",
    "\n",
    "# Add a new column to the \"sample_df\" DataFrame that contains the average rating for each joke ID\n",
    "sample_df['average_rating'] = sample_df['jokeId'].map(average_ratings)\n",
    "\n",
    "# Now the \"sample_df\" DataFrame will have a new column called \"average_rating\" that contains the average rating for each joke ID\n",
    "print(sample_df.head())\n"
   ]
  },
  {
   "cell_type": "code",
   "execution_count": 20,
   "metadata": {},
   "outputs": [
    {
     "data": {
      "image/png": "[encoded data removed]",
      "text/plain": [
       "<Figure size 640x480 with 1 Axes>"
      ]
     },
     "metadata": {},
     "output_type": "display_data"
    }
   ],
   "source": [
    "sample_df.plot(kind='scatter', x='joke_length', y='average_rating')\n",
    "\n",
    "# Set the axis labels and title for the plot\n",
    "plt.xlabel('Joke Length')\n",
    "plt.ylabel('Average Rating')\n",
    "plt.title('Relationship between Joke Length and Average Rating')\n",
    "\n",
    "# Show the plot\n",
    "plt.show()\n"
   ]
  },
  {
   "attachments": {},
   "cell_type": "markdown",
   "metadata": {},
   "source": [
    "We can see that shorter jokes gets rated more frequently compared to longer jokes."
   ]
  },
  {
   "attachments": {},
   "cell_type": "markdown",
   "metadata": {},
   "source": [
    "We check what type of jokes gets more ratings based on the length"
   ]
  },
  {
   "cell_type": "code",
   "execution_count": 21,
   "metadata": {},
   "outputs": [
    {
     "name": "stdout",
     "output_type": "stream",
     "text": [
      "Top 5 most popular jokes:\n",
      "       userId  jokeId                                           jokeText  \\\n",
      "1595      447      18  A dog walks into Western Union and asks the cl...   \n",
      "16254     240      18  A dog walks into Western Union and asks the cl...   \n",
      "24737     192      27  Clinton returns from a vacation in Arkansas an...   \n",
      "18275     652      27  Clinton returns from a vacation in Arkansas an...   \n",
      "32535     565      27  Clinton returns from a vacation in Arkansas an...   \n",
      "\n",
      "       rating  joke_length  average_rating  \n",
      "1595    8.781          306        8.718500  \n",
      "16254   8.656          306        8.718500  \n",
      "24737   7.531          324        8.020667  \n",
      "18275   8.781          324        8.020667  \n",
      "32535   7.750          324        8.020667  \n",
      "Top 5 least popular jokes:\n",
      "       userId  jokeId                                           jokeText  \\\n",
      "13459     148       5  Q.\\tWhat's O. J. Simpson's Internet address? \\...   \n",
      "9846      267       5  Q.\\tWhat's O. J. Simpson's Internet address? \\...   \n",
      "9801      329       5  Q.\\tWhat's O. J. Simpson's Internet address? \\...   \n",
      "14571     717       5  Q.\\tWhat's O. J. Simpson's Internet address? \\...   \n",
      "15936     645      31   President Clinton looks up from his desk in t...   \n",
      "\n",
      "       rating  joke_length  average_rating  \n",
      "13459  -6.906           95           0.142  \n",
      "9846   -6.031           95           0.142  \n",
      "9801    9.812           95           0.142  \n",
      "14571   3.594           95           0.142  \n",
      "15936  -9.906          298          -9.906  \n"
     ]
    }
   ],
   "source": [
    "# Sort the jokes based on the average rating\n",
    "jokes_ranked = sample_df.sort_values('average_rating', ascending=False)\n",
    "\n",
    "# Print the top 5 most popular jokes\n",
    "print('Top 5 most popular jokes:')\n",
    "print(jokes_ranked.head(5))\n",
    "\n",
    "# Print the top 5 least popular jokes\n",
    "print('Top 5 least popular jokes:')\n",
    "print(jokes_ranked.tail(5))\n"
   ]
  },
  {
   "attachments": {},
   "cell_type": "markdown",
   "metadata": {},
   "source": [
    "Here we can say that longer jokes get rated highly compared to shorter jokes."
   ]
  },
  {
   "attachments": {},
   "cell_type": "markdown",
   "metadata": {},
   "source": [
    "# 4.Train/ Test and validation split"
   ]
  },
  {
   "attachments": {},
   "cell_type": "markdown",
   "metadata": {},
   "source": [
    "We group the data by joke id, and for each joke id we sample data to create train, test and validation set so that all the jokes are included in all three splits."
   ]
  },
  {
   "cell_type": "code",
   "execution_count": 478,
   "metadata": {},
   "outputs": [],
   "source": [
    "train_data, test_data, val_data = [], [], []\n",
    "\n",
    "# Group the dataframe by joke ID and iterate over each group\n",
    "for jokeId, joke_df in sample_df.groupby('jokeId'):\n",
    "\n",
    "    # Split the filtered dataframe into train, test, and validation sets\n",
    "    train = joke_df .sample(frac=0.8, random_state=200)\n",
    "    temp = joke_df.drop(train. index)\n",
    "    test = temp.sample(frac=0.5, random_state=200)\n",
    "    val = temp.drop(test.index)\n",
    "    \n",
    "    # Check that each set has at least one entry and append them to their respective lists\n",
    "    if len(train) < 1 or len(test) < 1 or len(val) < 1:\n",
    "        continue\n",
    "    train_data.append (train)\n",
    "    test_data.append(test)\n",
    "    val_data.append(val)"
   ]
  },
  {
   "cell_type": "code",
   "execution_count": 479,
   "metadata": {},
   "outputs": [],
   "source": [
    "# combining these smaller DataFrames into larger ones that contain all the training and testing data, respectively\n",
    "train_df = pd.concat (train_data)\n",
    "test_df = pd. concat (test_data)\n",
    "val_df = pd.concat(val_data)"
   ]
  },
  {
   "cell_type": "code",
   "execution_count": 480,
   "metadata": {},
   "outputs": [
    {
     "data": {
      "text/plain": [
       "(130, 130, 130)"
      ]
     },
     "execution_count": 480,
     "metadata": {},
     "output_type": "execute_result"
    }
   ],
   "source": [
    "# checking the length of column in test and train dataframe\n",
    "len(train_df['jokeId'].unique()), len(test_df['jokeId'].unique()), len(val_df['jokeId'].unique())"
   ]
  },
  {
   "attachments": {},
   "cell_type": "markdown",
   "metadata": {},
   "source": [
    "Here we can see that train_df, test_df and val_df has equal number of jokes i.e. 130 jokes."
   ]
  },
  {
   "cell_type": "code",
   "execution_count": 482,
   "metadata": {},
   "outputs": [
    {
     "data": {
      "text/plain": [
       "((26399, 6), (3299, 6), (3299, 6))"
      ]
     },
     "execution_count": 482,
     "metadata": {},
     "output_type": "execute_result"
    }
   ],
   "source": [
    "train_df.shape, test_df.shape, val_df.shape"
   ]
  },
  {
   "attachments": {},
   "cell_type": "markdown",
   "metadata": {},
   "source": [
    "# 5. Recommender system using SVD "
   ]
  },
  {
   "attachments": {},
   "cell_type": "markdown",
   "metadata": {},
   "source": [
    "We have created a joke based SVD Reccomender system. We choose the users most highest rated joke and recommend top jokes based on that to that user.\n",
    "\n",
    "To build a recommendation system, we need to transform this tabular data into a matrix where each row represents a user, each column represents a joke, and each entry in the matrix represents the rating given by the user to the joke. This matrix is called a user-item-rating matrix for 'train_df'.All users will not have rated every joke in the dataset, so there will be missing values in the matrix which is replaced by 0.\n"
   ]
  },
  {
   "cell_type": "code",
   "execution_count": 483,
   "metadata": {},
   "outputs": [],
   "source": [
    "# transforming 'train_df' into a user-joke matrix\n",
    "train_matrix = train_df.pivot(index=\"userId\", columns=\"jokeId\", values=\"rating\").fillna(0)"
   ]
  },
  {
   "cell_type": "code",
   "execution_count": 484,
   "metadata": {},
   "outputs": [
    {
     "data": {
      "text/html": [
       "<div>\n",
       "<style scoped>\n",
       "    .dataframe tbody tr th:only-of-type {\n",
       "        vertical-align: middle;\n",
       "    }\n",
       "\n",
       "    .dataframe tbody tr th {\n",
       "        vertical-align: top;\n",
       "    }\n",
       "\n",
       "    .dataframe thead th {\n",
       "        text-align: right;\n",
       "    }\n",
       "</style>\n",
       "<table border=\"1\" class=\"dataframe\">\n",
       "  <thead>\n",
       "    <tr style=\"text-align: right;\">\n",
       "      <th>jokeId</th>\n",
       "      <th>5</th>\n",
       "      <th>7</th>\n",
       "      <th>8</th>\n",
       "      <th>15</th>\n",
       "      <th>16</th>\n",
       "      <th>17</th>\n",
       "      <th>19</th>\n",
       "      <th>20</th>\n",
       "      <th>21</th>\n",
       "      <th>22</th>\n",
       "      <th>...</th>\n",
       "      <th>141</th>\n",
       "      <th>142</th>\n",
       "      <th>143</th>\n",
       "      <th>144</th>\n",
       "      <th>145</th>\n",
       "      <th>146</th>\n",
       "      <th>147</th>\n",
       "      <th>148</th>\n",
       "      <th>149</th>\n",
       "      <th>150</th>\n",
       "    </tr>\n",
       "    <tr>\n",
       "      <th>userId</th>\n",
       "      <th></th>\n",
       "      <th></th>\n",
       "      <th></th>\n",
       "      <th></th>\n",
       "      <th></th>\n",
       "      <th></th>\n",
       "      <th></th>\n",
       "      <th></th>\n",
       "      <th></th>\n",
       "      <th></th>\n",
       "      <th></th>\n",
       "      <th></th>\n",
       "      <th></th>\n",
       "      <th></th>\n",
       "      <th></th>\n",
       "      <th></th>\n",
       "      <th></th>\n",
       "      <th></th>\n",
       "      <th></th>\n",
       "      <th></th>\n",
       "      <th></th>\n",
       "    </tr>\n",
       "  </thead>\n",
       "  <tbody>\n",
       "    <tr>\n",
       "      <th>9</th>\n",
       "      <td>0.000</td>\n",
       "      <td>0.000</td>\n",
       "      <td>0.0</td>\n",
       "      <td>0.0</td>\n",
       "      <td>0.0</td>\n",
       "      <td>0.000</td>\n",
       "      <td>0.000</td>\n",
       "      <td>-5.938</td>\n",
       "      <td>0.000</td>\n",
       "      <td>0.0</td>\n",
       "      <td>...</td>\n",
       "      <td>0.0</td>\n",
       "      <td>0.0</td>\n",
       "      <td>0.000</td>\n",
       "      <td>0.0</td>\n",
       "      <td>0.0</td>\n",
       "      <td>0.0</td>\n",
       "      <td>0.0</td>\n",
       "      <td>0.0</td>\n",
       "      <td>0.0</td>\n",
       "      <td>0.0</td>\n",
       "    </tr>\n",
       "    <tr>\n",
       "      <th>17</th>\n",
       "      <td>0.000</td>\n",
       "      <td>0.000</td>\n",
       "      <td>0.0</td>\n",
       "      <td>0.0</td>\n",
       "      <td>0.0</td>\n",
       "      <td>0.000</td>\n",
       "      <td>6.719</td>\n",
       "      <td>0.000</td>\n",
       "      <td>0.000</td>\n",
       "      <td>0.0</td>\n",
       "      <td>...</td>\n",
       "      <td>0.0</td>\n",
       "      <td>0.0</td>\n",
       "      <td>0.000</td>\n",
       "      <td>0.0</td>\n",
       "      <td>0.0</td>\n",
       "      <td>0.0</td>\n",
       "      <td>0.0</td>\n",
       "      <td>0.0</td>\n",
       "      <td>0.0</td>\n",
       "      <td>0.0</td>\n",
       "    </tr>\n",
       "    <tr>\n",
       "      <th>41</th>\n",
       "      <td>8.594</td>\n",
       "      <td>0.000</td>\n",
       "      <td>0.0</td>\n",
       "      <td>0.0</td>\n",
       "      <td>0.0</td>\n",
       "      <td>0.000</td>\n",
       "      <td>0.000</td>\n",
       "      <td>0.000</td>\n",
       "      <td>9.969</td>\n",
       "      <td>0.0</td>\n",
       "      <td>...</td>\n",
       "      <td>0.0</td>\n",
       "      <td>0.0</td>\n",
       "      <td>0.000</td>\n",
       "      <td>0.0</td>\n",
       "      <td>0.0</td>\n",
       "      <td>0.0</td>\n",
       "      <td>0.0</td>\n",
       "      <td>0.0</td>\n",
       "      <td>0.0</td>\n",
       "      <td>0.0</td>\n",
       "    </tr>\n",
       "    <tr>\n",
       "      <th>42</th>\n",
       "      <td>-6.562</td>\n",
       "      <td>0.000</td>\n",
       "      <td>0.0</td>\n",
       "      <td>0.0</td>\n",
       "      <td>0.0</td>\n",
       "      <td>0.000</td>\n",
       "      <td>0.000</td>\n",
       "      <td>0.000</td>\n",
       "      <td>0.000</td>\n",
       "      <td>0.0</td>\n",
       "      <td>...</td>\n",
       "      <td>0.0</td>\n",
       "      <td>0.0</td>\n",
       "      <td>0.000</td>\n",
       "      <td>0.0</td>\n",
       "      <td>0.0</td>\n",
       "      <td>0.0</td>\n",
       "      <td>0.0</td>\n",
       "      <td>0.0</td>\n",
       "      <td>0.0</td>\n",
       "      <td>0.0</td>\n",
       "    </tr>\n",
       "    <tr>\n",
       "      <th>46</th>\n",
       "      <td>0.000</td>\n",
       "      <td>0.000</td>\n",
       "      <td>0.0</td>\n",
       "      <td>0.0</td>\n",
       "      <td>0.0</td>\n",
       "      <td>0.000</td>\n",
       "      <td>0.000</td>\n",
       "      <td>0.000</td>\n",
       "      <td>0.000</td>\n",
       "      <td>0.0</td>\n",
       "      <td>...</td>\n",
       "      <td>0.0</td>\n",
       "      <td>0.0</td>\n",
       "      <td>9.156</td>\n",
       "      <td>0.0</td>\n",
       "      <td>0.0</td>\n",
       "      <td>0.0</td>\n",
       "      <td>0.0</td>\n",
       "      <td>0.0</td>\n",
       "      <td>0.0</td>\n",
       "      <td>0.0</td>\n",
       "    </tr>\n",
       "    <tr>\n",
       "      <th>...</th>\n",
       "      <td>...</td>\n",
       "      <td>...</td>\n",
       "      <td>...</td>\n",
       "      <td>...</td>\n",
       "      <td>...</td>\n",
       "      <td>...</td>\n",
       "      <td>...</td>\n",
       "      <td>...</td>\n",
       "      <td>...</td>\n",
       "      <td>...</td>\n",
       "      <td>...</td>\n",
       "      <td>...</td>\n",
       "      <td>...</td>\n",
       "      <td>...</td>\n",
       "      <td>...</td>\n",
       "      <td>...</td>\n",
       "      <td>...</td>\n",
       "      <td>...</td>\n",
       "      <td>...</td>\n",
       "      <td>...</td>\n",
       "      <td>...</td>\n",
       "    </tr>\n",
       "    <tr>\n",
       "      <th>63951</th>\n",
       "      <td>0.000</td>\n",
       "      <td>0.000</td>\n",
       "      <td>0.0</td>\n",
       "      <td>0.0</td>\n",
       "      <td>0.0</td>\n",
       "      <td>0.000</td>\n",
       "      <td>0.000</td>\n",
       "      <td>0.000</td>\n",
       "      <td>0.000</td>\n",
       "      <td>0.0</td>\n",
       "      <td>...</td>\n",
       "      <td>0.0</td>\n",
       "      <td>0.0</td>\n",
       "      <td>0.000</td>\n",
       "      <td>0.0</td>\n",
       "      <td>0.0</td>\n",
       "      <td>0.0</td>\n",
       "      <td>0.0</td>\n",
       "      <td>0.0</td>\n",
       "      <td>0.0</td>\n",
       "      <td>0.0</td>\n",
       "    </tr>\n",
       "    <tr>\n",
       "      <th>63957</th>\n",
       "      <td>0.000</td>\n",
       "      <td>9.844</td>\n",
       "      <td>0.0</td>\n",
       "      <td>0.0</td>\n",
       "      <td>0.0</td>\n",
       "      <td>0.000</td>\n",
       "      <td>0.000</td>\n",
       "      <td>0.000</td>\n",
       "      <td>0.000</td>\n",
       "      <td>0.0</td>\n",
       "      <td>...</td>\n",
       "      <td>0.0</td>\n",
       "      <td>0.0</td>\n",
       "      <td>0.000</td>\n",
       "      <td>0.0</td>\n",
       "      <td>0.0</td>\n",
       "      <td>0.0</td>\n",
       "      <td>0.0</td>\n",
       "      <td>0.0</td>\n",
       "      <td>0.0</td>\n",
       "      <td>0.0</td>\n",
       "    </tr>\n",
       "    <tr>\n",
       "      <th>63958</th>\n",
       "      <td>0.000</td>\n",
       "      <td>0.000</td>\n",
       "      <td>9.5</td>\n",
       "      <td>0.0</td>\n",
       "      <td>0.0</td>\n",
       "      <td>0.000</td>\n",
       "      <td>0.000</td>\n",
       "      <td>0.000</td>\n",
       "      <td>0.000</td>\n",
       "      <td>0.0</td>\n",
       "      <td>...</td>\n",
       "      <td>0.0</td>\n",
       "      <td>0.0</td>\n",
       "      <td>0.000</td>\n",
       "      <td>0.0</td>\n",
       "      <td>0.0</td>\n",
       "      <td>0.0</td>\n",
       "      <td>0.0</td>\n",
       "      <td>0.0</td>\n",
       "      <td>0.0</td>\n",
       "      <td>0.0</td>\n",
       "    </tr>\n",
       "    <tr>\n",
       "      <th>63966</th>\n",
       "      <td>0.000</td>\n",
       "      <td>-1.750</td>\n",
       "      <td>0.0</td>\n",
       "      <td>0.0</td>\n",
       "      <td>0.0</td>\n",
       "      <td>5.094</td>\n",
       "      <td>0.000</td>\n",
       "      <td>0.000</td>\n",
       "      <td>0.000</td>\n",
       "      <td>0.0</td>\n",
       "      <td>...</td>\n",
       "      <td>0.0</td>\n",
       "      <td>0.0</td>\n",
       "      <td>0.000</td>\n",
       "      <td>0.0</td>\n",
       "      <td>0.0</td>\n",
       "      <td>0.0</td>\n",
       "      <td>0.0</td>\n",
       "      <td>0.0</td>\n",
       "      <td>0.0</td>\n",
       "      <td>0.0</td>\n",
       "    </tr>\n",
       "    <tr>\n",
       "      <th>63978</th>\n",
       "      <td>0.000</td>\n",
       "      <td>0.000</td>\n",
       "      <td>0.0</td>\n",
       "      <td>0.0</td>\n",
       "      <td>0.0</td>\n",
       "      <td>0.000</td>\n",
       "      <td>0.000</td>\n",
       "      <td>0.000</td>\n",
       "      <td>0.000</td>\n",
       "      <td>0.0</td>\n",
       "      <td>...</td>\n",
       "      <td>0.0</td>\n",
       "      <td>0.0</td>\n",
       "      <td>0.000</td>\n",
       "      <td>0.0</td>\n",
       "      <td>0.0</td>\n",
       "      <td>0.0</td>\n",
       "      <td>0.0</td>\n",
       "      <td>0.0</td>\n",
       "      <td>0.0</td>\n",
       "      <td>0.0</td>\n",
       "    </tr>\n",
       "  </tbody>\n",
       "</table>\n",
       "<p>7105 rows × 130 columns</p>\n",
       "</div>"
      ],
      "text/plain": [
       "jokeId    5      7    8    15   16     17     19     20     21   22   ...  \\\n",
       "userId                                                                ...   \n",
       "9       0.000  0.000  0.0  0.0  0.0  0.000  0.000 -5.938  0.000  0.0  ...   \n",
       "17      0.000  0.000  0.0  0.0  0.0  0.000  6.719  0.000  0.000  0.0  ...   \n",
       "41      8.594  0.000  0.0  0.0  0.0  0.000  0.000  0.000  9.969  0.0  ...   \n",
       "42     -6.562  0.000  0.0  0.0  0.0  0.000  0.000  0.000  0.000  0.0  ...   \n",
       "46      0.000  0.000  0.0  0.0  0.0  0.000  0.000  0.000  0.000  0.0  ...   \n",
       "...       ...    ...  ...  ...  ...    ...    ...    ...    ...  ...  ...   \n",
       "63951   0.000  0.000  0.0  0.0  0.0  0.000  0.000  0.000  0.000  0.0  ...   \n",
       "63957   0.000  9.844  0.0  0.0  0.0  0.000  0.000  0.000  0.000  0.0  ...   \n",
       "63958   0.000  0.000  9.5  0.0  0.0  0.000  0.000  0.000  0.000  0.0  ...   \n",
       "63966   0.000 -1.750  0.0  0.0  0.0  5.094  0.000  0.000  0.000  0.0  ...   \n",
       "63978   0.000  0.000  0.0  0.0  0.0  0.000  0.000  0.000  0.000  0.0  ...   \n",
       "\n",
       "jokeId  141  142    143  144  145  146  147  148  149  150  \n",
       "userId                                                      \n",
       "9       0.0  0.0  0.000  0.0  0.0  0.0  0.0  0.0  0.0  0.0  \n",
       "17      0.0  0.0  0.000  0.0  0.0  0.0  0.0  0.0  0.0  0.0  \n",
       "41      0.0  0.0  0.000  0.0  0.0  0.0  0.0  0.0  0.0  0.0  \n",
       "42      0.0  0.0  0.000  0.0  0.0  0.0  0.0  0.0  0.0  0.0  \n",
       "46      0.0  0.0  9.156  0.0  0.0  0.0  0.0  0.0  0.0  0.0  \n",
       "...     ...  ...    ...  ...  ...  ...  ...  ...  ...  ...  \n",
       "63951   0.0  0.0  0.000  0.0  0.0  0.0  0.0  0.0  0.0  0.0  \n",
       "63957   0.0  0.0  0.000  0.0  0.0  0.0  0.0  0.0  0.0  0.0  \n",
       "63958   0.0  0.0  0.000  0.0  0.0  0.0  0.0  0.0  0.0  0.0  \n",
       "63966   0.0  0.0  0.000  0.0  0.0  0.0  0.0  0.0  0.0  0.0  \n",
       "63978   0.0  0.0  0.000  0.0  0.0  0.0  0.0  0.0  0.0  0.0  \n",
       "\n",
       "[7105 rows x 130 columns]"
      ]
     },
     "execution_count": 484,
     "metadata": {},
     "output_type": "execute_result"
    }
   ],
   "source": [
    "train_matrix"
   ]
  },
  {
   "attachments": {},
   "cell_type": "markdown",
   "metadata": {},
   "source": [
    "We also convert test_df and val_df into user-joke matrixes."
   ]
  },
  {
   "cell_type": "code",
   "execution_count": 489,
   "metadata": {},
   "outputs": [],
   "source": [
    "# transforming 'train_df' into a user-joke matrix\n",
    "test_matrix = test_df.pivot(index=\"userId\", columns=\"jokeId\", values=\"rating\").fillna(0)"
   ]
  },
  {
   "cell_type": "code",
   "execution_count": 490,
   "metadata": {},
   "outputs": [],
   "source": [
    "# transforming 'val_df' into a user-joke matrix\n",
    "val_matrix = val_df.pivot(index=\"userId\", columns=\"jokeId\", values=\"rating\").fillna(0)"
   ]
  },
  {
   "cell_type": "code",
   "execution_count": 491,
   "metadata": {},
   "outputs": [
    {
     "data": {
      "text/plain": [
       "(2436, 130)"
      ]
     },
     "execution_count": 491,
     "metadata": {},
     "output_type": "execute_result"
    }
   ],
   "source": [
    "val_matrix.shape"
   ]
  },
  {
   "cell_type": "code",
   "execution_count": 492,
   "metadata": {},
   "outputs": [],
   "source": [
    "# creating two dictionaries 'joke_id2idx' and 'idx2joke_id' which are used to map joke IDs to and from their corresponding indices in the 'train_matrix'\n",
    "joke_id2idx = {k: v for v, k in enumerate(train_matrix.columns)}\n",
    "idx2joke_id = {v: k for v, k in enumerate(train_matrix.columns)}"
   ]
  },
  {
   "attachments": {},
   "cell_type": "markdown",
   "metadata": {},
   "source": [
    "## 5.1 SVD "
   ]
  },
  {
   "attachments": {},
   "cell_type": "markdown",
   "metadata": {},
   "source": [
    "Here we define the functions to perform SVD decomposition of data, transform the data with SVD and reconstruct transformed data for evaluation. We also define a function to get the explained variance ratio of the SVD decomposition to pick the correct hyperparameters."
   ]
  },
  {
   "cell_type": "code",
   "execution_count": 493,
   "metadata": {},
   "outputs": [],
   "source": [
    "from scipy.linalg import svd\n",
    "\n",
    "# Define a function to perform SVD decomposition on a given matrix X\n",
    "def svd_decomposition(X, n_elements):\n",
    "    # Perform SVD decomposition on matrix X\n",
    "    U, s, VT = svd(X, full_matrices=False) \n",
    "    # Select only the first n_elements singular values and their corresponding rows in VT\n",
    "    s = s[:n_elements]  \n",
    "    VT = VT[:n_elements, :]\n",
    "    # Return the left singular vectors (U), singular values (s), and right singular vectors (VT) for the given X matrix\n",
    "    return U, s, VT \n",
    "\n",
    "# Define a function to reconstruct a matrix X given its right singular vectors VT\n",
    "def svd_reconstruct(X, VT):\n",
    "    return np.dot(X, VT) # Compute the dot product of X and VT to obtain the reconstructed matrix\n",
    "\n",
    "# Define a function to transform a matrix X using its right singular vectors VT\n",
    "def svd_transform(X, VT):\n",
    "    return np.dot(X, VT.T) # Compute the dot product of X and the transpose of VT to obtain the transformed matrix\n",
    "\n",
    "# Define a function to compute the explained variance ratio for a  matrix X given the right singular vectors VT\n",
    "def svd_explained_var_ratio(X, VT):  \n",
    "    X_transformed = np.dot(X, VT.T) # Transform X using VT to obtain the transformed matrix X_transformed\n",
    "    exp_var = np.var(X_transformed, axis=0)  # Compute the variance of each column in X_transformed\n",
    "    full_var = np.var(X, axis=0).sum() # Compute the total variance of X by summing the variances of each column\n",
    "    return (exp_var / full_var).sum() # Compute the ratio of explained variance to total variance and return the sum of these ratios across all columns in X_transformed"
   ]
  },
  {
   "cell_type": "code",
   "execution_count": 494,
   "metadata": {},
   "outputs": [
    {
     "data": {
      "image/png": "[encoded data removed]",
      "text/plain": [
       "<Figure size 640x480 with 1 Axes>"
      ]
     },
     "metadata": {},
     "output_type": "display_data"
    }
   ],
   "source": [
    "# picking the number of components that explains 90% of variance in the data\n",
    "import matplotlib.pylab as plt\n",
    "\n",
    "x, y = [], []\n",
    "\n",
    "# calculate the explained variance ratio\n",
    "for i in range(10, 110, 10):\n",
    "    U, Sigma, VT = svd_decomposition(val_matrix.values.T, n_elements=i)\n",
    "    var_explained = svd_explained_var_ratio(val_matrix.values.T, VT)\n",
    "    y.append(var_explained)\n",
    "    x.append(i)\n",
    "\n",
    "#plot\n",
    "plt.plot(x, y)\n",
    "plt.axvline(x=80, color='r')\n",
    "plt.title('Optimal number of components for SVD')\n",
    "plt.xlabel('Number of components')\n",
    "plt.ylabel(\"% of explained variance\")\n",
    "plt.show()"
   ]
  },
  {
   "attachments": {},
   "cell_type": "markdown",
   "metadata": {},
   "source": [
    "After analyzing the plot of the percentage of explained variance against the number of components, we can say that selecting 80 components can provide an explanation for 90% of the variance in the data. Hence, we select 80 as the optimal number of components."
   ]
  },
  {
   "attachments": {},
   "cell_type": "markdown",
   "metadata": {},
   "source": [
    "We then performed SVD decomposition on the train_matrix using the svd_decomposition function we defined earlier then, transform the train matrix using the VT matrix obtained from SVD decomposition to obtain the reduced SVD matrix."
   ]
  },
  {
   "cell_type": "code",
   "execution_count": 498,
   "metadata": {},
   "outputs": [
    {
     "data": {
      "text/plain": [
       "(130, 80)"
      ]
     },
     "execution_count": 498,
     "metadata": {},
     "output_type": "execute_result"
    }
   ],
   "source": [
    "# Perform SVD decomposition on the transpose of the train matrix using 147 components\n",
    "U, Sigma, VT = svd_decomposition(train_matrix.values.T, n_elements=80)\n",
    "\n",
    "# Transform the train matrix using the VT matrix obtained from SVD decomposition to obtain the reduced SVD matrix\n",
    "train_svd_matrix = svd_transform(train_matrix.values.T, VT)\n",
    "train_svd_matrix.shape"
   ]
  },
  {
   "attachments": {},
   "cell_type": "markdown",
   "metadata": {},
   "source": [
    "## 5.2 SVD Recommender system"
   ]
  },
  {
   "attachments": {},
   "cell_type": "markdown",
   "metadata": {},
   "source": [
    "A function svd_recommend is defined that takes in a user ID and recommends n jokes to that customer based on the similarity of the jokes to the ones the customer has already rated, using the cosine similarity measure.\n",
    "\n",
    "The function selects the joke with the highest rating. Then, cosine similarity between the selected joke and all other jokes is calulated followed by identification of top 5 jokes."
   ]
  },
  {
   "cell_type": "code",
   "execution_count": 499,
   "metadata": {},
   "outputs": [],
   "source": [
    "def svd_recommend(userId, train_svd, n=5):\n",
    "    # defining a function to check similarity between two joke vectors\n",
    "    def cosine_similarity(v,u):\n",
    "        return (v @ u)/ (np.linalg.norm(v) * np.linalg.norm(u))\n",
    "\n",
    "    history = sample_df.query(f\"userId == {userId}\")\n",
    "    # Check if user history exists\n",
    "    if(len(history) == 0):\n",
    "        print('User history not found')\n",
    "    else:\n",
    "        print(history[['jokeText', 'rating']]) \n",
    "    max_rating = history['rating'].max() # Find the maximum rating given by the user in their history\n",
    "    latest = history[history['rating'] == max_rating].iloc[0]\n",
    "    idx = joke_id2idx[latest['jokeId']]  # Map the joke id to its index and store the result in 'idx' variable\n",
    "\n",
    "    # Create a list to store similarity scores between the searched joke and all other jokes in the train set\n",
    "    scores = []\n",
    "    for i in range(train_svd.shape[0]):\n",
    "         # get similarity score between searched joke and joke i\n",
    "        if idx == i: continue\n",
    "        # get similarity score between searched joke and other jokes\n",
    "        score = cosine_similarity(train_svd[idx], train_svd[i])\n",
    "        scores.append(score)\n",
    "\n",
    "\n",
    "    # Convert scores to a numpy array\n",
    "    scores = np.array(scores)\n",
    "\n",
    "    # Sort the scores in descending order and get the indices of the top n jokes\n",
    "    topn = (-scores).argsort()[:n]\n",
    "    # Print the joke text of the recommended jokes\n",
    "    print(topn)\n",
    "    print('---------------------------------------------------')\n",
    "    print('Recommended Joke based on the users higest rating:')\n",
    "    print('---------------------------------------------------')\n",
    "    for i, idx in enumerate(topn):\n",
    "        a = idx2joke_id[idx]\n",
    "        print(idx, df[df['jokeId']==a].iloc[0]['jokeText'])\n",
    "\n"
   ]
  },
  {
   "cell_type": "code",
   "execution_count": 500,
   "metadata": {},
   "outputs": [
    {
     "name": "stdout",
     "output_type": "stream",
     "text": [
      "                                                jokeText  rating\n",
      "13842  A neutron walks into a bar and orders a drink....   7.281\n",
      "13843  Why are there so many Jones's in the phone boo...   8.031\n",
      "13844  On the first day of college, the Dean addresse...   5.812\n",
      "13845  The Pope dies and, naturally, goes to heaven. ...   9.938\n",
      "13846  A preist, a 12-year-old kid, and the smartest ...   9.156\n",
      "13847  Q: Do you know the difference between an intel...   2.312\n",
      "13848  Q: What is the Australian word for a boomerang...   9.906\n",
      "13849  Two atoms are walking down the street when one...   5.844\n",
      "13850  Q: What's the difference between a Lawyer and ...   6.719\n",
      "13851  If pro- is the opposite of con- then congress ...   4.156\n",
      "13852  A man and Cindy Crawford get stranded on a des...   8.531\n",
      "13853  An engineer, a physicist and a mathematician a...   7.312\n",
      "13854  A Jewish young man was seeing a psychiatrist f...   1.656\n",
      "13855  The graduate with a Science degree asks, \"Why ...   8.531\n",
      "[ 60 101 128  23  41]\n",
      "---------------------------------------------------\n",
      "Recommended Joke based on the users higest rating:\n",
      "---------------------------------------------------\n",
      "60 Q: What's the difference between the government  and  the Mafia?\n",
      "\n",
      "A: One of them is organized.\n",
      "\n",
      "101 An astronomer, a physicist and a mathematician (it is said) were holidaying in Scotland. Glancing from a train window, they observed a black sheep in the middle of a field. \"How interesting,\" observed the astronomer, \"All Scottish sheep are black!\" To which the physicist responded, \"No, no! Some Scottish sheep are black!\" The mathematician gazed heavenward in supplication, and then intoned, \"In Scotland there exists at least one field, containing at least one sheep, at least one side of which is black.\"\n",
      "128 A little girl asked her father, \"Daddy? Do all fairy tales begin with 'Once Upon a Time'?\" He replied, \"No, there is a whole series of fairy tales that begin with 'If elected I promise'.\"\n",
      "23 \"May I take your order?\" the waiter asked. \n",
      "\n",
      "\"Yes, how do you prepare your chickens?\" \n",
      "\n",
      "\"Nothing special sir,\" he replied. \"We just tell them straight out\n",
      "that they're going to die.\"\n",
      "\n",
      "41 How many teddybears does it take to change a lightbulb?\n",
      "\n",
      "It takes only one teddybear, but it takes a whole lot of lightbulbs.\n",
      "\n"
     ]
    }
   ],
   "source": [
    "svd_recommend(46, train_svd_matrix)"
   ]
  },
  {
   "attachments": {},
   "cell_type": "markdown",
   "metadata": {},
   "source": [
    "## 5.3 Performance evaluation of SVD"
   ]
  },
  {
   "attachments": {},
   "cell_type": "markdown",
   "metadata": {},
   "source": [
    "To evaluate the performance of the SVD based recommender, we transform the test dataset to dimensionality reduced SVD matrix. Then, we transform the SVD matrix back to original form which represents our predictions. To compute evaluation metric, we use MSE between original matrix and prediction matrix."
   ]
  },
  {
   "cell_type": "code",
   "execution_count": 502,
   "metadata": {},
   "outputs": [
    {
     "data": {
      "text/plain": [
       "0.05563385488919959"
      ]
     },
     "execution_count": 502,
     "metadata": {},
     "output_type": "execute_result"
    }
   ],
   "source": [
    "# Perform SVD decomposition on the test matrix and transform it\n",
    "U, Sigma, VT_test = svd_decomposition(test_matrix.values.T, n_elements=80)\n",
    "test_svd_matrix = svd_transform(test_matrix.values.T, VT_test)\n",
    "\n",
    "# Calculate mean squared error between the original test matrix and the reconstructed matrix using the SVD\n",
    "mse = np.mean((test_matrix.T.values - svd_reconstruct(test_svd_matrix, VT_test))**2)\n",
    "mse"
   ]
  },
  {
   "attachments": {},
   "cell_type": "markdown",
   "metadata": {},
   "source": [
    "# 6. Recommendation system using KNN\n"
   ]
  },
  {
   "attachments": {},
   "cell_type": "markdown",
   "metadata": {},
   "source": [
    "We now create a user-similarity based KNN Reccomender system. Initially, we do dimentinality reduction of user_joke_matrix using SVD. Then we create a cosine similarity matrix between all users represented in the SVD martix. Then to get the nearest neighbors for a particular user, we compute the similarity score between the user and all the other users in the SVD matrix. Then to recommend jokes to the user, we select jokes that were rated highly (>5) by the neighbors."
   ]
  },
  {
   "cell_type": "code",
   "execution_count": 213,
   "metadata": {},
   "outputs": [
    {
     "data": {
      "text/html": [
       "<div>\n",
       "<style scoped>\n",
       "    .dataframe tbody tr th:only-of-type {\n",
       "        vertical-align: middle;\n",
       "    }\n",
       "\n",
       "    .dataframe tbody tr th {\n",
       "        vertical-align: top;\n",
       "    }\n",
       "\n",
       "    .dataframe thead th {\n",
       "        text-align: right;\n",
       "    }\n",
       "</style>\n",
       "<table border=\"1\" class=\"dataframe\">\n",
       "  <thead>\n",
       "    <tr style=\"text-align: right;\">\n",
       "      <th>jokeId</th>\n",
       "      <th>5</th>\n",
       "      <th>7</th>\n",
       "      <th>8</th>\n",
       "      <th>15</th>\n",
       "      <th>16</th>\n",
       "      <th>17</th>\n",
       "      <th>19</th>\n",
       "      <th>20</th>\n",
       "      <th>21</th>\n",
       "      <th>22</th>\n",
       "      <th>...</th>\n",
       "      <th>141</th>\n",
       "      <th>142</th>\n",
       "      <th>143</th>\n",
       "      <th>144</th>\n",
       "      <th>145</th>\n",
       "      <th>146</th>\n",
       "      <th>147</th>\n",
       "      <th>148</th>\n",
       "      <th>149</th>\n",
       "      <th>150</th>\n",
       "    </tr>\n",
       "    <tr>\n",
       "      <th>userId</th>\n",
       "      <th></th>\n",
       "      <th></th>\n",
       "      <th></th>\n",
       "      <th></th>\n",
       "      <th></th>\n",
       "      <th></th>\n",
       "      <th></th>\n",
       "      <th></th>\n",
       "      <th></th>\n",
       "      <th></th>\n",
       "      <th></th>\n",
       "      <th></th>\n",
       "      <th></th>\n",
       "      <th></th>\n",
       "      <th></th>\n",
       "      <th></th>\n",
       "      <th></th>\n",
       "      <th></th>\n",
       "      <th></th>\n",
       "      <th></th>\n",
       "      <th></th>\n",
       "    </tr>\n",
       "  </thead>\n",
       "  <tbody>\n",
       "    <tr>\n",
       "      <th>9</th>\n",
       "      <td>0.000</td>\n",
       "      <td>0.000</td>\n",
       "      <td>0.0</td>\n",
       "      <td>0.0</td>\n",
       "      <td>0.0</td>\n",
       "      <td>0.000</td>\n",
       "      <td>0.000</td>\n",
       "      <td>-5.938</td>\n",
       "      <td>0.000</td>\n",
       "      <td>0.0</td>\n",
       "      <td>...</td>\n",
       "      <td>0.0</td>\n",
       "      <td>0.0</td>\n",
       "      <td>0.000</td>\n",
       "      <td>0.0</td>\n",
       "      <td>0.0</td>\n",
       "      <td>0.0</td>\n",
       "      <td>0.0</td>\n",
       "      <td>0.0</td>\n",
       "      <td>0.0</td>\n",
       "      <td>0.0</td>\n",
       "    </tr>\n",
       "    <tr>\n",
       "      <th>17</th>\n",
       "      <td>0.000</td>\n",
       "      <td>0.000</td>\n",
       "      <td>0.0</td>\n",
       "      <td>0.0</td>\n",
       "      <td>0.0</td>\n",
       "      <td>0.000</td>\n",
       "      <td>6.719</td>\n",
       "      <td>0.000</td>\n",
       "      <td>0.000</td>\n",
       "      <td>0.0</td>\n",
       "      <td>...</td>\n",
       "      <td>0.0</td>\n",
       "      <td>0.0</td>\n",
       "      <td>0.000</td>\n",
       "      <td>0.0</td>\n",
       "      <td>0.0</td>\n",
       "      <td>0.0</td>\n",
       "      <td>0.0</td>\n",
       "      <td>0.0</td>\n",
       "      <td>0.0</td>\n",
       "      <td>0.0</td>\n",
       "    </tr>\n",
       "    <tr>\n",
       "      <th>41</th>\n",
       "      <td>8.594</td>\n",
       "      <td>0.000</td>\n",
       "      <td>0.0</td>\n",
       "      <td>0.0</td>\n",
       "      <td>0.0</td>\n",
       "      <td>0.000</td>\n",
       "      <td>0.000</td>\n",
       "      <td>0.000</td>\n",
       "      <td>9.969</td>\n",
       "      <td>0.0</td>\n",
       "      <td>...</td>\n",
       "      <td>0.0</td>\n",
       "      <td>0.0</td>\n",
       "      <td>0.000</td>\n",
       "      <td>0.0</td>\n",
       "      <td>0.0</td>\n",
       "      <td>0.0</td>\n",
       "      <td>0.0</td>\n",
       "      <td>0.0</td>\n",
       "      <td>0.0</td>\n",
       "      <td>0.0</td>\n",
       "    </tr>\n",
       "    <tr>\n",
       "      <th>42</th>\n",
       "      <td>-6.562</td>\n",
       "      <td>0.000</td>\n",
       "      <td>0.0</td>\n",
       "      <td>0.0</td>\n",
       "      <td>0.0</td>\n",
       "      <td>0.000</td>\n",
       "      <td>0.000</td>\n",
       "      <td>0.000</td>\n",
       "      <td>0.000</td>\n",
       "      <td>0.0</td>\n",
       "      <td>...</td>\n",
       "      <td>0.0</td>\n",
       "      <td>0.0</td>\n",
       "      <td>0.000</td>\n",
       "      <td>0.0</td>\n",
       "      <td>0.0</td>\n",
       "      <td>0.0</td>\n",
       "      <td>0.0</td>\n",
       "      <td>0.0</td>\n",
       "      <td>0.0</td>\n",
       "      <td>0.0</td>\n",
       "    </tr>\n",
       "    <tr>\n",
       "      <th>46</th>\n",
       "      <td>0.000</td>\n",
       "      <td>0.000</td>\n",
       "      <td>0.0</td>\n",
       "      <td>0.0</td>\n",
       "      <td>0.0</td>\n",
       "      <td>0.000</td>\n",
       "      <td>0.000</td>\n",
       "      <td>0.000</td>\n",
       "      <td>0.000</td>\n",
       "      <td>0.0</td>\n",
       "      <td>...</td>\n",
       "      <td>0.0</td>\n",
       "      <td>0.0</td>\n",
       "      <td>9.156</td>\n",
       "      <td>0.0</td>\n",
       "      <td>0.0</td>\n",
       "      <td>0.0</td>\n",
       "      <td>0.0</td>\n",
       "      <td>0.0</td>\n",
       "      <td>0.0</td>\n",
       "      <td>0.0</td>\n",
       "    </tr>\n",
       "    <tr>\n",
       "      <th>...</th>\n",
       "      <td>...</td>\n",
       "      <td>...</td>\n",
       "      <td>...</td>\n",
       "      <td>...</td>\n",
       "      <td>...</td>\n",
       "      <td>...</td>\n",
       "      <td>...</td>\n",
       "      <td>...</td>\n",
       "      <td>...</td>\n",
       "      <td>...</td>\n",
       "      <td>...</td>\n",
       "      <td>...</td>\n",
       "      <td>...</td>\n",
       "      <td>...</td>\n",
       "      <td>...</td>\n",
       "      <td>...</td>\n",
       "      <td>...</td>\n",
       "      <td>...</td>\n",
       "      <td>...</td>\n",
       "      <td>...</td>\n",
       "      <td>...</td>\n",
       "    </tr>\n",
       "    <tr>\n",
       "      <th>63951</th>\n",
       "      <td>0.000</td>\n",
       "      <td>0.000</td>\n",
       "      <td>0.0</td>\n",
       "      <td>0.0</td>\n",
       "      <td>0.0</td>\n",
       "      <td>0.000</td>\n",
       "      <td>0.000</td>\n",
       "      <td>0.000</td>\n",
       "      <td>0.000</td>\n",
       "      <td>0.0</td>\n",
       "      <td>...</td>\n",
       "      <td>0.0</td>\n",
       "      <td>0.0</td>\n",
       "      <td>0.000</td>\n",
       "      <td>0.0</td>\n",
       "      <td>0.0</td>\n",
       "      <td>0.0</td>\n",
       "      <td>0.0</td>\n",
       "      <td>0.0</td>\n",
       "      <td>0.0</td>\n",
       "      <td>0.0</td>\n",
       "    </tr>\n",
       "    <tr>\n",
       "      <th>63957</th>\n",
       "      <td>0.000</td>\n",
       "      <td>9.844</td>\n",
       "      <td>0.0</td>\n",
       "      <td>0.0</td>\n",
       "      <td>0.0</td>\n",
       "      <td>0.000</td>\n",
       "      <td>0.000</td>\n",
       "      <td>0.000</td>\n",
       "      <td>0.000</td>\n",
       "      <td>0.0</td>\n",
       "      <td>...</td>\n",
       "      <td>0.0</td>\n",
       "      <td>0.0</td>\n",
       "      <td>0.000</td>\n",
       "      <td>0.0</td>\n",
       "      <td>0.0</td>\n",
       "      <td>0.0</td>\n",
       "      <td>0.0</td>\n",
       "      <td>0.0</td>\n",
       "      <td>0.0</td>\n",
       "      <td>0.0</td>\n",
       "    </tr>\n",
       "    <tr>\n",
       "      <th>63958</th>\n",
       "      <td>0.000</td>\n",
       "      <td>0.000</td>\n",
       "      <td>9.5</td>\n",
       "      <td>0.0</td>\n",
       "      <td>0.0</td>\n",
       "      <td>0.000</td>\n",
       "      <td>0.000</td>\n",
       "      <td>0.000</td>\n",
       "      <td>0.000</td>\n",
       "      <td>0.0</td>\n",
       "      <td>...</td>\n",
       "      <td>0.0</td>\n",
       "      <td>0.0</td>\n",
       "      <td>0.000</td>\n",
       "      <td>0.0</td>\n",
       "      <td>0.0</td>\n",
       "      <td>0.0</td>\n",
       "      <td>0.0</td>\n",
       "      <td>0.0</td>\n",
       "      <td>0.0</td>\n",
       "      <td>0.0</td>\n",
       "    </tr>\n",
       "    <tr>\n",
       "      <th>63966</th>\n",
       "      <td>0.000</td>\n",
       "      <td>-1.750</td>\n",
       "      <td>0.0</td>\n",
       "      <td>0.0</td>\n",
       "      <td>0.0</td>\n",
       "      <td>5.094</td>\n",
       "      <td>0.000</td>\n",
       "      <td>0.000</td>\n",
       "      <td>0.000</td>\n",
       "      <td>0.0</td>\n",
       "      <td>...</td>\n",
       "      <td>0.0</td>\n",
       "      <td>0.0</td>\n",
       "      <td>0.000</td>\n",
       "      <td>0.0</td>\n",
       "      <td>0.0</td>\n",
       "      <td>0.0</td>\n",
       "      <td>0.0</td>\n",
       "      <td>0.0</td>\n",
       "      <td>0.0</td>\n",
       "      <td>0.0</td>\n",
       "    </tr>\n",
       "    <tr>\n",
       "      <th>63978</th>\n",
       "      <td>0.000</td>\n",
       "      <td>0.000</td>\n",
       "      <td>0.0</td>\n",
       "      <td>0.0</td>\n",
       "      <td>0.0</td>\n",
       "      <td>0.000</td>\n",
       "      <td>0.000</td>\n",
       "      <td>0.000</td>\n",
       "      <td>0.000</td>\n",
       "      <td>0.0</td>\n",
       "      <td>...</td>\n",
       "      <td>0.0</td>\n",
       "      <td>0.0</td>\n",
       "      <td>0.000</td>\n",
       "      <td>0.0</td>\n",
       "      <td>0.0</td>\n",
       "      <td>0.0</td>\n",
       "      <td>0.0</td>\n",
       "      <td>0.0</td>\n",
       "      <td>0.0</td>\n",
       "      <td>0.0</td>\n",
       "    </tr>\n",
       "  </tbody>\n",
       "</table>\n",
       "<p>7105 rows × 130 columns</p>\n",
       "</div>"
      ],
      "text/plain": [
       "jokeId    5      7    8    15   16     17     19     20     21   22   ...  \\\n",
       "userId                                                                ...   \n",
       "9       0.000  0.000  0.0  0.0  0.0  0.000  0.000 -5.938  0.000  0.0  ...   \n",
       "17      0.000  0.000  0.0  0.0  0.0  0.000  6.719  0.000  0.000  0.0  ...   \n",
       "41      8.594  0.000  0.0  0.0  0.0  0.000  0.000  0.000  9.969  0.0  ...   \n",
       "42     -6.562  0.000  0.0  0.0  0.0  0.000  0.000  0.000  0.000  0.0  ...   \n",
       "46      0.000  0.000  0.0  0.0  0.0  0.000  0.000  0.000  0.000  0.0  ...   \n",
       "...       ...    ...  ...  ...  ...    ...    ...    ...    ...  ...  ...   \n",
       "63951   0.000  0.000  0.0  0.0  0.0  0.000  0.000  0.000  0.000  0.0  ...   \n",
       "63957   0.000  9.844  0.0  0.0  0.0  0.000  0.000  0.000  0.000  0.0  ...   \n",
       "63958   0.000  0.000  9.5  0.0  0.0  0.000  0.000  0.000  0.000  0.0  ...   \n",
       "63966   0.000 -1.750  0.0  0.0  0.0  5.094  0.000  0.000  0.000  0.0  ...   \n",
       "63978   0.000  0.000  0.0  0.0  0.0  0.000  0.000  0.000  0.000  0.0  ...   \n",
       "\n",
       "jokeId  141  142    143  144  145  146  147  148  149  150  \n",
       "userId                                                      \n",
       "9       0.0  0.0  0.000  0.0  0.0  0.0  0.0  0.0  0.0  0.0  \n",
       "17      0.0  0.0  0.000  0.0  0.0  0.0  0.0  0.0  0.0  0.0  \n",
       "41      0.0  0.0  0.000  0.0  0.0  0.0  0.0  0.0  0.0  0.0  \n",
       "42      0.0  0.0  0.000  0.0  0.0  0.0  0.0  0.0  0.0  0.0  \n",
       "46      0.0  0.0  9.156  0.0  0.0  0.0  0.0  0.0  0.0  0.0  \n",
       "...     ...  ...    ...  ...  ...  ...  ...  ...  ...  ...  \n",
       "63951   0.0  0.0  0.000  0.0  0.0  0.0  0.0  0.0  0.0  0.0  \n",
       "63957   0.0  0.0  0.000  0.0  0.0  0.0  0.0  0.0  0.0  0.0  \n",
       "63958   0.0  0.0  0.000  0.0  0.0  0.0  0.0  0.0  0.0  0.0  \n",
       "63966   0.0  0.0  0.000  0.0  0.0  0.0  0.0  0.0  0.0  0.0  \n",
       "63978   0.0  0.0  0.000  0.0  0.0  0.0  0.0  0.0  0.0  0.0  \n",
       "\n",
       "[7105 rows x 130 columns]"
      ]
     },
     "execution_count": 213,
     "metadata": {},
     "output_type": "execute_result"
    }
   ],
   "source": [
    "# Creating a sparse matrix\n",
    "user_joke_matrix = train_df.pivot(index=\"userId\", columns=\"jokeId\", values=\"rating\").fillna(0)\n",
    "user_joke_matrix"
   ]
  },
  {
   "attachments": {},
   "cell_type": "markdown",
   "metadata": {},
   "source": [
    "## 6.1 SVD"
   ]
  },
  {
   "cell_type": "code",
   "execution_count": 414,
   "metadata": {},
   "outputs": [
    {
     "data": {
      "text/plain": [
       "(7105, 80)"
      ]
     },
     "execution_count": 414,
     "metadata": {},
     "output_type": "execute_result"
    }
   ],
   "source": [
    "# Performing SVD on the user-joke matrix\n",
    "U, s, VT = svd_decomposition(user_joke_matrix.values, n_elements=80)\n",
    "user_joke_matrix_svd = svd_transform(user_joke_matrix.values, VT)\n",
    "user_joke_matrix_svd.shape\n"
   ]
  },
  {
   "attachments": {},
   "cell_type": "markdown",
   "metadata": {},
   "source": [
    "## 6.2 KNN"
   ]
  },
  {
   "cell_type": "code",
   "execution_count": 415,
   "metadata": {},
   "outputs": [
    {
     "data": {
      "text/html": [
       "<div>\n",
       "<style scoped>\n",
       "    .dataframe tbody tr th:only-of-type {\n",
       "        vertical-align: middle;\n",
       "    }\n",
       "\n",
       "    .dataframe tbody tr th {\n",
       "        vertical-align: top;\n",
       "    }\n",
       "\n",
       "    .dataframe thead th {\n",
       "        text-align: right;\n",
       "    }\n",
       "</style>\n",
       "<table border=\"1\" class=\"dataframe\">\n",
       "  <thead>\n",
       "    <tr style=\"text-align: right;\">\n",
       "      <th>userId</th>\n",
       "      <th>9</th>\n",
       "      <th>17</th>\n",
       "      <th>41</th>\n",
       "      <th>42</th>\n",
       "      <th>46</th>\n",
       "      <th>49</th>\n",
       "      <th>51</th>\n",
       "      <th>54</th>\n",
       "      <th>64</th>\n",
       "      <th>65</th>\n",
       "      <th>...</th>\n",
       "      <th>63926</th>\n",
       "      <th>63927</th>\n",
       "      <th>63938</th>\n",
       "      <th>63944</th>\n",
       "      <th>63947</th>\n",
       "      <th>63951</th>\n",
       "      <th>63957</th>\n",
       "      <th>63958</th>\n",
       "      <th>63966</th>\n",
       "      <th>63978</th>\n",
       "    </tr>\n",
       "    <tr>\n",
       "      <th>userId</th>\n",
       "      <th></th>\n",
       "      <th></th>\n",
       "      <th></th>\n",
       "      <th></th>\n",
       "      <th></th>\n",
       "      <th></th>\n",
       "      <th></th>\n",
       "      <th></th>\n",
       "      <th></th>\n",
       "      <th></th>\n",
       "      <th></th>\n",
       "      <th></th>\n",
       "      <th></th>\n",
       "      <th></th>\n",
       "      <th></th>\n",
       "      <th></th>\n",
       "      <th></th>\n",
       "      <th></th>\n",
       "      <th></th>\n",
       "      <th></th>\n",
       "      <th></th>\n",
       "    </tr>\n",
       "  </thead>\n",
       "  <tbody>\n",
       "    <tr>\n",
       "      <th>9</th>\n",
       "      <td>1.000000</td>\n",
       "      <td>-0.003568</td>\n",
       "      <td>-0.007351</td>\n",
       "      <td>-0.011476</td>\n",
       "      <td>0.023290</td>\n",
       "      <td>-0.016165</td>\n",
       "      <td>-0.002272</td>\n",
       "      <td>-0.013460</td>\n",
       "      <td>-0.005680</td>\n",
       "      <td>-0.000605</td>\n",
       "      <td>...</td>\n",
       "      <td>0.000077</td>\n",
       "      <td>0.008439</td>\n",
       "      <td>0.000031</td>\n",
       "      <td>0.003467</td>\n",
       "      <td>-0.010267</td>\n",
       "      <td>0.001827</td>\n",
       "      <td>-0.000371</td>\n",
       "      <td>0.000031</td>\n",
       "      <td>0.000583</td>\n",
       "      <td>-0.000359</td>\n",
       "    </tr>\n",
       "    <tr>\n",
       "      <th>17</th>\n",
       "      <td>-0.003568</td>\n",
       "      <td>1.000000</td>\n",
       "      <td>0.006813</td>\n",
       "      <td>0.001372</td>\n",
       "      <td>-0.010234</td>\n",
       "      <td>0.013930</td>\n",
       "      <td>0.000612</td>\n",
       "      <td>0.009306</td>\n",
       "      <td>-0.003523</td>\n",
       "      <td>0.113631</td>\n",
       "      <td>...</td>\n",
       "      <td>0.000976</td>\n",
       "      <td>-0.011237</td>\n",
       "      <td>-0.000047</td>\n",
       "      <td>0.008430</td>\n",
       "      <td>-0.005506</td>\n",
       "      <td>-0.000866</td>\n",
       "      <td>0.000535</td>\n",
       "      <td>-0.000047</td>\n",
       "      <td>0.000628</td>\n",
       "      <td>0.000428</td>\n",
       "    </tr>\n",
       "    <tr>\n",
       "      <th>41</th>\n",
       "      <td>-0.007351</td>\n",
       "      <td>0.006813</td>\n",
       "      <td>1.000000</td>\n",
       "      <td>-0.002984</td>\n",
       "      <td>0.232338</td>\n",
       "      <td>-0.004885</td>\n",
       "      <td>-0.005484</td>\n",
       "      <td>0.407210</td>\n",
       "      <td>0.341282</td>\n",
       "      <td>0.456376</td>\n",
       "      <td>...</td>\n",
       "      <td>0.000758</td>\n",
       "      <td>0.002785</td>\n",
       "      <td>-0.000144</td>\n",
       "      <td>-0.009981</td>\n",
       "      <td>-0.000487</td>\n",
       "      <td>-0.008931</td>\n",
       "      <td>0.001644</td>\n",
       "      <td>-0.000144</td>\n",
       "      <td>-0.001098</td>\n",
       "      <td>-0.145417</td>\n",
       "    </tr>\n",
       "    <tr>\n",
       "      <th>42</th>\n",
       "      <td>-0.011476</td>\n",
       "      <td>0.001372</td>\n",
       "      <td>-0.002984</td>\n",
       "      <td>1.000000</td>\n",
       "      <td>-0.010059</td>\n",
       "      <td>0.006006</td>\n",
       "      <td>0.018506</td>\n",
       "      <td>-0.024432</td>\n",
       "      <td>-0.017106</td>\n",
       "      <td>-0.015240</td>\n",
       "      <td>...</td>\n",
       "      <td>-0.000973</td>\n",
       "      <td>0.030142</td>\n",
       "      <td>0.000290</td>\n",
       "      <td>0.011980</td>\n",
       "      <td>0.466712</td>\n",
       "      <td>-0.001071</td>\n",
       "      <td>-0.003327</td>\n",
       "      <td>0.000290</td>\n",
       "      <td>0.002979</td>\n",
       "      <td>0.001402</td>\n",
       "    </tr>\n",
       "    <tr>\n",
       "      <th>46</th>\n",
       "      <td>0.023290</td>\n",
       "      <td>-0.010234</td>\n",
       "      <td>0.232338</td>\n",
       "      <td>-0.010059</td>\n",
       "      <td>1.000000</td>\n",
       "      <td>-0.004566</td>\n",
       "      <td>-0.004753</td>\n",
       "      <td>-0.100321</td>\n",
       "      <td>0.216364</td>\n",
       "      <td>0.059116</td>\n",
       "      <td>...</td>\n",
       "      <td>0.001644</td>\n",
       "      <td>-0.026777</td>\n",
       "      <td>-0.000154</td>\n",
       "      <td>0.268660</td>\n",
       "      <td>0.016007</td>\n",
       "      <td>0.000453</td>\n",
       "      <td>0.001850</td>\n",
       "      <td>-0.000154</td>\n",
       "      <td>-0.000166</td>\n",
       "      <td>0.040277</td>\n",
       "    </tr>\n",
       "    <tr>\n",
       "      <th>...</th>\n",
       "      <td>...</td>\n",
       "      <td>...</td>\n",
       "      <td>...</td>\n",
       "      <td>...</td>\n",
       "      <td>...</td>\n",
       "      <td>...</td>\n",
       "      <td>...</td>\n",
       "      <td>...</td>\n",
       "      <td>...</td>\n",
       "      <td>...</td>\n",
       "      <td>...</td>\n",
       "      <td>...</td>\n",
       "      <td>...</td>\n",
       "      <td>...</td>\n",
       "      <td>...</td>\n",
       "      <td>...</td>\n",
       "      <td>...</td>\n",
       "      <td>...</td>\n",
       "      <td>...</td>\n",
       "      <td>...</td>\n",
       "      <td>...</td>\n",
       "    </tr>\n",
       "    <tr>\n",
       "      <th>63951</th>\n",
       "      <td>0.001827</td>\n",
       "      <td>-0.000866</td>\n",
       "      <td>-0.008931</td>\n",
       "      <td>-0.001071</td>\n",
       "      <td>0.000453</td>\n",
       "      <td>-0.000711</td>\n",
       "      <td>0.005706</td>\n",
       "      <td>-0.004087</td>\n",
       "      <td>0.189564</td>\n",
       "      <td>0.009040</td>\n",
       "      <td>...</td>\n",
       "      <td>0.000278</td>\n",
       "      <td>0.004669</td>\n",
       "      <td>-0.000026</td>\n",
       "      <td>0.283282</td>\n",
       "      <td>0.002494</td>\n",
       "      <td>1.000000</td>\n",
       "      <td>0.000302</td>\n",
       "      <td>-0.000026</td>\n",
       "      <td>-0.000013</td>\n",
       "      <td>0.167743</td>\n",
       "    </tr>\n",
       "    <tr>\n",
       "      <th>63957</th>\n",
       "      <td>-0.000371</td>\n",
       "      <td>0.000535</td>\n",
       "      <td>0.001644</td>\n",
       "      <td>-0.003327</td>\n",
       "      <td>0.001850</td>\n",
       "      <td>0.000353</td>\n",
       "      <td>0.000837</td>\n",
       "      <td>-0.002642</td>\n",
       "      <td>-0.000181</td>\n",
       "      <td>0.002784</td>\n",
       "      <td>...</td>\n",
       "      <td>0.714459</td>\n",
       "      <td>0.000894</td>\n",
       "      <td>0.000053</td>\n",
       "      <td>-0.090636</td>\n",
       "      <td>0.000322</td>\n",
       "      <td>0.000302</td>\n",
       "      <td>1.000000</td>\n",
       "      <td>0.000053</td>\n",
       "      <td>-0.325114</td>\n",
       "      <td>0.000095</td>\n",
       "    </tr>\n",
       "    <tr>\n",
       "      <th>63958</th>\n",
       "      <td>0.000031</td>\n",
       "      <td>-0.000047</td>\n",
       "      <td>-0.000144</td>\n",
       "      <td>0.000290</td>\n",
       "      <td>-0.000154</td>\n",
       "      <td>-0.000032</td>\n",
       "      <td>-0.000075</td>\n",
       "      <td>0.000228</td>\n",
       "      <td>0.000014</td>\n",
       "      <td>-0.000242</td>\n",
       "      <td>...</td>\n",
       "      <td>0.000041</td>\n",
       "      <td>-0.000079</td>\n",
       "      <td>1.000000</td>\n",
       "      <td>-0.000051</td>\n",
       "      <td>-0.000032</td>\n",
       "      <td>-0.000026</td>\n",
       "      <td>0.000053</td>\n",
       "      <td>1.000000</td>\n",
       "      <td>-0.000014</td>\n",
       "      <td>-0.000008</td>\n",
       "    </tr>\n",
       "    <tr>\n",
       "      <th>63966</th>\n",
       "      <td>0.000583</td>\n",
       "      <td>0.000628</td>\n",
       "      <td>-0.001098</td>\n",
       "      <td>0.002979</td>\n",
       "      <td>-0.000166</td>\n",
       "      <td>-0.000634</td>\n",
       "      <td>-0.002275</td>\n",
       "      <td>-0.002418</td>\n",
       "      <td>0.000927</td>\n",
       "      <td>-0.000031</td>\n",
       "      <td>...</td>\n",
       "      <td>0.429387</td>\n",
       "      <td>-0.000440</td>\n",
       "      <td>-0.000014</td>\n",
       "      <td>0.027845</td>\n",
       "      <td>0.001805</td>\n",
       "      <td>-0.000013</td>\n",
       "      <td>-0.325114</td>\n",
       "      <td>-0.000014</td>\n",
       "      <td>1.000000</td>\n",
       "      <td>-0.000036</td>\n",
       "    </tr>\n",
       "    <tr>\n",
       "      <th>63978</th>\n",
       "      <td>-0.000359</td>\n",
       "      <td>0.000428</td>\n",
       "      <td>-0.145417</td>\n",
       "      <td>0.001402</td>\n",
       "      <td>0.040277</td>\n",
       "      <td>0.000450</td>\n",
       "      <td>0.000445</td>\n",
       "      <td>-0.004972</td>\n",
       "      <td>-0.082651</td>\n",
       "      <td>-0.023831</td>\n",
       "      <td>...</td>\n",
       "      <td>0.000064</td>\n",
       "      <td>-0.002443</td>\n",
       "      <td>-0.000008</td>\n",
       "      <td>-0.000873</td>\n",
       "      <td>-0.001428</td>\n",
       "      <td>0.167743</td>\n",
       "      <td>0.000095</td>\n",
       "      <td>-0.000008</td>\n",
       "      <td>-0.000036</td>\n",
       "      <td>1.000000</td>\n",
       "    </tr>\n",
       "  </tbody>\n",
       "</table>\n",
       "<p>7105 rows × 7105 columns</p>\n",
       "</div>"
      ],
      "text/plain": [
       "userId     9         17        41        42        46        49        51     \\\n",
       "userId                                                                         \n",
       "9       1.000000 -0.003568 -0.007351 -0.011476  0.023290 -0.016165 -0.002272   \n",
       "17     -0.003568  1.000000  0.006813  0.001372 -0.010234  0.013930  0.000612   \n",
       "41     -0.007351  0.006813  1.000000 -0.002984  0.232338 -0.004885 -0.005484   \n",
       "42     -0.011476  0.001372 -0.002984  1.000000 -0.010059  0.006006  0.018506   \n",
       "46      0.023290 -0.010234  0.232338 -0.010059  1.000000 -0.004566 -0.004753   \n",
       "...          ...       ...       ...       ...       ...       ...       ...   \n",
       "63951   0.001827 -0.000866 -0.008931 -0.001071  0.000453 -0.000711  0.005706   \n",
       "63957  -0.000371  0.000535  0.001644 -0.003327  0.001850  0.000353  0.000837   \n",
       "63958   0.000031 -0.000047 -0.000144  0.000290 -0.000154 -0.000032 -0.000075   \n",
       "63966   0.000583  0.000628 -0.001098  0.002979 -0.000166 -0.000634 -0.002275   \n",
       "63978  -0.000359  0.000428 -0.145417  0.001402  0.040277  0.000450  0.000445   \n",
       "\n",
       "userId     54        64        65     ...     63926     63927     63938  \\\n",
       "userId                                ...                                 \n",
       "9      -0.013460 -0.005680 -0.000605  ...  0.000077  0.008439  0.000031   \n",
       "17      0.009306 -0.003523  0.113631  ...  0.000976 -0.011237 -0.000047   \n",
       "41      0.407210  0.341282  0.456376  ...  0.000758  0.002785 -0.000144   \n",
       "42     -0.024432 -0.017106 -0.015240  ... -0.000973  0.030142  0.000290   \n",
       "46     -0.100321  0.216364  0.059116  ...  0.001644 -0.026777 -0.000154   \n",
       "...          ...       ...       ...  ...       ...       ...       ...   \n",
       "63951  -0.004087  0.189564  0.009040  ...  0.000278  0.004669 -0.000026   \n",
       "63957  -0.002642 -0.000181  0.002784  ...  0.714459  0.000894  0.000053   \n",
       "63958   0.000228  0.000014 -0.000242  ...  0.000041 -0.000079  1.000000   \n",
       "63966  -0.002418  0.000927 -0.000031  ...  0.429387 -0.000440 -0.000014   \n",
       "63978  -0.004972 -0.082651 -0.023831  ...  0.000064 -0.002443 -0.000008   \n",
       "\n",
       "userId     63944     63947     63951     63957     63958     63966     63978  \n",
       "userId                                                                        \n",
       "9       0.003467 -0.010267  0.001827 -0.000371  0.000031  0.000583 -0.000359  \n",
       "17      0.008430 -0.005506 -0.000866  0.000535 -0.000047  0.000628  0.000428  \n",
       "41     -0.009981 -0.000487 -0.008931  0.001644 -0.000144 -0.001098 -0.145417  \n",
       "42      0.011980  0.466712 -0.001071 -0.003327  0.000290  0.002979  0.001402  \n",
       "46      0.268660  0.016007  0.000453  0.001850 -0.000154 -0.000166  0.040277  \n",
       "...          ...       ...       ...       ...       ...       ...       ...  \n",
       "63951   0.283282  0.002494  1.000000  0.000302 -0.000026 -0.000013  0.167743  \n",
       "63957  -0.090636  0.000322  0.000302  1.000000  0.000053 -0.325114  0.000095  \n",
       "63958  -0.000051 -0.000032 -0.000026  0.000053  1.000000 -0.000014 -0.000008  \n",
       "63966   0.027845  0.001805 -0.000013 -0.325114 -0.000014  1.000000 -0.000036  \n",
       "63978  -0.000873 -0.001428  0.167743  0.000095 -0.000008 -0.000036  1.000000  \n",
       "\n",
       "[7105 rows x 7105 columns]"
      ]
     },
     "execution_count": 415,
     "metadata": {},
     "output_type": "execute_result"
    }
   ],
   "source": [
    "from sklearn.metrics.pairwise import cosine_similarity\n",
    "\n",
    "# compute pairwise similarity matrix of all the users in the user_joke_matrix_svd.\n",
    "similarities = cosine_similarity(user_joke_matrix_svd)\n",
    "\n",
    "# put the similarity scores in a dataframe.\n",
    "cosine_similarity_df = pd.DataFrame(similarities, index = user_joke_matrix.index, columns = user_joke_matrix.index)\n",
    "cosine_similarity_df"
   ]
  },
  {
   "attachments": {},
   "cell_type": "markdown",
   "metadata": {},
   "source": [
    "To evaluate the performance of this model we generate prediction ratings for each users based on their nearest neighbours. Then we compute MSE score to get evaluation metrix."
   ]
  },
  {
   "cell_type": "code",
   "execution_count": 509,
   "metadata": {},
   "outputs": [],
   "source": [
    "def knn_evaluate(df, n):\n",
    "     # create user_joke matrix from the dataframe.\n",
    "    user_joke_matrix = df.pivot(index=\"userId\", columns=\"jokeId\", values=\"rating\").fillna(0)\n",
    "    # keep track of index in the matrix to cusotmer id using a dict.\n",
    "    idx2user_id = {v: k for v, k in enumerate(user_joke_matrix.index)}\n",
    "    # do SVD decomposition on user_joke matrix.\n",
    "    U, Sigma, VT_test = svd_decomposition(user_joke_matrix.values, n_elements=80)\n",
    "    # get transformed matrix from the SVD.\n",
    "    user_joke_matrix_svd = svd_transform(user_joke_matrix.values, VT_test)\n",
    "\n",
    "    pred_matrix = []\n",
    "    # now iterate over all the users in the user_joke_matrix to create predictions.\n",
    "    for i, r in user_joke_matrix.iterrows():\n",
    "        ratings = r.values\n",
    "        # indexes of jokes rated by this user.\n",
    "        rated_idxs = np.where(ratings != 0)[0]\n",
    "        # get vector of this using SVD.\n",
    "        ratings_svd = svd_transform(ratings.reshape((1, -1)), VT_test)\n",
    "        \n",
    "         # compute similarity score of this user against all the users.\n",
    "        user_similarity = np.dot(ratings_svd, user_joke_matrix_svd.T).flatten()\n",
    "\n",
    "         # get the n users with largest similarity.\n",
    "        neighbors = (-user_similarity).argsort()[:n]\n",
    "        # get customer ids from the indices of the neighbor.\n",
    "        user_idxs = [idx2user_id[n] for n in neighbors]\n",
    "        # get all the ratings for each neighbors.\n",
    "        neighbor_ratings = user_joke_matrix.loc[user_idxs].values[:,rated_idxs]\n",
    "        predicted_ratings = []\n",
    "        # iterate over each jokes (columns)\n",
    "        for col_idx in range(neighbor_ratings.shape[1]):\n",
    "            non_zero_indices = np.nonzero(neighbor_ratings[:, col_idx])[0]\n",
    "            if len(non_zero_indices) == 0:\n",
    "                predicted_ratings.append(0)\n",
    "            else:\n",
    "                 # predicted rating is the mean of rating for this joke by all the neighbors.\n",
    "                pred = np.mean(neighbor_ratings[:, col_idx][non_zero_indices])\n",
    "                predicted_ratings.append(pred)\n",
    "        pred_ratings = np.zeros(VT_test.shape[1])\n",
    "        # put the predicted ratings in appropriates indices.\n",
    "        np.put(pred_ratings, rated_idxs, predicted_ratings)\n",
    "        pred_matrix.append(pred_ratings)\n",
    "        \n",
    "    # finally compute MSE between original ratings vs. predicted ratings based on neighbors.\n",
    "    mse = np.mean((user_joke_matrix.values - np.array(pred_matrix))**2)\n",
    "    return mse"
   ]
  },
  {
   "attachments": {},
   "cell_type": "markdown",
   "metadata": {},
   "source": [
    "To pick the optimal number of nearest neighbour for our model we plot the MSE with different values of nearest neighbours. We observe that MSE decreses sharply till 140 nearest neighnbours and then platues. Therefoure, we chose 140 as the optimal nearest neighbours using validation dataset."
   ]
  },
  {
   "cell_type": "code",
   "execution_count": 510,
   "metadata": {},
   "outputs": [
    {
     "data": {
      "image/png": "[encoded data removed]",
      "text/plain": [
       "<Figure size 640x480 with 1 Axes>"
      ]
     },
     "metadata": {},
     "output_type": "display_data"
    }
   ],
   "source": [
    "# Get the best value for hyperparameter \"n neighbors\" by computing MSE for a range of values using validation set.\n",
    "x, y = [], []\n",
    "for n in range(10, 210, 10):\n",
    "    mse = knn_evaluate(val_df, n=n)\n",
    "    y.append(mse)\n",
    "    x.append(n)\n",
    "\n",
    "plt.plot(x, y)\n",
    "plt.axvline(x=140, color='r')\n",
    "plt.title('Optimal number of neighbors for KNN')\n",
    "plt.xlabel('Number of neighbors')\n",
    "plt.ylabel(\"MSE on validation set\")\n",
    "plt.show()"
   ]
  },
  {
   "cell_type": "code",
   "execution_count": 519,
   "metadata": {},
   "outputs": [],
   "source": [
    "# Recommender system using KNN\n",
    "def knn_recommend(userId, n):\n",
    "    user_rated_jokes = user_joke_matrix.loc[userId]\n",
    "    rated_joke_ids = user_rated_jokes[user_rated_jokes > 0].index.tolist()\n",
    "    # using similarity df to find the nearest neighbour\n",
    "    user_similarity_series = cosine_similarity_df.loc[userId]\n",
    "    orders_similarities = user_similarity_series.sort_values(ascending=False)\n",
    "    user_idxs = orders_similarities[1:n+1].index.tolist()\n",
    "    # creating a set to store the indexes of jokes that have been rated highly by the customer's nearest neighbors\n",
    "    joke_ids = set()\n",
    "    # select the highest ratings made by nearest neighbor and adding it to joke_ids\n",
    "    for userId in user_idxs:\n",
    "        ratings = user_joke_matrix.loc[userId]\n",
    "        ratings = ratings[ratings > 5].index.values\n",
    "        for jokeId in ratings:\n",
    "            joke_ids.add(jokeId)\n",
    "    print('------------------------------------------')\n",
    "    print('Recommended jokes based on similar users:')\n",
    "    print('------------------------------------------')\n",
    "    for jokeId in list(joke_ids)[:5]:\n",
    "        if jokeId not in rated_joke_ids:\n",
    "            print(jokeId, sample_df[sample_df['jokeId']==jokeId].iloc[0]['jokeText'])"
   ]
  },
  {
   "cell_type": "code",
   "execution_count": 520,
   "metadata": {},
   "outputs": [
    {
     "name": "stdout",
     "output_type": "stream",
     "text": [
      "------------------------------------------\n",
      "Recommended jokes based on similar users:\n",
      "------------------------------------------\n",
      "16 Q. What is orange and sounds like a parrot?  \n",
      "\n",
      "A. A carrot.\n",
      "\n",
      "17 How many men does it take to screw in a light bulb? \n",
      "\n",
      "One...men will screw anything. \n",
      "\n",
      "23 Q: What is the Australian word for a boomerang that won't\n",
      "   come back? \n",
      "\n",
      "A: A stick\n",
      "\n",
      "25 Two kindergarten girls were talking outside: one said, \"You\n",
      "won't believe what I saw on the patio yesterday--a condom!\"\n",
      "\n",
      "The second girl asked, \"What's a patio?\"\n",
      "\n",
      "28 A mechanical, electrical and a software engineer from Microsoft were\n",
      "driving through the desert when the car broke down. The mechanical\n",
      "engineer said \"It seems to be a problem with the fuel injection system,\n",
      "why don't we pop the hood and I'll take a look at it.\" To which the\n",
      "electrical engineer replied, \"No I think it's just a loose ground wire,\n",
      "I'll get out and take a look.\" Then, the Microsoft engineer jumps in.\n",
      "\"No, no, no. If we just close up all the windows, get out, wait a few\n",
      "minutes, get back in, and then reopen the windows everything will work\n",
      "fine.\"\n",
      "\n"
     ]
    }
   ],
   "source": [
    "# Checking recommendations for user based on the similar users ratings\n",
    "knn_recommend(46, n=140)"
   ]
  },
  {
   "attachments": {},
   "cell_type": "markdown",
   "metadata": {},
   "source": [
    "## 6.3 Performance evaluation for KNN"
   ]
  },
  {
   "cell_type": "code",
   "execution_count": 514,
   "metadata": {},
   "outputs": [
    {
     "data": {
      "text/plain": [
       "0.06737553635437356"
      ]
     },
     "execution_count": 514,
     "metadata": {},
     "output_type": "execute_result"
    }
   ],
   "source": [
    "# Finally compute the MSE score using the test set using the same evaluation function as above.\n",
    "knn_evaluate(test_df, n=140)"
   ]
  },
  {
   "attachments": {},
   "cell_type": "markdown",
   "metadata": {},
   "source": [
    "# 7. Conclusion"
   ]
  },
  {
   "attachments": {},
   "cell_type": "markdown",
   "metadata": {},
   "source": [
    "In this notebook we developed two different models for joke recommendations. The first model used SVD to perform dimentionality reduction on user joke ratings data and recommended new jokes to the user based on higest similarity of the users highest rated joke.\n",
    "\n",
    "Similarly, In the second model we performed SVD on the dataset and recommended new jokes to the user based on user similarity using KNN method. We got n closet neighnour of the user based on their ratings history and provided recommendation based on the negibours heigest rated jokes.\n",
    "\n",
    "We used MSE to evaluate both of these models. While the MSE scores are very close the SVD joke similarity model slightly out performend the knn similarity model.\n",
    "\n",
    "In conclusion, We recommend using both joke similarity and user similarity methods to provide a diverse set of recommendation to the users."
   ]
  }
 ],
 "metadata": {
  "kernelspec": {
   "display_name": "py39",
   "language": "python",
   "name": "python3"
  },
  "language_info": {
   "codemirror_mode": {
    "name": "ipython",
    "version": 3
   },
   "file_extension": ".py",
   "mimetype": "text/x-python",
   "name": "python",
   "nbconvert_exporter": "python",
   "pygments_lexer": "ipython3",
   "version": "3.9.16"
  },
  "orig_nbformat": 4
 },
 "nbformat": 4,
 "nbformat_minor": 2
}
